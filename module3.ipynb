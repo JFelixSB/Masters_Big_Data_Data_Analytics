{
 "cells": [
  {
   "metadata": {},
   "cell_type": "markdown",
   "source": "# MODULE 3 - Basis of Statistical Reasoning",
   "id": "7711a10ef84e8a5d"
  },
  {
   "metadata": {},
   "cell_type": "markdown",
   "source": [
    "## 3.1.1 Probability Example\n",
    "\n",
    "> P(P) = (# of transactions where P was bought)/ n"
   ],
   "id": "b906e53006c9e263"
  },
  {
   "metadata": {
    "ExecuteTime": {
     "end_time": "2025-06-25T17:08:52.773505Z",
     "start_time": "2025-06-25T17:08:52.770091Z"
    }
   },
   "cell_type": "code",
   "source": "import pandas as pd",
   "id": "9e04d5e88f040f97",
   "outputs": [],
   "execution_count": 75
  },
  {
   "metadata": {
    "ExecuteTime": {
     "end_time": "2025-06-25T00:02:35.239326Z",
     "start_time": "2025-06-25T00:02:35.232350Z"
    }
   },
   "cell_type": "code",
   "source": [
    "# Suppose 'transactions' is a pandas DF, where each row is a transaction\n",
    "# and there is a col named 'products' where it lists all the products in that\n",
    "# transaction\n",
    "transactions = pd.read_csv('example_files/transactions.csv')\n",
    "print(transactions)\n",
    "\n",
    "# Count total # of transactions\n",
    "total_transactions = len(transactions)\n",
    "print('Total transactions = ',total_transactions)\n",
    "\n",
    "# Just out of curiosity to learn how to pick out elements of a DF\n",
    "for i,j in transactions.iterrows():\n",
    "    if 'P' in j['products']:\n",
    "        print(i, j)\n",
    "\n",
    "\n",
    "# Count # of transactions where P was bought\n",
    "product_p_transactions = transactions['products'].apply(lambda x: 'P' in x).sum()\n",
    "print('Product P transactions = ', product_p_transactions)\n",
    "\n",
    "# Calculate probability\n",
    "p_p = product_p_transactions / total_transactions\n",
    "print('P(P) = ', p_p)"
   ],
   "id": "586834baf096170e",
   "outputs": [
    {
     "name": "stdout",
     "output_type": "stream",
     "text": [
      "  products\n",
      "0    A,B,P\n",
      "1      C,D\n",
      "2        P\n",
      "3    A,P,D\n",
      "4        E\n",
      "5      B,C\n",
      "6      P,E\n",
      "7        A\n",
      "8      D,P\n",
      "Total transactions =  9\n",
      "row:  0 products    A,B,P\n",
      "Name: 0, dtype: object\n",
      "row:  2 products    P\n",
      "Name: 2, dtype: object\n",
      "row:  3 products    A,P,D\n",
      "Name: 3, dtype: object\n",
      "row:  6 products    P,E\n",
      "Name: 6, dtype: object\n",
      "row:  8 products    D,P\n",
      "Name: 8, dtype: object\n",
      "Product P transactions =  5\n",
      "P(P) =  0.5555555555555556\n"
     ]
    }
   ],
   "execution_count": 23
  },
  {
   "metadata": {},
   "cell_type": "markdown",
   "source": "",
   "id": "a65eceab369b6f75"
  },
  {
   "metadata": {},
   "cell_type": "markdown",
   "source": "## 3.1.2.1 Sample Space",
   "id": "636a3d32ac3dcf73"
  },
  {
   "metadata": {
    "ExecuteTime": {
     "end_time": "2025-06-25T17:08:56.474035Z",
     "start_time": "2025-06-25T17:08:56.470970Z"
    }
   },
   "cell_type": "code",
   "source": "import numpy as np",
   "id": "951e3305fac7ff8d",
   "outputs": [],
   "execution_count": 76
  },
  {
   "metadata": {
    "ExecuteTime": {
     "end_time": "2025-06-25T01:56:08.392439Z",
     "start_time": "2025-06-25T01:56:08.382111Z"
    }
   },
   "cell_type": "code",
   "source": [
    "ecommerce_data = pd.read_csv('example_files/ecommerce.csv')\n",
    "print(ecommerce_data)\n",
    "\n",
    "product_sample_space = ecommerce_data['product'].unique()\n",
    "print(product_sample_space, '\\n')\n",
    "\n",
    "num_possible_outcomes = len(product_sample_space)\n",
    "print('Number of possible outcomes = ', num_possible_outcomes, '\\n')\n",
    "\n",
    "amount_spent_sample_space = np.linspace(ecommerce_data['amount_spent'].min(), ecommerce_data['amount_spent'].max(), 1000)\n",
    "# print('Amount spent space = ', amount_spent_sample_space)\n",
    "\n",
    "length_of_sample_space = amount_spent_sample_space[-1] - amount_spent_sample_space[0]\n",
    "print('Length of sample space = ', length_of_sample_space, '\\n')\n",
    "\n",
    "event_product_A = ecommerce_data[ecommerce_data['product'] == 'A']\n",
    "print('Event product A\\n', event_product_A, '\\n')\n",
    "\n",
    "event_spent_over_100 = ecommerce_data[ecommerce_data['amount_spent'] > 100]\n",
    "print('Event spent over 100\\n', event_spent_over_100)\n",
    "\n",
    "\n"
   ],
   "id": "8deb5095d0edb2c7",
   "outputs": [
    {
     "name": "stdout",
     "output_type": "stream",
     "text": [
      "  product  amount_spent\n",
      "0       A           120\n",
      "1       B            80\n",
      "2       C           200\n",
      "3       A            90\n",
      "4       D           150\n",
      "5       B            60\n",
      "6       E           300\n",
      "7       A           100\n",
      "8       C            50\n",
      "9       D           130\n",
      "['A' 'B' 'C' 'D' 'E'] \n",
      "\n",
      "Number of possible outcomes =  5 \n",
      "\n",
      "Length of sample space =  250.0 \n",
      "\n",
      "Event product A\n",
      "   product  amount_spent\n",
      "0       A           120\n",
      "3       A            90\n",
      "7       A           100 \n",
      "\n",
      "Event spent over 100\n",
      "   product  amount_spent\n",
      "0       A           120\n",
      "2       C           200\n",
      "4       D           150\n",
      "6       E           300\n",
      "9       D           130\n"
     ]
    }
   ],
   "execution_count": 33
  },
  {
   "metadata": {},
   "cell_type": "code",
   "outputs": [],
   "execution_count": null,
   "source": "",
   "id": "15ee45c46d50997e"
  },
  {
   "metadata": {},
   "cell_type": "markdown",
   "source": [
    "## 3.2.1.3 Independent Events\n",
    "\n",
    "P(A ^ B) = P(A) * P(B) if A and B are independent events"
   ],
   "id": "3d10857d45814269"
  },
  {
   "metadata": {
    "ExecuteTime": {
     "end_time": "2025-06-25T02:42:07.191827Z",
     "start_time": "2025-06-25T02:42:07.167429Z"
    }
   },
   "cell_type": "code",
   "source": [
    "transaction_data = pd.read_csv('example_files/ecommerce.csv')\n",
    "print(transaction_data,'\\n')\n",
    "\n",
    "transaction_data = transaction_data.drop(columns='amount_spent')\n",
    "print('Dropped amount_spent col\\n', transaction_data,'\\n')\n",
    "\n",
    "transaction_data['id'] = transaction_data.index\n",
    "print('Added id col\\n', transaction_data,'\\n')\n",
    "\n",
    "event_A = transaction_data[transaction_data['product'] == 'A']\n",
    "print('Event A\\n', event_A, '\\n')\n",
    "\n",
    "event_B = transaction_data[transaction_data['product'] == 'B']\n",
    "print('Event B\\n', event_B, '\\n')\n",
    "\n",
    "p_A = len(event_A)/len(transaction_data)\n",
    "print('P(A) = ', p_A)\n",
    "\n",
    "p_B = len(event_B)/len(transaction_data)\n",
    "print('P(B) = ', p_B)\n",
    "\n",
    "# Calculate P(A and B) using inner join on id\n",
    "p_A_and_B = len(pd.merge(event_A, event_B, on='id'))/len(transaction_data)\n",
    "print('P(A and B) = ', p_A_and_B)\n",
    "\n",
    "if p_A_and_B == p_A * p_B:\n",
    "    print('P(A) and P(B) are independent')\n",
    "else:\n",
    "    print('P(A) and P(B) are not independent')\n"
   ],
   "id": "d71bd69ca386f14b",
   "outputs": [
    {
     "name": "stdout",
     "output_type": "stream",
     "text": [
      "  product  amount_spent\n",
      "0       A           120\n",
      "1       B            80\n",
      "2       C           200\n",
      "3       A            90\n",
      "4       D           150\n",
      "5       B            60\n",
      "6       E           300\n",
      "7       A           100\n",
      "8       C            50\n",
      "9       D           130 \n",
      "\n",
      "Dropped amount_spent col\n",
      "   product\n",
      "0       A\n",
      "1       B\n",
      "2       C\n",
      "3       A\n",
      "4       D\n",
      "5       B\n",
      "6       E\n",
      "7       A\n",
      "8       C\n",
      "9       D \n",
      "\n",
      "Added id col\n",
      "   product  id\n",
      "0       A   0\n",
      "1       B   1\n",
      "2       C   2\n",
      "3       A   3\n",
      "4       D   4\n",
      "5       B   5\n",
      "6       E   6\n",
      "7       A   7\n",
      "8       C   8\n",
      "9       D   9 \n",
      "\n",
      "Event A\n",
      "   product  id\n",
      "0       A   0\n",
      "3       A   3\n",
      "7       A   7 \n",
      "\n",
      "Event B\n",
      "   product  id\n",
      "1       B   1\n",
      "5       B   5 \n",
      "\n",
      "P(A) =  0.3\n",
      "P(B) =  0.2\n",
      "P(A and B) =  0.0\n",
      "P(A) and P(B) are not independent\n"
     ]
    }
   ],
   "execution_count": 43
  },
  {
   "metadata": {},
   "cell_type": "markdown",
   "source": "",
   "id": "8f826dd1b7ed5f2b"
  },
  {
   "metadata": {},
   "cell_type": "markdown",
   "source": "## 3.3.2 Construction of a Probability Space\n",
   "id": "a98342b7df9430d9"
  },
  {
   "metadata": {
    "ExecuteTime": {
     "end_time": "2025-06-25T03:09:52.693129Z",
     "start_time": "2025-06-25T03:09:52.682402Z"
    }
   },
   "cell_type": "code",
   "source": [
    "transaction_data = pd.read_csv('example_files/transactions_probability_space.csv')\n",
    "print(transaction_data,'\\n')\n",
    "\n",
    "sample_space = transaction_data['itemset'].unique()\n",
    "print(sample_space, '\\n')\n",
    "\n",
    "event_A = transaction_data[transaction_data['total'] > 100]\n",
    "print('Event A\\n', event_A, '\\n')\n",
    "\n",
    "event_B = transaction_data[transaction_data['itemset'].str.contains('Fruit-Vegetable')]\n",
    "print('Event B\\n', event_B, '\\n')\n",
    "\n",
    "p_A = len(event_A)/len(transaction_data)\n",
    "print('P(A) = ', p_A)\n",
    "\n",
    "p_B = len(event_B)/len(transaction_data)\n",
    "print('P(B) = ', p_B)"
   ],
   "id": "3d303374a312456e",
   "outputs": [
    {
     "name": "stdout",
     "output_type": "stream",
     "text": [
      "           itemset  total\n",
      "0       Milk-Bread     45\n",
      "1            Fruit    120\n",
      "2        Vegetable    110\n",
      "3            Fruit     80\n",
      "4        Meat-Eggs    130\n",
      "5       Bread-Milk     95\n",
      "6  Fruit-Vegetable    150\n",
      "7        Milk-Eggs     40\n",
      "8           Cereal     50\n",
      "9  Fruit-Vegetable     90 \n",
      "\n",
      "['Milk-Bread' 'Fruit' 'Vegetable' 'Meat-Eggs' 'Bread-Milk'\n",
      " 'Fruit-Vegetable' 'Milk-Eggs' 'Cereal'] \n",
      "\n",
      "Event A\n",
      "            itemset  total\n",
      "1            Fruit    120\n",
      "2        Vegetable    110\n",
      "4        Meat-Eggs    130\n",
      "6  Fruit-Vegetable    150 \n",
      "\n",
      "Event B\n",
      "            itemset  total\n",
      "6  Fruit-Vegetable    150\n",
      "9  Fruit-Vegetable     90 \n",
      "\n",
      "P(A) =  0.4\n",
      "P(B) =  0.2\n"
     ]
    }
   ],
   "execution_count": 55
  },
  {
   "metadata": {},
   "cell_type": "markdown",
   "source": "",
   "id": "af19b31b72f04197"
  },
  {
   "metadata": {},
   "cell_type": "markdown",
   "source": "## 3.4.1 Kolmogorov Axiom\n",
   "id": "a9daf501b2f81dcb"
  },
  {
   "metadata": {
    "ExecuteTime": {
     "end_time": "2025-06-25T14:44:48.320603Z",
     "start_time": "2025-06-25T14:44:48.301260Z"
    }
   },
   "cell_type": "code",
   "source": [
    "# Define sample space for a 6-side fair die\n",
    "sample_space = np.array([1,2,3,4,5,6])\n",
    "print(sample_space, '\\n')\n",
    "\n",
    "# Compute the probability of each result\n",
    "probabilities = np.full(6, 1/6)\n",
    "print(probabilities, '\\n')\n",
    "\n",
    "# Axiom 1 - Non-negativity\n",
    "assert np.all(probabilities >= 0)\n",
    "\n",
    "# Axiom 2 - Normality\n",
    "assert np.isclose(np.sum(probabilities), 1)\n",
    "\n",
    "# Event A - Obtaining an even number\n",
    "event_A = sample_space[sample_space % 2 == 0]\n",
    "print('Event A\\n', event_A, '\\n')\n",
    "\n",
    "# Event B - Obtaining an odd number\n",
    "event_B = sample_space[sample_space % 2 != 0]\n",
    "print('Event B\\n', event_B, '\\n')\n",
    "\n",
    "# Axiom 3 - Countable additivity\n",
    "assert np.isclose(\n",
    "    np.sum(probabilities[event_A - 1]) + np.sum(probabilities[event_B - 1]), 1)\n",
    "\n",
    "\n",
    "\n"
   ],
   "id": "450c9f3494b78ad5",
   "outputs": [
    {
     "name": "stdout",
     "output_type": "stream",
     "text": [
      "[1 2 3 4 5 6] \n",
      "\n",
      "[0.16666667 0.16666667 0.16666667 0.16666667 0.16666667 0.16666667] \n",
      "\n",
      "Event A\n",
      " [2 4 6] \n",
      "\n",
      "Event B\n",
      " [1 3 5] \n",
      "\n"
     ]
    }
   ],
   "execution_count": 56
  },
  {
   "metadata": {},
   "cell_type": "code",
   "outputs": [],
   "execution_count": null,
   "source": "",
   "id": "956cd8142ce7262d"
  },
  {
   "metadata": {},
   "cell_type": "markdown",
   "source": [
    "## 3.4.2 Properties and Theorems\n",
    "\n",
    "### Complement Property\n",
    "$ P(A^c) = 1 - P(A) $\n",
    "\n",
    "### Total Probability Theorem\n",
    "$ P(B) = \\sum_{i=1}^n [P(B|A_i) * P(A_i)] $\n",
    "<br>\n",
    "$ P(A) = P(A|B)*P(B) + P(A|\\sim B)*P(\\sim B) $\n",
    "\n",
    "### Conditional Probability Theorem\n",
    "$P(A|B) = \\frac{P(A \\cap B)}{P(B)}$ if P(B) > 0"
   ],
   "id": "a5f7c663dd16d02"
  },
  {
   "metadata": {
    "ExecuteTime": {
     "end_time": "2025-06-25T16:22:16.345598Z",
     "start_time": "2025-06-25T16:22:16.334959Z"
    }
   },
   "cell_type": "code",
   "source": [
    "# Generate random sales data\n",
    "sales_data = np.random.choice([0,1], size=10000, p=[0.7, 0.3])\n",
    "# print(sales_data, '\\n')\n",
    "\n",
    "# This turns the array into a boolean array where 0s are False and 1s are True\n",
    "event_A = (sales_data == 1)\n",
    "print('Event A\\n', event_A, '\\n')\n",
    "\n",
    "event_B = np.random.choice([0,1], size=10000, p=[0.5,0.5])\n",
    "event_B = event_B.astype(bool)\n",
    "\n",
    "\n",
    "# Compute probabilities of events A and B, we use .mean in this case\n",
    "# because the mean is the probability since we are adding 0s and 1s\n",
    "P_A = np.mean(event_A)\n",
    "print('P(A) = ', P_A)\n",
    "print('P(~A) = ', np.mean(~event_A))\n",
    "\n",
    "P_B = np.mean(event_B)\n",
    "print('P(B) = ', P_B)\n",
    "print('P(~B) = ', np.mean(~event_B))\n",
    "\n",
    "P_A_given_B = np.mean(event_A[event_B])\n",
    "print('P(A|B) = ', P_A_given_B)\n",
    "\n",
    "P_A_given_notB = np.mean(event_A[~event_B])\n",
    "print('P(A|~B) = ', P_A_given_notB)\n",
    "\n",
    "# Compute the probability of intersection\n",
    "# It checks if event_A[i] == event_B[i]\n",
    "P_A_and_B = np.mean(event_A & event_B)\n",
    "print('P(A and B) = ', P_A_and_B)\n",
    "\n",
    "# Assert complementarity property\n",
    "assert np.isclose(1 - P_A, np.mean(~event_A))\n",
    "assert np.isclose(1 - P_B, np.mean(~event_B))\n",
    "print('Complementarity property respected')\n",
    "\n",
    "# Assert Total Probability Theorem\n",
    "assert np.isclose( P_A, P_A_given_B*P_B + P_A_given_notB*(1-P_B) )\n",
    "print('Law of Total Probability Successfully asserted!')\n",
    "\n",
    "# Assert Conditional Probability Theorem\n",
    "assert np.isclose(P_A_and_B/P_B , np.mean(event_A[event_B]))\n",
    "print('Conditional Probability Theorem y Successfully asserted!')\n"
   ],
   "id": "958a0fe7e40d03f9",
   "outputs": [
    {
     "name": "stdout",
     "output_type": "stream",
     "text": [
      "Event A\n",
      " [ True False False ...  True  True  True] \n",
      "\n",
      "P(A) =  0.2934\n",
      "P(~A) =  0.7066\n",
      "P(B) =  0.4982\n",
      "P(~B) =  0.5018\n",
      "P(A|B) =  0.2958651144118828\n",
      "P(A|~B) =  0.2909525707453169\n",
      "P(A and B) =  0.1474\n",
      "Complementarity property respected\n",
      "Law of Total Probability Successfully asserted!\n",
      "Conditional Probability Theorem y Successfully asserted!\n"
     ]
    }
   ],
   "execution_count": 66
  },
  {
   "metadata": {},
   "cell_type": "markdown",
   "source": "",
   "id": "20fb1b6d7568761b"
  },
  {
   "metadata": {
    "ExecuteTime": {
     "end_time": "2025-06-25T16:54:06.021770Z",
     "start_time": "2025-06-25T16:54:06.017023Z"
    }
   },
   "cell_type": "code",
   "source": "%who",
   "id": "87a6dfedad290bac",
   "outputs": [
    {
     "name": "stdout",
     "output_type": "stream",
     "text": [
      "P_A\t P_A_and_B\t P_A_given_B\t P_A_given_notB\t P_B\t amount_spent_sample_space\t ecommerce_data\t event_A\t event_B\t \n",
      "event_b\t event_product_A\t event_spent_over_100\t i\t j\t length_of_sample_space\t np\t num_possible_outcomes\t p_A\t \n",
      "p_A_and_B\t p_B\t p_p\t pd\t probabilities\t product_p_transactions\t product_sample_space\t products_list\t pydev_jupyter_vars\t \n",
      "remove_imported_pydev_package\t sales_data\t sample_space\t sys\t total_transactions\t transaction\t transaction_data\t transactions\t \n"
     ]
    }
   ],
   "execution_count": 68
  },
  {
   "metadata": {
    "ExecuteTime": {
     "end_time": "2025-06-25T16:54:29.395419Z",
     "start_time": "2025-06-25T16:54:29.390352Z"
    }
   },
   "cell_type": "code",
   "source": [
    "for var in [\n",
    "    \"P_A\", \"P_A_and_B\", \"P_A_given_B\", \"P_A_given_notB\", \"P_B\", \"amount_spent_sample_space\",\n",
    "    \"ecommerce_data\", \"event_A\", \"event_B\", \"event_b\", \"event_product_A\",\n",
    "    \"event_spent_over_100\", \"i\", \"j\", \"length_of_sample_space\", \"np\",\n",
    "    \"num_possible_outcomes\", \"p_A\", \"p_A_and_B\", \"p_B\", \"p_p\", \"pd\",\n",
    "    \"probabilities\", \"product_p_transactions\", \"product_sample_space\",\n",
    "    \"products_list\", \"pydev_jupyter_vars\", \"remove_imported_pydev_package\",\n",
    "    \"sales_data\", \"sample_space\", \"sys\", \"total_transactions\", \"transaction\",\n",
    "    \"transaction_data\", \"transactions\"\n",
    "]:\n",
    "    globals().pop(var, None)\n"
   ],
   "id": "d370b2cbbff204eb",
   "outputs": [],
   "execution_count": 69
  },
  {
   "metadata": {
    "ExecuteTime": {
     "end_time": "2025-06-25T16:54:37.300342Z",
     "start_time": "2025-06-25T16:54:37.297926Z"
    }
   },
   "cell_type": "code",
   "source": "%who",
   "id": "22772484ad889772",
   "outputs": [
    {
     "name": "stdout",
     "output_type": "stream",
     "text": [
      "pydev_jupyter_vars\t remove_imported_pydev_package\t sys\t var\t \n"
     ]
    }
   ],
   "execution_count": 70
  },
  {
   "metadata": {},
   "cell_type": "markdown",
   "source": "",
   "id": "b9d97277651a7976"
  },
  {
   "metadata": {},
   "cell_type": "markdown",
   "source": [
    "## 3.5.1 Product Rule and Bayes Theorem\n",
    "\n",
    "### Product Rule\n",
    "Determines the joint probability of 2 events<br>\n",
    "$ P(A , B) = P(A \\cap B) = P(A)*P(B|A) = P(B)*P(A|B) $\n",
    "\n",
    "### Bayes Theorem\n",
    "$ P(A|B) = P(B|A)*\\frac{P(A)}{P(B)} $"
   ],
   "id": "7a0c449b29473893"
  },
  {
   "metadata": {
    "ExecuteTime": {
     "end_time": "2025-06-25T17:28:08.519037Z",
     "start_time": "2025-06-25T17:28:08.512213Z"
    }
   },
   "cell_type": "code",
   "source": [
    "# Generate random data for events A and B\n",
    "event_A = np.random.choice([0,1], size=10000, p=[0.9, 0.1])\n",
    "event_B = np.random.choice([0,1], size=10000, p=[0.95, 0.05])\n",
    "\n",
    "# Compute probabilities for each\n",
    "P_A = np.mean(event_A)\n",
    "print('P(A) = ', P_A)\n",
    "\n",
    "P_B = np.mean(event_B)\n",
    "print('P(B) = ', P_B)\n",
    "\n",
    "# Compute P(A and B), P(A|B) and P(B|A) using product rule\n",
    "P_A_and_B = np.mean(event_A & event_B)\n",
    "assert np.isclose(P_A_and_B, np.mean(event_A*event_B))\n",
    "print('P(A and B) = ', P_A_and_B)\n",
    "\n",
    "P_A_given_B = P_A_and_B/P_B\n",
    "assert np.isclose(P_A_given_B, np.mean(event_A[event_B.astype(bool)]))\n",
    "print('P(A|B) = ', P_A_given_B, np.mean(event_A[event_B.astype(bool)]))\n",
    "\n",
    "P_B_given_A = P_A_and_B/P_A\n",
    "assert np.isclose(P_B_given_A, np.mean(event_B[event_A.astype(bool)]))\n",
    "print('P(B|A) = ', P_B_given_A, np.mean(event_B[event_A.astype(bool)]))\n",
    "\n",
    "# Verify Product Rule\n",
    "assert np.isclose(P_A_and_B, P_A * P_B_given_A)\n",
    "assert np.isclose(P_A_and_B, P_B * P_A_given_B)\n",
    "print('Product Rule successfully asserted!')\n",
    "\n",
    "# Verify Bayes Theorem\n",
    "assert np.isclose(P_A_given_B, P_B_given_A * P_A / P_B)\n",
    "print('Bayes Theorem successfully asserted!')\n",
    "\n"
   ],
   "id": "2741bcada61e7fa9",
   "outputs": [
    {
     "name": "stdout",
     "output_type": "stream",
     "text": [
      "P(A) =  0.1032\n",
      "P(B) =  0.0482\n",
      "P(A and B) =  0.0054\n",
      "P(A|B) =  0.11203319502074689 0.11203319502074689\n",
      "P(B|A) =  0.05232558139534884 0.05232558139534884\n",
      "Product Rule successfully asserted!\n",
      "Bayes Theorem successfully asserted!\n"
     ]
    }
   ],
   "execution_count": 92
  },
  {
   "metadata": {},
   "cell_type": "code",
   "outputs": [],
   "execution_count": null,
   "source": "",
   "id": "29416e1b8a8b27af"
  },
  {
   "metadata": {},
   "cell_type": "markdown",
   "source": [
    "## 3.6.1.1 Cumulative Distribution Function\n",
    "$F(x) = P(X ≤ x)$"
   ],
   "id": "b7653df29f15376"
  },
  {
   "metadata": {
    "ExecuteTime": {
     "end_time": "2025-06-25T21:03:52.018971Z",
     "start_time": "2025-06-25T21:03:52.005562Z"
    }
   },
   "cell_type": "code",
   "source": [
    "import matplotlib.pyplot as plt\n",
    "import random"
   ],
   "id": "d39c6592566969a5",
   "outputs": [],
   "execution_count": 93
  },
  {
   "metadata": {
    "ExecuteTime": {
     "end_time": "2025-06-25T21:16:30.716990Z",
     "start_time": "2025-06-25T21:16:30.547890Z"
    }
   },
   "cell_type": "code",
   "source": [
    "purchase_times = [random.randint(1,25) for _ in range(100)]\n",
    "print(purchase_times)\n",
    "\n",
    "purchase_times.sort()\n",
    "print(purchase_times)\n",
    "\n",
    "# Create list of cumulative properties from 1/N to 1\n",
    "probabilities = np.arange(1, len(purchase_times)+1) /len(purchase_times)\n",
    "print(probabilities)\n",
    "\n",
    "# Create graph\n",
    "plt.plot(purchase_times, probabilities, marker='.' ,linestyle='none')\n",
    "\n",
    "# Set up tags and title\n",
    "plt.title('Cumulative Distribution Function of Purchase Times')\n",
    "plt.xlabel('Purchase Time (minutes)')\n",
    "plt.ylabel('Cumulative Probability')\n",
    "\n",
    "plt.show()"
   ],
   "id": "68c7514721e5fa00",
   "outputs": [
    {
     "name": "stdout",
     "output_type": "stream",
     "text": [
      "[10, 1, 18, 21, 25, 21, 7, 20, 24, 25, 22, 20, 15, 22, 19, 14, 19, 23, 16, 10, 12, 4, 22, 19, 17, 2, 3, 14, 15, 1, 6, 25, 22, 22, 1, 11, 6, 20, 5, 17, 4, 25, 4, 21, 1, 19, 8, 6, 3, 6, 11, 19, 24, 25, 11, 7, 17, 22, 24, 14, 9, 8, 13, 1, 4, 5, 4, 7, 23, 24, 4, 24, 24, 15, 21, 23, 24, 2, 9, 3, 15, 24, 3, 15, 19, 6, 11, 15, 14, 21, 13, 3, 8, 6, 15, 9, 4, 9, 24, 23]\n",
      "[1, 1, 1, 1, 1, 2, 2, 3, 3, 3, 3, 3, 4, 4, 4, 4, 4, 4, 4, 5, 5, 6, 6, 6, 6, 6, 6, 7, 7, 7, 8, 8, 8, 9, 9, 9, 9, 10, 10, 11, 11, 11, 11, 12, 13, 13, 14, 14, 14, 14, 15, 15, 15, 15, 15, 15, 15, 16, 17, 17, 17, 18, 19, 19, 19, 19, 19, 19, 20, 20, 20, 21, 21, 21, 21, 21, 22, 22, 22, 22, 22, 22, 23, 23, 23, 23, 24, 24, 24, 24, 24, 24, 24, 24, 24, 25, 25, 25, 25, 25]\n",
      "[0.01 0.02 0.03 0.04 0.05 0.06 0.07 0.08 0.09 0.1  0.11 0.12 0.13 0.14\n",
      " 0.15 0.16 0.17 0.18 0.19 0.2  0.21 0.22 0.23 0.24 0.25 0.26 0.27 0.28\n",
      " 0.29 0.3  0.31 0.32 0.33 0.34 0.35 0.36 0.37 0.38 0.39 0.4  0.41 0.42\n",
      " 0.43 0.44 0.45 0.46 0.47 0.48 0.49 0.5  0.51 0.52 0.53 0.54 0.55 0.56\n",
      " 0.57 0.58 0.59 0.6  0.61 0.62 0.63 0.64 0.65 0.66 0.67 0.68 0.69 0.7\n",
      " 0.71 0.72 0.73 0.74 0.75 0.76 0.77 0.78 0.79 0.8  0.81 0.82 0.83 0.84\n",
      " 0.85 0.86 0.87 0.88 0.89 0.9  0.91 0.92 0.93 0.94 0.95 0.96 0.97 0.98\n",
      " 0.99 1.  ]\n"
     ]
    },
    {
     "data": {
      "text/plain": [
       "<Figure size 640x480 with 1 Axes>"
      ],
      "image/png": "[encoded data removed]"
     },
     "metadata": {},
     "output_type": "display_data"
    }
   ],
   "execution_count": 99
  },
  {
   "metadata": {},
   "cell_type": "code",
   "outputs": [],
   "execution_count": null,
   "source": "",
   "id": "6ec04f55aa8f4b8b"
  },
  {
   "metadata": {},
   "cell_type": "markdown",
   "source": "## 3.6.1.2 Density Function\n",
   "id": "b250bc81c9daacce"
  },
  {
   "metadata": {
    "ExecuteTime": {
     "end_time": "2025-06-25T22:15:20.564346Z",
     "start_time": "2025-06-25T22:15:12.667780Z"
    }
   },
   "cell_type": "code",
   "source": "from scipy.stats import norm",
   "id": "55fb5ccdb79f1085",
   "outputs": [],
   "execution_count": 101
  },
  {
   "metadata": {
    "ExecuteTime": {
     "end_time": "2025-06-25T22:29:46.611050Z",
     "start_time": "2025-06-25T22:29:46.542670Z"
    }
   },
   "cell_type": "code",
   "source": [
    "# Heights in cm\n",
    "heights = [random.randint(150,210) for _ in range(1000)]\n",
    "\n",
    "mean, deviation = np.mean(heights), np.std(heights)\n",
    "print('Mean =',mean, '\\nDeviation = ', deviation)\n",
    "\n",
    "# Create a range to evaluate the range of height values for the PDF\n",
    "values = np.linspace(min(heights), max(heights), 100)\n",
    "print('\\n', values)\n",
    "\n",
    "# Evaluate PDF in the given values\n",
    "densities = norm.pdf(values, mean, deviation)\n",
    "print('\\n', densities)\n",
    "\n",
    "# Create PDF graph\n",
    "plt.figure(figsize=(10,6))\n",
    "plt.plot(values, densities, label='PDF of heights')\n",
    "\n",
    "# Add graph details\n",
    "plt.title('Probability Density Function of Heights')\n",
    "plt.xlabel('Height (cm)')\n",
    "plt.ylabel('Probability Density')\n",
    "plt.legend()\n",
    "plt.grid(True)\n",
    "\n",
    "plt.show()"
   ],
   "id": "35ef9243a128d816",
   "outputs": [
    {
     "name": "stdout",
     "output_type": "stream",
     "text": [
      "Mean = 179.866 \n",
      "Deviation =  17.330379222625222\n",
      "\n",
      " [150.         150.60606061 151.21212121 151.81818182 152.42424242\n",
      " 153.03030303 153.63636364 154.24242424 154.84848485 155.45454545\n",
      " 156.06060606 156.66666667 157.27272727 157.87878788 158.48484848\n",
      " 159.09090909 159.6969697  160.3030303  160.90909091 161.51515152\n",
      " 162.12121212 162.72727273 163.33333333 163.93939394 164.54545455\n",
      " 165.15151515 165.75757576 166.36363636 166.96969697 167.57575758\n",
      " 168.18181818 168.78787879 169.39393939 170.         170.60606061\n",
      " 171.21212121 171.81818182 172.42424242 173.03030303 173.63636364\n",
      " 174.24242424 174.84848485 175.45454545 176.06060606 176.66666667\n",
      " 177.27272727 177.87878788 178.48484848 179.09090909 179.6969697\n",
      " 180.3030303  180.90909091 181.51515152 182.12121212 182.72727273\n",
      " 183.33333333 183.93939394 184.54545455 185.15151515 185.75757576\n",
      " 186.36363636 186.96969697 187.57575758 188.18181818 188.78787879\n",
      " 189.39393939 190.         190.60606061 191.21212121 191.81818182\n",
      " 192.42424242 193.03030303 193.63636364 194.24242424 194.84848485\n",
      " 195.45454545 196.06060606 196.66666667 197.27272727 197.87878788\n",
      " 198.48484848 199.09090909 199.6969697  200.3030303  200.90909091\n",
      " 201.51515152 202.12121212 202.72727273 203.33333333 203.93939394\n",
      " 204.54545455 205.15151515 205.75757576 206.36363636 206.96969697\n",
      " 207.57575758 208.18181818 208.78787879 209.39393939 210.        ]\n",
      "\n",
      " [0.00521437 0.0055349  0.00586796 0.00621344 0.00657123 0.00694113\n",
      " 0.00732289 0.0077162  0.0081207  0.00853596 0.00896149 0.00939673\n",
      " 0.00984107 0.01029383 0.01075425 0.01122153 0.01169481 0.01217315\n",
      " 0.01265557 0.01314102 0.01362842 0.01411663 0.01460445 0.01509066\n",
      " 0.015574   0.01605317 0.01652687 0.01699375 0.01745246 0.01790164\n",
      " 0.01833994 0.01876601 0.01917851 0.01957612 0.01995755 0.02032155\n",
      " 0.02066689 0.02099242 0.02129701 0.02157961 0.02183923 0.02207497\n",
      " 0.02228598 0.02247151 0.02263089 0.02276354 0.02286898 0.02294684\n",
      " 0.02299681 0.02301873 0.02301251 0.02297817 0.02291583 0.02282574\n",
      " 0.02270821 0.02256367 0.02239266 0.02219577 0.02197373 0.02172732\n",
      " 0.02145742 0.02116497 0.02085099 0.02051656 0.02016282 0.01979096\n",
      " 0.01940222 0.01899786 0.0185792  0.01814755 0.01770427 0.01725071\n",
      " 0.01678822 0.01631816 0.01584188 0.0153607  0.01487593 0.01438886\n",
      " 0.01390072 0.01341273 0.01292605 0.0124418  0.01196106 0.01148484\n",
      " 0.01101411 0.01054975 0.01009263 0.00964351 0.00920311 0.00877209\n",
      " 0.00835104 0.00794048 0.00754088 0.00715263 0.00677608 0.00641151\n",
      " 0.00605914 0.00571914 0.00539162 0.00507664]\n"
     ]
    },
    {
     "data": {
      "text/plain": [
       "<Figure size 1000x600 with 1 Axes>"
      ],
      "image/png": "[encoded data removed]"
     },
     "metadata": {},
     "output_type": "display_data"
    }
   ],
   "execution_count": 108
  },
  {
   "metadata": {},
   "cell_type": "code",
   "outputs": [],
   "execution_count": null,
   "source": "",
   "id": "e400be4182ea5769"
  }
 ],
 "metadata": {
  "kernelspec": {
   "display_name": "Python 3",
   "language": "python",
   "name": "python3"
  },
  "language_info": {
   "codemirror_mode": {
    "name": "ipython",
    "version": 2
   },
   "file_extension": ".py",
   "mimetype": "text/x-python",
   "name": "python",
   "nbconvert_exporter": "python",
   "pygments_lexer": "ipython2",
   "version": "2.7.6"
  }
 },
 "nbformat": 4,
 "nbformat_minor": 5
}
