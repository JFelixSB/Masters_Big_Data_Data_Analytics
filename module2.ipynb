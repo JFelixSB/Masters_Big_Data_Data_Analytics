{
 "cells": [
  {
   "metadata": {
    "ExecuteTime": {
     "end_time": "2025-06-13T21:05:24.027411Z",
     "start_time": "2025-06-13T21:05:24.021111Z"
    }
   },
   "cell_type": "code",
   "source": [
    "for i in range(20):\n",
    "    print(i)"
   ],
   "id": "b9001a988dcb100b",
   "outputs": [
    {
     "name": "stdout",
     "output_type": "stream",
     "text": [
      "0\n",
      "1\n",
      "2\n",
      "3\n",
      "4\n",
      "5\n",
      "6\n",
      "7\n",
      "8\n",
      "9\n",
      "10\n",
      "11\n",
      "12\n",
      "13\n",
      "14\n",
      "15\n",
      "16\n",
      "17\n",
      "18\n",
      "19\n"
     ]
    }
   ],
   "execution_count": 3
  },
  {
   "metadata": {
    "ExecuteTime": {
     "end_time": "2025-06-13T21:12:56.483351Z",
     "start_time": "2025-06-13T21:12:56.472990Z"
    }
   },
   "cell_type": "code",
   "source": [
    "a_dict = {'a': 1, 'b': 2, 'c': 3}\n",
    "for k, v in a_dict.items():\n",
    "    print(k, v)\n",
    "else:\n",
    "    print(\"no value\")"
   ],
   "id": "e7f21393188fd19f",
   "outputs": [
    {
     "name": "stdout",
     "output_type": "stream",
     "text": [
      "a 1\n",
      "b 2\n",
      "c 3\n",
      "no value\n"
     ]
    }
   ],
   "execution_count": 5
  },
  {
   "metadata": {
    "ExecuteTime": {
     "end_time": "2025-06-13T21:15:25.444049Z",
     "start_time": "2025-06-13T21:15:25.440842Z"
    }
   },
   "cell_type": "code",
   "source": [
    "try:\n",
    "    with open('non_existent_file.txt', 'r') as file:\n",
    "        print(file.read())\n",
    "except FileNotFoundError:\n",
    "    print(\"file not found\")"
   ],
   "id": "35a3f2431df4232b",
   "outputs": [
    {
     "name": "stdout",
     "output_type": "stream",
     "text": [
      "file not found\n"
     ]
    }
   ],
   "execution_count": 7
  },
  {
   "metadata": {
    "ExecuteTime": {
     "end_time": "2025-06-13T21:55:45.781111Z",
     "start_time": "2025-06-13T21:55:45.778764Z"
    }
   },
   "cell_type": "code",
   "source": "import pandas as pd",
   "id": "d88e26b276914134",
   "outputs": [],
   "execution_count": 10
  },
  {
   "metadata": {
    "ExecuteTime": {
     "end_time": "2025-06-14T15:11:00.332059Z",
     "start_time": "2025-06-14T15:10:59.678749Z"
    }
   },
   "cell_type": "code",
   "source": [
    "import requests\n",
    "import json\n",
    "\n",
    "url = \"https://api.freecurrencyapi.com/v1/latest?apikey=fca_live_JEaSoGwcjZnaXs28dh054Td3NgI41yJnL6Iat7l5&currencies=EUR%2CUSD%2CCAD\"\n",
    "\n",
    "resp = requests.get(url, timeout=10)\n",
    "resp.raise_for_status()\n",
    "\n",
    "data = resp.json()\n",
    "print(json.dumps(data, indent=2))\n",
    "exchange_rate_eur = data[\"data\"][\"EUR\"]\n",
    "exchange_rate_cad = data[\"data\"][\"CAD\"]"
   ],
   "id": "cc8d8802412279f4",
   "outputs": [
    {
     "name": "stdout",
     "output_type": "stream",
     "text": [
      "{\n",
      "  \"data\": {\n",
      "    \"CAD\": 1.3587901452,\n",
      "    \"EUR\": 0.8661301199,\n",
      "    \"USD\": 1\n",
      "  }\n",
      "}\n"
     ]
    }
   ],
   "execution_count": 17
  },
  {
   "metadata": {
    "ExecuteTime": {
     "end_time": "2025-06-14T15:11:03.699794Z",
     "start_time": "2025-06-14T15:11:03.696117Z"
    }
   },
   "cell_type": "code",
   "source": [
    "print(f\"{exchange_rate_eur} EUR\")\n",
    "print(f\"{exchange_rate_cad} CAD\")"
   ],
   "id": "967b867dc00d9763",
   "outputs": [
    {
     "name": "stdout",
     "output_type": "stream",
     "text": [
      "0.8661301199 EUR\n",
      "1.3587901452 CAD\n"
     ]
    }
   ],
   "execution_count": 18
  },
  {
   "metadata": {
    "ExecuteTime": {
     "end_time": "2025-06-14T15:15:52.064750Z",
     "start_time": "2025-06-14T15:15:52.056375Z"
    }
   },
   "cell_type": "code",
   "source": [
    "df = pd.DataFrame({\n",
    "    'price_usd': list(range(10,101,10))\n",
    "})\n",
    "\n",
    "df['price_eur'] = df['price_usd'].apply(lambda x : x * float(exchange_rate_eur))\n",
    "df['price_cad'] = df['price_usd'].apply(lambda x : x * float(exchange_rate_cad))\n",
    "\n",
    "print(df)"
   ],
   "id": "16cf3264b6e4d8f5",
   "outputs": [
    {
     "name": "stdout",
     "output_type": "stream",
     "text": [
      "   price_usd  price_eur   price_cad\n",
      "0         10   8.661301   13.587901\n",
      "1         20  17.322602   27.175803\n",
      "2         30  25.983904   40.763704\n",
      "3         40  34.645205   54.351606\n",
      "4         50  43.306506   67.939507\n",
      "5         60  51.967807   81.527409\n",
      "6         70  60.629108   95.115310\n",
      "7         80  69.290410  108.703212\n",
      "8         90  77.951711  122.291113\n",
      "9        100  86.613012  135.879015\n"
     ]
    }
   ],
   "execution_count": 21
  },
  {
   "metadata": {},
   "cell_type": "code",
   "outputs": [],
   "execution_count": null,
   "source": "",
   "id": "e80b0c41e2cc408"
  }
 ],
 "metadata": {
  "kernelspec": {
   "display_name": "Python 3",
   "language": "python",
   "name": "python3"
  },
  "language_info": {
   "codemirror_mode": {
    "name": "ipython",
    "version": 2
   },
   "file_extension": ".py",
   "mimetype": "text/x-python",
   "name": "python",
   "nbconvert_exporter": "python",
   "pygments_lexer": "ipython2",
   "version": "2.7.6"
  }
 },
 "nbformat": 4,
 "nbformat_minor": 5
}
