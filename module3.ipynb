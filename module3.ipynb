{
 "cells": [
  {
   "metadata": {},
   "cell_type": "markdown",
   "source": "# MODULE 3 - Basis of Statistical Reasoning",
   "id": "7711a10ef84e8a5d"
  },
  {
   "metadata": {},
   "cell_type": "markdown",
   "source": [
    "## 3.1.1 Probability Example\n",
    "\n",
    "> P(P) = (# of transactions where P was bought)/ n"
   ],
   "id": "b906e53006c9e263"
  },
  {
   "metadata": {
    "ExecuteTime": {
     "end_time": "2025-06-26T13:22:00.059173Z",
     "start_time": "2025-06-26T13:22:00.055164Z"
    }
   },
   "cell_type": "code",
   "source": "import pandas as pd",
   "id": "9e04d5e88f040f97",
   "outputs": [],
   "execution_count": 13
  },
  {
   "metadata": {
    "ExecuteTime": {
     "end_time": "2025-06-26T13:22:00.073024Z",
     "start_time": "2025-06-26T13:22:00.066953Z"
    }
   },
   "cell_type": "code",
   "source": [
    "# Suppose 'transactions' is a pandas DF, where each row is a transaction\n",
    "# and there is a col named 'products' where it lists all the products in that\n",
    "# transaction\n",
    "transactions = pd.read_csv('example_files/transactions.csv')\n",
    "print(transactions)\n",
    "\n",
    "# Count total # of transactions\n",
    "total_transactions = len(transactions)\n",
    "print('Total transactions = ',total_transactions)\n",
    "\n",
    "# Just out of curiosity to learn how to pick out elements of a DF\n",
    "for i,j in transactions.iterrows():\n",
    "    if 'P' in j['products']:\n",
    "        print(i, j)\n",
    "\n",
    "\n",
    "# Count # of transactions where P was bought\n",
    "product_p_transactions = transactions['products'].apply(lambda x: 'P' in x).sum()\n",
    "print('Product P transactions = ', product_p_transactions)\n",
    "\n",
    "# Calculate probability\n",
    "p_p = product_p_transactions / total_transactions\n",
    "print('P(P) = ', p_p)"
   ],
   "id": "586834baf096170e",
   "outputs": [
    {
     "name": "stdout",
     "output_type": "stream",
     "text": [
      "  products\n",
      "0    A,B,P\n",
      "1      C,D\n",
      "2        P\n",
      "3    A,P,D\n",
      "4        E\n",
      "5      B,C\n",
      "6      P,E\n",
      "7        A\n",
      "8      D,P\n",
      "Total transactions =  9\n",
      "0 products    A,B,P\n",
      "Name: 0, dtype: object\n",
      "2 products    P\n",
      "Name: 2, dtype: object\n",
      "3 products    A,P,D\n",
      "Name: 3, dtype: object\n",
      "6 products    P,E\n",
      "Name: 6, dtype: object\n",
      "8 products    D,P\n",
      "Name: 8, dtype: object\n",
      "Product P transactions =  5\n",
      "P(P) =  0.5555555555555556\n"
     ]
    }
   ],
   "execution_count": 14
  },
  {
   "metadata": {},
   "cell_type": "markdown",
   "source": "",
   "id": "a65eceab369b6f75"
  },
  {
   "metadata": {},
   "cell_type": "markdown",
   "source": "## 3.1.2.1 Sample Space",
   "id": "636a3d32ac3dcf73"
  },
  {
   "metadata": {
    "ExecuteTime": {
     "end_time": "2025-06-26T13:22:00.086095Z",
     "start_time": "2025-06-26T13:22:00.084590Z"
    }
   },
   "cell_type": "code",
   "source": "import numpy as np",
   "id": "951e3305fac7ff8d",
   "outputs": [],
   "execution_count": 15
  },
  {
   "metadata": {
    "ExecuteTime": {
     "end_time": "2025-06-26T13:22:00.108623Z",
     "start_time": "2025-06-26T13:22:00.102616Z"
    }
   },
   "cell_type": "code",
   "source": [
    "ecommerce_data = pd.read_csv('example_files/ecommerce.csv')\n",
    "print(ecommerce_data)\n",
    "\n",
    "product_sample_space = ecommerce_data['product'].unique()\n",
    "print(product_sample_space, '\\n')\n",
    "\n",
    "num_possible_outcomes = len(product_sample_space)\n",
    "print('Number of possible outcomes = ', num_possible_outcomes, '\\n')\n",
    "\n",
    "amount_spent_sample_space = np.linspace(ecommerce_data['amount_spent'].min(), ecommerce_data['amount_spent'].max(), 1000)\n",
    "# print('Amount spent space = ', amount_spent_sample_space)\n",
    "\n",
    "length_of_sample_space = amount_spent_sample_space[-1] - amount_spent_sample_space[0]\n",
    "print('Length of sample space = ', length_of_sample_space, '\\n')\n",
    "\n",
    "event_product_A = ecommerce_data[ecommerce_data['product'] == 'A']\n",
    "print('Event product A\\n', event_product_A, '\\n')\n",
    "\n",
    "event_spent_over_100 = ecommerce_data[ecommerce_data['amount_spent'] > 100]\n",
    "print('Event spent over 100\\n', event_spent_over_100)\n",
    "\n",
    "\n"
   ],
   "id": "8deb5095d0edb2c7",
   "outputs": [
    {
     "name": "stdout",
     "output_type": "stream",
     "text": [
      "  product  amount_spent\n",
      "0       A           120\n",
      "1       B            80\n",
      "2       C           200\n",
      "3       A            90\n",
      "4       D           150\n",
      "5       B            60\n",
      "6       E           300\n",
      "7       A           100\n",
      "8       C            50\n",
      "9       D           130\n",
      "['A' 'B' 'C' 'D' 'E'] \n",
      "\n",
      "Number of possible outcomes =  5 \n",
      "\n",
      "Length of sample space =  250.0 \n",
      "\n",
      "Event product A\n",
      "   product  amount_spent\n",
      "0       A           120\n",
      "3       A            90\n",
      "7       A           100 \n",
      "\n",
      "Event spent over 100\n",
      "   product  amount_spent\n",
      "0       A           120\n",
      "2       C           200\n",
      "4       D           150\n",
      "6       E           300\n",
      "9       D           130\n"
     ]
    }
   ],
   "execution_count": 16
  },
  {
   "metadata": {
    "ExecuteTime": {
     "end_time": "2025-06-26T13:22:00.122732Z",
     "start_time": "2025-06-26T13:22:00.121115Z"
    }
   },
   "cell_type": "code",
   "source": "",
   "id": "15ee45c46d50997e",
   "outputs": [],
   "execution_count": null
  },
  {
   "metadata": {},
   "cell_type": "markdown",
   "source": [
    "## 3.2.1.3 Independent Events\n",
    "\n",
    "P(A ^ B) = P(A) * P(B) if A and B are independent events"
   ],
   "id": "3d10857d45814269"
  },
  {
   "metadata": {
    "ExecuteTime": {
     "end_time": "2025-06-26T13:22:00.142367Z",
     "start_time": "2025-06-26T13:22:00.134898Z"
    }
   },
   "cell_type": "code",
   "source": [
    "transaction_data = pd.read_csv('example_files/ecommerce.csv')\n",
    "print(transaction_data,'\\n')\n",
    "\n",
    "transaction_data = transaction_data.drop(columns='amount_spent')\n",
    "print('Dropped amount_spent col\\n', transaction_data,'\\n')\n",
    "\n",
    "transaction_data['id'] = transaction_data.index\n",
    "print('Added id col\\n', transaction_data,'\\n')\n",
    "\n",
    "event_A = transaction_data[transaction_data['product'] == 'A']\n",
    "print('Event A\\n', event_A, '\\n')\n",
    "\n",
    "event_B = transaction_data[transaction_data['product'] == 'B']\n",
    "print('Event B\\n', event_B, '\\n')\n",
    "\n",
    "p_A = len(event_A)/len(transaction_data)\n",
    "print('P(A) = ', p_A)\n",
    "\n",
    "p_B = len(event_B)/len(transaction_data)\n",
    "print('P(B) = ', p_B)\n",
    "\n",
    "# Calculate P(A and B) using inner join on id\n",
    "p_A_and_B = len(pd.merge(event_A, event_B, on='id'))/len(transaction_data)\n",
    "print('P(A and B) = ', p_A_and_B)\n",
    "\n",
    "if p_A_and_B == p_A * p_B:\n",
    "    print('P(A) and P(B) are independent')\n",
    "else:\n",
    "    print('P(A) and P(B) are not independent')\n"
   ],
   "id": "d71bd69ca386f14b",
   "outputs": [
    {
     "name": "stdout",
     "output_type": "stream",
     "text": [
      "  product  amount_spent\n",
      "0       A           120\n",
      "1       B            80\n",
      "2       C           200\n",
      "3       A            90\n",
      "4       D           150\n",
      "5       B            60\n",
      "6       E           300\n",
      "7       A           100\n",
      "8       C            50\n",
      "9       D           130 \n",
      "\n",
      "Dropped amount_spent col\n",
      "   product\n",
      "0       A\n",
      "1       B\n",
      "2       C\n",
      "3       A\n",
      "4       D\n",
      "5       B\n",
      "6       E\n",
      "7       A\n",
      "8       C\n",
      "9       D \n",
      "\n",
      "Added id col\n",
      "   product  id\n",
      "0       A   0\n",
      "1       B   1\n",
      "2       C   2\n",
      "3       A   3\n",
      "4       D   4\n",
      "5       B   5\n",
      "6       E   6\n",
      "7       A   7\n",
      "8       C   8\n",
      "9       D   9 \n",
      "\n",
      "Event A\n",
      "   product  id\n",
      "0       A   0\n",
      "3       A   3\n",
      "7       A   7 \n",
      "\n",
      "Event B\n",
      "   product  id\n",
      "1       B   1\n",
      "5       B   5 \n",
      "\n",
      "P(A) =  0.3\n",
      "P(B) =  0.2\n",
      "P(A and B) =  0.0\n",
      "P(A) and P(B) are not independent\n"
     ]
    }
   ],
   "execution_count": 17
  },
  {
   "metadata": {},
   "cell_type": "markdown",
   "source": "",
   "id": "8f826dd1b7ed5f2b"
  },
  {
   "metadata": {},
   "cell_type": "markdown",
   "source": "## 3.3.2 Construction of a Probability Space\n",
   "id": "a98342b7df9430d9"
  },
  {
   "metadata": {
    "ExecuteTime": {
     "end_time": "2025-06-26T13:22:00.164197Z",
     "start_time": "2025-06-26T13:22:00.158315Z"
    }
   },
   "cell_type": "code",
   "source": [
    "transaction_data = pd.read_csv('example_files/transactions_probability_space.csv')\n",
    "print(transaction_data,'\\n')\n",
    "\n",
    "sample_space = transaction_data['itemset'].unique()\n",
    "print(sample_space, '\\n')\n",
    "\n",
    "event_A = transaction_data[transaction_data['total'] > 100]\n",
    "print('Event A\\n', event_A, '\\n')\n",
    "\n",
    "event_B = transaction_data[transaction_data['itemset'].str.contains('Fruit-Vegetable')]\n",
    "print('Event B\\n', event_B, '\\n')\n",
    "\n",
    "p_A = len(event_A)/len(transaction_data)\n",
    "print('P(A) = ', p_A)\n",
    "\n",
    "p_B = len(event_B)/len(transaction_data)\n",
    "print('P(B) = ', p_B)"
   ],
   "id": "3d303374a312456e",
   "outputs": [
    {
     "name": "stdout",
     "output_type": "stream",
     "text": [
      "           itemset  total\n",
      "0       Milk-Bread     45\n",
      "1            Fruit    120\n",
      "2        Vegetable    110\n",
      "3            Fruit     80\n",
      "4        Meat-Eggs    130\n",
      "5       Bread-Milk     95\n",
      "6  Fruit-Vegetable    150\n",
      "7        Milk-Eggs     40\n",
      "8           Cereal     50\n",
      "9  Fruit-Vegetable     90 \n",
      "\n",
      "['Milk-Bread' 'Fruit' 'Vegetable' 'Meat-Eggs' 'Bread-Milk'\n",
      " 'Fruit-Vegetable' 'Milk-Eggs' 'Cereal'] \n",
      "\n",
      "Event A\n",
      "            itemset  total\n",
      "1            Fruit    120\n",
      "2        Vegetable    110\n",
      "4        Meat-Eggs    130\n",
      "6  Fruit-Vegetable    150 \n",
      "\n",
      "Event B\n",
      "            itemset  total\n",
      "6  Fruit-Vegetable    150\n",
      "9  Fruit-Vegetable     90 \n",
      "\n",
      "P(A) =  0.4\n",
      "P(B) =  0.2\n"
     ]
    }
   ],
   "execution_count": 18
  },
  {
   "metadata": {},
   "cell_type": "markdown",
   "source": "",
   "id": "af19b31b72f04197"
  },
  {
   "metadata": {},
   "cell_type": "markdown",
   "source": "## 3.4.1 Kolmogorov Axiom\n",
   "id": "a9daf501b2f81dcb"
  },
  {
   "metadata": {
    "ExecuteTime": {
     "end_time": "2025-06-26T13:22:00.177679Z",
     "start_time": "2025-06-26T13:22:00.174359Z"
    }
   },
   "cell_type": "code",
   "source": [
    "# Define sample space for a 6-side fair die\n",
    "sample_space = np.array([1,2,3,4,5,6])\n",
    "print(sample_space, '\\n')\n",
    "\n",
    "# Compute the probability of each result\n",
    "probabilities = np.full(6, 1/6)\n",
    "print(probabilities, '\\n')\n",
    "\n",
    "# Axiom 1 - Non-negativity\n",
    "assert np.all(probabilities >= 0)\n",
    "\n",
    "# Axiom 2 - Normality\n",
    "assert np.isclose(np.sum(probabilities), 1)\n",
    "\n",
    "# Event A - Obtaining an even number\n",
    "event_A = sample_space[sample_space % 2 == 0]\n",
    "print('Event A\\n', event_A, '\\n')\n",
    "\n",
    "# Event B - Obtaining an odd number\n",
    "event_B = sample_space[sample_space % 2 != 0]\n",
    "print('Event B\\n', event_B, '\\n')\n",
    "\n",
    "# Axiom 3 - Countable additivity\n",
    "assert np.isclose(\n",
    "    np.sum(probabilities[event_A - 1]) + np.sum(probabilities[event_B - 1]), 1)\n",
    "\n",
    "\n",
    "\n"
   ],
   "id": "450c9f3494b78ad5",
   "outputs": [
    {
     "name": "stdout",
     "output_type": "stream",
     "text": [
      "[1 2 3 4 5 6] \n",
      "\n",
      "[0.16666667 0.16666667 0.16666667 0.16666667 0.16666667 0.16666667] \n",
      "\n",
      "Event A\n",
      " [2 4 6] \n",
      "\n",
      "Event B\n",
      " [1 3 5] \n",
      "\n"
     ]
    }
   ],
   "execution_count": 19
  },
  {
   "metadata": {
    "ExecuteTime": {
     "end_time": "2025-06-26T13:22:00.191088Z",
     "start_time": "2025-06-26T13:22:00.189699Z"
    }
   },
   "cell_type": "code",
   "source": "",
   "id": "956cd8142ce7262d",
   "outputs": [],
   "execution_count": null
  },
  {
   "metadata": {},
   "cell_type": "markdown",
   "source": [
    "## 3.4.2 Properties and Theorems\n",
    "\n",
    "### Complement Property\n",
    "$ P(A^c) = 1 - P(A) $\n",
    "\n",
    "### Total Probability Theorem\n",
    "$ P(B) = \\sum_{i=1}^n [P(B|A_i) * P(A_i)] $\n",
    "<br>\n",
    "$ P(A) = P(A|B)*P(B) + P(A|\\sim B)*P(\\sim B) $\n",
    "\n",
    "### Conditional Probability Theorem\n",
    "$P(A|B) = \\frac{P(A \\cap B)}{P(B)}$ if P(B) > 0"
   ],
   "id": "a5f7c663dd16d02"
  },
  {
   "metadata": {
    "ExecuteTime": {
     "end_time": "2025-06-26T13:22:00.206249Z",
     "start_time": "2025-06-26T13:22:00.200926Z"
    }
   },
   "cell_type": "code",
   "source": [
    "# Generate random sales data\n",
    "sales_data = np.random.choice([0,1], size=10000, p=[0.7, 0.3])\n",
    "# print(sales_data, '\\n')\n",
    "\n",
    "# This turns the array into a boolean array where 0s are False and 1s are True\n",
    "event_A = (sales_data == 1)\n",
    "print('Event A\\n', event_A, '\\n')\n",
    "\n",
    "event_B = np.random.choice([0,1], size=10000, p=[0.5,0.5])\n",
    "event_B = event_B.astype(bool)\n",
    "\n",
    "\n",
    "# Compute probabilities of events A and B, we use .mean in this case\n",
    "# because the mean is the probability since we are adding 0s and 1s\n",
    "P_A = np.mean(event_A)\n",
    "print('P(A) = ', P_A)\n",
    "print('P(~A) = ', np.mean(~event_A))\n",
    "\n",
    "P_B = np.mean(event_B)\n",
    "print('P(B) = ', P_B)\n",
    "print('P(~B) = ', np.mean(~event_B))\n",
    "\n",
    "P_A_given_B = np.mean(event_A[event_B])\n",
    "print('P(A|B) = ', P_A_given_B)\n",
    "\n",
    "P_A_given_notB = np.mean(event_A[~event_B])\n",
    "print('P(A|~B) = ', P_A_given_notB)\n",
    "\n",
    "# Compute the probability of intersection\n",
    "# It checks if event_A[i] == event_B[i]\n",
    "P_A_and_B = np.mean(event_A & event_B)\n",
    "print('P(A and B) = ', P_A_and_B)\n",
    "\n",
    "# Assert complementarity property\n",
    "assert np.isclose(1 - P_A, np.mean(~event_A))\n",
    "assert np.isclose(1 - P_B, np.mean(~event_B))\n",
    "print('Complementarity property respected')\n",
    "\n",
    "# Assert Total Probability Theorem\n",
    "assert np.isclose( P_A, P_A_given_B*P_B + P_A_given_notB*(1-P_B) )\n",
    "print('Law of Total Probability Successfully asserted!')\n",
    "\n",
    "# Assert Conditional Probability Theorem\n",
    "assert np.isclose(P_A_and_B/P_B , np.mean(event_A[event_B]))\n",
    "print('Conditional Probability Theorem y Successfully asserted!')\n"
   ],
   "id": "958a0fe7e40d03f9",
   "outputs": [
    {
     "name": "stdout",
     "output_type": "stream",
     "text": [
      "Event A\n",
      " [False False False ...  True False False] \n",
      "\n",
      "P(A) =  0.2985\n",
      "P(~A) =  0.7015\n",
      "P(B) =  0.4903\n",
      "P(~B) =  0.5097\n",
      "P(A|B) =  0.29818478482561694\n",
      "P(A|~B) =  0.298803217578968\n",
      "P(A and B) =  0.1462\n",
      "Complementarity property respected\n",
      "Law of Total Probability Successfully asserted!\n",
      "Conditional Probability Theorem y Successfully asserted!\n"
     ]
    }
   ],
   "execution_count": 20
  },
  {
   "metadata": {},
   "cell_type": "markdown",
   "source": "",
   "id": "20fb1b6d7568761b"
  },
  {
   "metadata": {
    "ExecuteTime": {
     "end_time": "2025-06-26T13:22:00.219850Z",
     "start_time": "2025-06-26T13:22:00.217365Z"
    }
   },
   "cell_type": "code",
   "source": "%who",
   "id": "87a6dfedad290bac",
   "outputs": [
    {
     "name": "stdout",
     "output_type": "stream",
     "text": [
      "P_A\t P_A_and_B\t P_A_given_B\t P_A_given_notB\t P_B\t amount_spent_sample_space\t ecommerce_data\t event_A\t event_B\t \n",
      "event_product_A\t event_spent_over_100\t i\t j\t length_of_sample_space\t np\t num_possible_outcomes\t p_A\t p_A_and_B\t \n",
      "p_B\t p_p\t pd\t probabilities\t product_p_transactions\t product_sample_space\t pydev_jupyter_vars\t remove_imported_pydev_package\t sales_data\t \n",
      "sample_space\t sys\t total_transactions\t transaction_data\t transactions\t var\t \n"
     ]
    }
   ],
   "execution_count": 21
  },
  {
   "metadata": {
    "ExecuteTime": {
     "end_time": "2025-06-26T13:22:00.234259Z",
     "start_time": "2025-06-26T13:22:00.232081Z"
    }
   },
   "cell_type": "code",
   "source": [
    "for var in [\n",
    "    \"P_A\", \"P_A_and_B\", \"P_A_given_B\", \"P_A_given_notB\", \"P_B\", \"amount_spent_sample_space\",\n",
    "    \"ecommerce_data\", \"event_A\", \"event_B\", \"event_b\", \"event_product_A\",\n",
    "    \"event_spent_over_100\", \"i\", \"j\", \"length_of_sample_space\", \"np\",\n",
    "    \"num_possible_outcomes\", \"p_A\", \"p_A_and_B\", \"p_B\", \"p_p\", \"pd\",\n",
    "    \"probabilities\", \"product_p_transactions\", \"product_sample_space\",\n",
    "    \"products_list\", \"pydev_jupyter_vars\", \"remove_imported_pydev_package\",\n",
    "    \"sales_data\", \"sample_space\", \"sys\", \"total_transactions\", \"transaction\",\n",
    "    \"transaction_data\", \"transactions\"\n",
    "]:\n",
    "    globals().pop(var, None)\n"
   ],
   "id": "d370b2cbbff204eb",
   "outputs": [],
   "execution_count": 22
  },
  {
   "metadata": {
    "ExecuteTime": {
     "end_time": "2025-06-26T13:22:00.243902Z",
     "start_time": "2025-06-26T13:22:00.242087Z"
    }
   },
   "cell_type": "code",
   "source": "%who",
   "id": "22772484ad889772",
   "outputs": [
    {
     "name": "stdout",
     "output_type": "stream",
     "text": [
      "pydev_jupyter_vars\t remove_imported_pydev_package\t sys\t var\t \n"
     ]
    }
   ],
   "execution_count": 23
  },
  {
   "metadata": {},
   "cell_type": "markdown",
   "source": "",
   "id": "b9d97277651a7976"
  },
  {
   "metadata": {},
   "cell_type": "markdown",
   "source": [
    "## 3.5.1 Product Rule and Bayes Theorem\n",
    "\n",
    "### Product Rule\n",
    "Determines the joint probability of 2 events<br>\n",
    "$ P(A , B) = P(A \\cap B) = P(A)*P(B|A) = P(B)*P(A|B) $\n",
    "\n",
    "### Bayes Theorem\n",
    "$ P(A|B) = P(B|A)*\\frac{P(A)}{P(B)} $"
   ],
   "id": "7a0c449b29473893"
  },
  {
   "metadata": {
    "ExecuteTime": {
     "end_time": "2025-06-26T13:22:59.864629Z",
     "start_time": "2025-06-26T13:22:59.859985Z"
    }
   },
   "cell_type": "code",
   "source": [
    "import numpy as np\n",
    "\n",
    "# Generate random data for events A and B\n",
    "event_A = np.random.choice([0,1], size=10000, p=[0.9, 0.1])\n",
    "event_B = np.random.choice([0,1], size=10000, p=[0.95, 0.05])\n",
    "\n",
    "# Compute probabilities for each\n",
    "P_A = np.mean(event_A)\n",
    "print('P(A) = ', P_A)\n",
    "\n",
    "P_B = np.mean(event_B)\n",
    "print('P(B) = ', P_B)\n",
    "\n",
    "# Compute P(A and B), P(A|B) and P(B|A) using product rule\n",
    "P_A_and_B = np.mean(event_A & event_B)\n",
    "assert np.isclose(P_A_and_B, np.mean(event_A*event_B))\n",
    "print('P(A and B) = ', P_A_and_B)\n",
    "\n",
    "P_A_given_B = P_A_and_B/P_B\n",
    "assert np.isclose(P_A_given_B, np.mean(event_A[event_B.astype(bool)]))\n",
    "print('P(A|B) = ', P_A_given_B, np.mean(event_A[event_B.astype(bool)]))\n",
    "\n",
    "P_B_given_A = P_A_and_B/P_A\n",
    "assert np.isclose(P_B_given_A, np.mean(event_B[event_A.astype(bool)]))\n",
    "print('P(B|A) = ', P_B_given_A, np.mean(event_B[event_A.astype(bool)]))\n",
    "\n",
    "# Verify Product Rule\n",
    "assert np.isclose(P_A_and_B, P_A * P_B_given_A)\n",
    "assert np.isclose(P_A_and_B, P_B * P_A_given_B)\n",
    "print('Product Rule successfully asserted!')\n",
    "\n",
    "# Verify Bayes Theorem\n",
    "assert np.isclose(P_A_given_B, P_B_given_A * P_A / P_B)\n",
    "print('Bayes Theorem successfully asserted!')\n",
    "\n"
   ],
   "id": "2741bcada61e7fa9",
   "outputs": [
    {
     "name": "stdout",
     "output_type": "stream",
     "text": [
      "P(A) =  0.1002\n",
      "P(B) =  0.0518\n",
      "P(A and B) =  0.0057\n",
      "P(A|B) =  0.11003861003861004 0.11003861003861004\n",
      "P(B|A) =  0.056886227544910184 0.05688622754491018\n",
      "Product Rule successfully asserted!\n",
      "Bayes Theorem successfully asserted!\n"
     ]
    }
   ],
   "execution_count": 26
  },
  {
   "metadata": {
    "ExecuteTime": {
     "end_time": "2025-06-26T13:22:46.955972Z",
     "start_time": "2025-06-26T13:22:46.953471Z"
    }
   },
   "cell_type": "code",
   "source": "",
   "id": "29416e1b8a8b27af",
   "outputs": [],
   "execution_count": null
  },
  {
   "metadata": {},
   "cell_type": "markdown",
   "source": [
    "## 3.6.1.1 Cumulative Distribution Function\n",
    "$F(x) = P(X ≤ x)$"
   ],
   "id": "b7653df29f15376"
  },
  {
   "metadata": {
    "ExecuteTime": {
     "end_time": "2025-06-26T13:23:04.038519Z",
     "start_time": "2025-06-26T13:23:03.665589Z"
    }
   },
   "cell_type": "code",
   "source": [
    "import matplotlib.pyplot as plt\n",
    "import random"
   ],
   "id": "d39c6592566969a5",
   "outputs": [],
   "execution_count": 27
  },
  {
   "metadata": {
    "ExecuteTime": {
     "end_time": "2025-06-26T13:23:06.607258Z",
     "start_time": "2025-06-26T13:23:06.536388Z"
    }
   },
   "cell_type": "code",
   "source": [
    "purchase_times = [random.randint(1,25) for _ in range(100)]\n",
    "print(purchase_times)\n",
    "\n",
    "purchase_times.sort()\n",
    "print(purchase_times)\n",
    "\n",
    "# Create list of cumulative properties from 1/N to 1\n",
    "probabilities = np.arange(1, len(purchase_times)+1) /len(purchase_times)\n",
    "print(probabilities)\n",
    "\n",
    "# Create graph\n",
    "plt.plot(purchase_times, probabilities, marker='.' ,linestyle='none')\n",
    "\n",
    "# Set up tags and title\n",
    "plt.title('Cumulative Distribution Function of Purchase Times')\n",
    "plt.xlabel('Purchase Time (minutes)')\n",
    "plt.ylabel('Cumulative Probability')\n",
    "\n",
    "plt.show()"
   ],
   "id": "68c7514721e5fa00",
   "outputs": [
    {
     "name": "stdout",
     "output_type": "stream",
     "text": [
      "[3, 14, 12, 14, 18, 15, 21, 13, 23, 2, 13, 22, 1, 15, 25, 24, 6, 8, 17, 22, 9, 3, 21, 5, 2, 13, 5, 2, 17, 13, 23, 5, 23, 4, 20, 16, 17, 15, 14, 6, 12, 21, 15, 6, 22, 21, 14, 2, 9, 21, 6, 20, 12, 7, 7, 1, 2, 20, 2, 8, 8, 4, 21, 5, 22, 9, 11, 17, 8, 25, 16, 14, 9, 21, 4, 25, 22, 21, 5, 25, 19, 5, 2, 19, 21, 25, 22, 23, 9, 5, 10, 12, 15, 24, 20, 18, 21, 20, 16, 15]\n",
      "[1, 1, 2, 2, 2, 2, 2, 2, 2, 3, 3, 4, 4, 4, 5, 5, 5, 5, 5, 5, 5, 6, 6, 6, 6, 7, 7, 8, 8, 8, 8, 9, 9, 9, 9, 9, 10, 11, 12, 12, 12, 12, 13, 13, 13, 13, 14, 14, 14, 14, 14, 15, 15, 15, 15, 15, 15, 16, 16, 16, 17, 17, 17, 17, 18, 18, 19, 19, 20, 20, 20, 20, 20, 21, 21, 21, 21, 21, 21, 21, 21, 21, 21, 22, 22, 22, 22, 22, 22, 23, 23, 23, 23, 24, 24, 25, 25, 25, 25, 25]\n",
      "[0.01 0.02 0.03 0.04 0.05 0.06 0.07 0.08 0.09 0.1  0.11 0.12 0.13 0.14\n",
      " 0.15 0.16 0.17 0.18 0.19 0.2  0.21 0.22 0.23 0.24 0.25 0.26 0.27 0.28\n",
      " 0.29 0.3  0.31 0.32 0.33 0.34 0.35 0.36 0.37 0.38 0.39 0.4  0.41 0.42\n",
      " 0.43 0.44 0.45 0.46 0.47 0.48 0.49 0.5  0.51 0.52 0.53 0.54 0.55 0.56\n",
      " 0.57 0.58 0.59 0.6  0.61 0.62 0.63 0.64 0.65 0.66 0.67 0.68 0.69 0.7\n",
      " 0.71 0.72 0.73 0.74 0.75 0.76 0.77 0.78 0.79 0.8  0.81 0.82 0.83 0.84\n",
      " 0.85 0.86 0.87 0.88 0.89 0.9  0.91 0.92 0.93 0.94 0.95 0.96 0.97 0.98\n",
      " 0.99 1.  ]\n"
     ]
    },
    {
     "data": {
      "text/plain": [
       "<Figure size 640x480 with 1 Axes>"
      ],
      "image/png": "[encoded data removed]"
     },
     "metadata": {},
     "output_type": "display_data"
    }
   ],
   "execution_count": 28
  },
  {
   "metadata": {},
   "cell_type": "code",
   "outputs": [],
   "execution_count": null,
   "source": "",
   "id": "6ec04f55aa8f4b8b"
  },
  {
   "metadata": {},
   "cell_type": "markdown",
   "source": "## 3.6.1.2 Density Function\n",
   "id": "b250bc81c9daacce"
  },
  {
   "metadata": {
    "ExecuteTime": {
     "end_time": "2025-06-26T13:23:13.941305Z",
     "start_time": "2025-06-26T13:23:13.324157Z"
    }
   },
   "cell_type": "code",
   "source": "from scipy.stats import norm",
   "id": "55fb5ccdb79f1085",
   "outputs": [],
   "execution_count": 29
  },
  {
   "metadata": {
    "ExecuteTime": {
     "end_time": "2025-06-26T13:23:16.063382Z",
     "start_time": "2025-06-26T13:23:15.993046Z"
    }
   },
   "cell_type": "code",
   "source": [
    "# Heights in cm\n",
    "heights = [random.randint(150,210) for _ in range(1000)]\n",
    "\n",
    "mean, deviation = np.mean(heights), np.std(heights)\n",
    "print('Mean =',mean, '\\nDeviation = ', deviation)\n",
    "\n",
    "# Create a range to evaluate the range of height values for the PDF\n",
    "values = np.linspace(min(heights), max(heights), 100)\n",
    "print('\\n', values)\n",
    "\n",
    "# Evaluate PDF in the given values\n",
    "densities = norm.pdf(values, mean, deviation)\n",
    "print('\\n', densities)\n",
    "\n",
    "# Create PDF graph\n",
    "plt.figure(figsize=(10,6))\n",
    "plt.plot(values, densities, label='PDF of heights')\n",
    "\n",
    "# Add graph details\n",
    "plt.title('Probability Density Function of Heights')\n",
    "plt.xlabel('Height (cm)')\n",
    "plt.ylabel('Probability Density')\n",
    "plt.legend()\n",
    "plt.grid(True)\n",
    "\n",
    "plt.show()"
   ],
   "id": "35ef9243a128d816",
   "outputs": [
    {
     "name": "stdout",
     "output_type": "stream",
     "text": [
      "Mean = 179.56 \n",
      "Deviation =  17.336274109508075\n",
      "\n",
      " [150.         150.60606061 151.21212121 151.81818182 152.42424242\n",
      " 153.03030303 153.63636364 154.24242424 154.84848485 155.45454545\n",
      " 156.06060606 156.66666667 157.27272727 157.87878788 158.48484848\n",
      " 159.09090909 159.6969697  160.3030303  160.90909091 161.51515152\n",
      " 162.12121212 162.72727273 163.33333333 163.93939394 164.54545455\n",
      " 165.15151515 165.75757576 166.36363636 166.96969697 167.57575758\n",
      " 168.18181818 168.78787879 169.39393939 170.         170.60606061\n",
      " 171.21212121 171.81818182 172.42424242 173.03030303 173.63636364\n",
      " 174.24242424 174.84848485 175.45454545 176.06060606 176.66666667\n",
      " 177.27272727 177.87878788 178.48484848 179.09090909 179.6969697\n",
      " 180.3030303  180.90909091 181.51515152 182.12121212 182.72727273\n",
      " 183.33333333 183.93939394 184.54545455 185.15151515 185.75757576\n",
      " 186.36363636 186.96969697 187.57575758 188.18181818 188.78787879\n",
      " 189.39393939 190.         190.60606061 191.21212121 191.81818182\n",
      " 192.42424242 193.03030303 193.63636364 194.24242424 194.84848485\n",
      " 195.45454545 196.06060606 196.66666667 197.27272727 197.87878788\n",
      " 198.48484848 199.09090909 199.6969697  200.3030303  200.90909091\n",
      " 201.51515152 202.12121212 202.72727273 203.33333333 203.93939394\n",
      " 204.54545455 205.15151515 205.75757576 206.36363636 206.96969697\n",
      " 207.57575758 208.18181818 208.78787879 209.39393939 210.        ]\n",
      "\n",
      " [0.00537813 0.00570497 0.00604429 0.00639596 0.00675983 0.00713568\n",
      " 0.00752322 0.00792212 0.00833198 0.00875234 0.00918269 0.00962242\n",
      " 0.0100709  0.0105274  0.01099116 0.01146133 0.01193702 0.01241726\n",
      " 0.01290105 0.01338732 0.01387495 0.01436277 0.01484959 0.01533416\n",
      " 0.01581519 0.0162914  0.01676145 0.01722399 0.01767768 0.01812117\n",
      " 0.01855309 0.0189721  0.01937688 0.01976613 0.02013857 0.02049297\n",
      " 0.02082813 0.02114292 0.02143625 0.0217071  0.02195453 0.02217766\n",
      " 0.0223757  0.02254793 0.02269373 0.02281258 0.02290404 0.02296779\n",
      " 0.02300357 0.02301128 0.02299087 0.02294242 0.02286612 0.02276223\n",
      " 0.02263114 0.02247332 0.02228934 0.02207987 0.02184565 0.02158752\n",
      " 0.02130639 0.02100323 0.02067909 0.02033509 0.01997239 0.0195922\n",
      " 0.01919577 0.01878439 0.01835938 0.01792206 0.0174738  0.01701594\n",
      " 0.01654983 0.01607684 0.01559828 0.01511549 0.01462975 0.01414233\n",
      " 0.01365445 0.01316729 0.01268201 0.01219969 0.01172139 0.01124808\n",
      " 0.0107807  0.01032012 0.00986715 0.00942254 0.00898697 0.00856107\n",
      " 0.00814539 0.00774043 0.00734662 0.00696433 0.00659386 0.00623548\n",
      " 0.00588938 0.00555569 0.00523451 0.00492587]\n"
     ]
    },
    {
     "data": {
      "text/plain": [
       "<Figure size 1000x600 with 1 Axes>"
      ],
      "image/png": "[encoded data removed]"
     },
     "metadata": {},
     "output_type": "display_data"
    }
   ],
   "execution_count": 30
  },
  {
   "metadata": {},
   "cell_type": "code",
   "outputs": [],
   "execution_count": null,
   "source": "",
   "id": "e400be4182ea5769"
  },
  {
   "metadata": {},
   "cell_type": "markdown",
   "source": "## 3.6.1.3 Probability Mass Function",
   "id": "8c4eb2fa8346dd41"
  },
  {
   "metadata": {
    "ExecuteTime": {
     "end_time": "2025-06-26T13:23:19.401731Z",
     "start_time": "2025-06-26T13:23:19.398446Z"
    }
   },
   "cell_type": "code",
   "source": "from scipy.stats import binom",
   "id": "3072754bf588314d",
   "outputs": [],
   "execution_count": 31
  },
  {
   "metadata": {
    "ExecuteTime": {
     "end_time": "2025-06-26T13:26:01.619747Z",
     "start_time": "2025-06-26T13:26:01.498769Z"
    }
   },
   "cell_type": "code",
   "source": [
    "# Binomial distribution parameters\n",
    "n, p = 20, 0.3\n",
    "\n",
    "# Create a list with all possible results\n",
    "x = np.arange(0,n+1)\n",
    "print('\\n', x, '\\n')\n",
    "\n",
    "# Compute PMF for each result\n",
    "pmf = binom.pmf(x, n, p)\n",
    "print('\\n', pmf, '\\n')\n",
    "\n",
    "# Create PMF graph\n",
    "plt.figure(figsize=(12,8))\n",
    "plt.stem(x, pmf) # Stem plot, vertical lines from y=0\n",
    "plt.title('Probability Mass Function of a Binomial Distribution')\n",
    "plt.xlabel('# of successes')\n",
    "plt.ylabel('Probability')\n",
    "plt.grid(True)\n",
    "plt.show()\n",
    "\n",
    "# We can also compute the CDF\n",
    "cumulative_prob = binom.cdf(x, n, p)\n",
    "print('\\n', cumulative_prob, '\\n')\n",
    "\n",
    "# Create CDF graph\n",
    "plt.figure(figsize=(12,8))\n",
    "plt.plot(x, cumulative_prob, marker='o')\n",
    "plt.title('Probability Mass Function of a Binomial Distribution')\n",
    "plt.xlabel('# of successes')\n",
    "plt.ylabel('Probability')\n",
    "plt.grid(True)\n",
    "plt.show()\n"
   ],
   "id": "b2b2eb1ea9a9a332",
   "outputs": [
    {
     "name": "stdout",
     "output_type": "stream",
     "text": [
      "\n",
      " [ 0  1  2  3  4  5  6  7  8  9 10 11 12 13 14 15 16 17 18 19 20] \n",
      "\n",
      "\n",
      " [7.97922663e-04 6.83933711e-03 2.78458725e-02 7.16036722e-02\n",
      " 1.30420974e-01 1.78863051e-01 1.91638983e-01 1.64261985e-01\n",
      " 1.14396740e-01 6.53695655e-02 3.08170809e-02 1.20066549e-02\n",
      " 3.85928193e-03 1.01783260e-03 2.18106985e-04 3.73897689e-05\n",
      " 5.00755833e-06 5.04963865e-07 3.60688475e-08 1.62716605e-09\n",
      " 3.48678440e-11] \n",
      "\n"
     ]
    },
    {
     "data": {
      "text/plain": [
       "<Figure size 1200x800 with 1 Axes>"
      ],
      "image/png": "[encoded data removed]"
     },
     "metadata": {},
     "output_type": "display_data"
    },
    {
     "name": "stdout",
     "output_type": "stream",
     "text": [
      "\n",
      " [7.97922663e-04 7.63725977e-03 3.54831323e-02 1.07086805e-01\n",
      " 2.37507779e-01 4.16370829e-01 6.08009812e-01 7.72271797e-01\n",
      " 8.86668537e-01 9.52038103e-01 9.82855184e-01 9.94861838e-01\n",
      " 9.98721120e-01 9.99738953e-01 9.99957060e-01 9.99994450e-01\n",
      " 9.99999457e-01 9.99999962e-01 9.99999998e-01 1.00000000e+00\n",
      " 1.00000000e+00] \n",
      "\n"
     ]
    },
    {
     "data": {
      "text/plain": [
       "<Figure size 1200x800 with 1 Axes>"
      ],
      "image/png": "[encoded data removed]"
     },
     "metadata": {},
     "output_type": "display_data"
    }
   ],
   "execution_count": 34
  },
  {
   "metadata": {},
   "cell_type": "code",
   "outputs": [],
   "execution_count": null,
   "source": "",
   "id": "276376480474dfa7"
  },
  {
   "metadata": {},
   "cell_type": "markdown",
   "source": [
    "## 3.7.1 Mean\n",
    "$ E(x) = \\sum_{1}^{n} p_i * x_i = p_1 * x_1 + p_2 * x_2 + ... + p_n * x_n $"
   ],
   "id": "947e79a104058a54"
  },
  {
   "metadata": {
    "ExecuteTime": {
     "end_time": "2025-06-26T13:30:16.888810Z",
     "start_time": "2025-06-26T13:30:16.885204Z"
    }
   },
   "cell_type": "code",
   "source": [
    "# We are going to throw a fair die\n",
    "X = np.array([1,2,3,4,5,6])\n",
    "print('\\n', X, '\\n')\n",
    "P_X = np.full(6, 1/6)\n",
    "print('\\n', P_X, '\\n')\n",
    "\n",
    "E_X = np.sum(X*P_X)\n",
    "print('\\n', E_X, '\\n')"
   ],
   "id": "78a037fc88ee0e7e",
   "outputs": [
    {
     "name": "stdout",
     "output_type": "stream",
     "text": [
      "\n",
      " [1 2 3 4 5 6] \n",
      "\n",
      "\n",
      " [0.16666667 0.16666667 0.16666667 0.16666667 0.16666667 0.16666667] \n",
      "\n",
      "\n",
      " 3.5 \n",
      "\n"
     ]
    }
   ],
   "execution_count": 37
  },
  {
   "metadata": {
    "ExecuteTime": {
     "end_time": "2025-06-26T13:39:37.419225Z",
     "start_time": "2025-06-26T13:39:37.414563Z"
    }
   },
   "cell_type": "code",
   "source": [
    "import pandas as pd\n",
    "# doing this two diff ways\n",
    "\n",
    "# using np\n",
    "sales = np.array([0,100,200,300,400,500])\n",
    "print('Sales = ', sales, '\\n')\n",
    "\n",
    "prob_sales = np.array([0.1,0.2,0.3,0.15,0.15,0.1])\n",
    "print('Probability Sales = ', prob_sales, '\\n')\n",
    "\n",
    "E_sales = np.sum(sales*prob_sales)\n",
    "print('E_Sales = ', E_sales, '\\n')\n",
    "\n",
    "# or using a dataframe\n",
    "df = pd.DataFrame({\n",
    "    'sales': [0,100,200,300,400,500],\n",
    "    'prob_sales': [0.1,0.2,0.3,0.15,0.15,0.1]\n",
    "})\n",
    "print('\\n', df, '\\n')\n",
    "\n",
    "df['sales*prob_sales'] = df['sales']*df['prob_sales']\n",
    "print('\\n', df, '\\n')\n",
    "\n",
    "E_sales = df['sales*prob_sales'].sum()\n",
    "print('E_Sales = ', E_sales, '\\n')"
   ],
   "id": "e2e7e6d0075ab24d",
   "outputs": [
    {
     "name": "stdout",
     "output_type": "stream",
     "text": [
      "Sales =  [  0 100 200 300 400 500] \n",
      "\n",
      "Probability Sales =  [0.1  0.2  0.3  0.15 0.15 0.1 ] \n",
      "\n",
      "E_Sales =  235.0 \n",
      "\n",
      "\n",
      "    sales  prob_sales\n",
      "0      0        0.10\n",
      "1    100        0.20\n",
      "2    200        0.30\n",
      "3    300        0.15\n",
      "4    400        0.15\n",
      "5    500        0.10 \n",
      "\n",
      "\n",
      "    sales  prob_sales  sales*prob_sales\n",
      "0      0        0.10               0.0\n",
      "1    100        0.20              20.0\n",
      "2    200        0.30              60.0\n",
      "3    300        0.15              45.0\n",
      "4    400        0.15              60.0\n",
      "5    500        0.10              50.0 \n",
      "\n",
      "E_Sales =  235.0 \n",
      "\n"
     ]
    }
   ],
   "execution_count": 41
  },
  {
   "metadata": {},
   "cell_type": "code",
   "outputs": [],
   "execution_count": null,
   "source": "",
   "id": "4c0cda57b8ad5b83"
  },
  {
   "metadata": {},
   "cell_type": "markdown",
   "source": [
    "## 3.7.2 Variance and Standard Deviation\n",
    "Variance:\n",
    "$ Var(X) = E[(X - E(X))^2] = \\sum_{1}^{n} p_i * (x_i - E(X))^2 $\n",
    "<br>\n",
    "<br>\n",
    "Standard Deviation: $ \\sigma (X) = \\sqrt{Var(X)} $"
   ],
   "id": "29ba6caa91506669"
  },
  {
   "metadata": {
    "ExecuteTime": {
     "end_time": "2025-06-26T13:49:19.240077Z",
     "start_time": "2025-06-26T13:49:19.225017Z"
    }
   },
   "cell_type": "code",
   "source": [
    "import numpy as np\n",
    "\n",
    "# Generate 1000 random data that follow normal dist\n",
    "data = np.random.normal(0,1,1000)\n",
    "print('\\n', data, '\\n')\n",
    "\n",
    "# Compute Variance and Std\n",
    "var = np.var(data)\n",
    "print('Var = ', var, '\\n')\n",
    "std = np.std(data)\n",
    "print('Std = ', std, '\\n')\n"
   ],
   "id": "7b22f79781721390",
   "outputs": [
    {
     "name": "stdout",
     "output_type": "stream",
     "text": [
      "\n",
      " [ 1.12283680e+00  2.10174215e+00  1.16805341e-01  8.04002705e-01\n",
      "  9.79409451e-01 -6.34010871e-01  2.07303644e-01 -1.59194444e+00\n",
      " -4.88718913e-01  5.23819403e-01 -2.04901626e+00 -2.17658788e-01\n",
      " -2.12244689e-01 -1.30145908e-01 -1.17755044e-01 -1.49497475e+00\n",
      "  3.82868562e-01  3.60611981e-01  7.94696283e-01 -9.33103111e-01\n",
      "  6.79941784e-01 -4.23775382e-03 -6.83879191e-01 -1.02801144e+00\n",
      "  5.44518958e-01 -9.03035370e-01 -6.72649343e-01 -1.42236756e-01\n",
      "  4.06306024e-01  4.10229431e-01  7.24090925e-01 -9.18588187e-01\n",
      "  6.46666370e-01  2.23740232e-01  1.61151104e+00  2.26777053e-01\n",
      "  6.64685399e-01 -1.71266210e+00 -1.31080086e+00 -1.52470542e-02\n",
      " -3.61388737e-01  2.61783317e+00  2.86961934e-01  1.08653432e+00\n",
      "  7.39456203e-01 -2.45186955e-01 -1.25044917e+00 -5.15449846e-01\n",
      " -8.64186637e-01  1.42381756e+00  4.63589178e-01  3.22669997e-01\n",
      "  8.31712230e-01 -1.58541502e+00 -2.14843434e-01  1.30748689e+00\n",
      " -1.12669213e+00  1.05854222e+00  6.63724814e-01  2.94836374e-01\n",
      " -5.43649389e-02  2.15227528e+00  5.59448736e-01 -1.74382577e+00\n",
      "  6.82152258e-01 -2.07029131e+00 -2.84022546e-01  2.35328003e+00\n",
      "  1.22124623e-01 -5.80050510e-02  7.60267373e-01 -1.74582474e-01\n",
      "  9.33928087e-01 -3.84546088e-01  2.86969005e-01 -8.68043372e-01\n",
      "  4.71921938e-01 -3.63400393e-01 -2.45858171e-01 -3.57448297e-01\n",
      "  9.88725044e-01 -2.07394165e-01 -1.50226154e+00  9.86459824e-01\n",
      "  1.18682538e-01 -9.62742867e-01  8.34931056e-01 -6.48493819e-01\n",
      " -2.16015231e-01 -1.01650010e-02 -7.34659070e-01  3.19544516e-01\n",
      " -1.07257381e-01  1.06548290e+00  9.19893353e-01 -1.41845313e+00\n",
      "  5.69289132e-01  7.08937506e-01  3.28469473e-01  1.61388654e+00\n",
      " -1.73505234e+00 -2.87507514e-01 -3.87355193e-01 -2.04831837e+00\n",
      " -3.12598029e-01 -1.92466480e+00 -3.80778689e-01  5.41585908e-01\n",
      "  9.10211909e-01 -1.56649153e+00  3.66054453e-02 -1.36158213e+00\n",
      " -4.19141518e-02  6.95071795e-01  1.45268258e+00 -2.94744380e-01\n",
      "  6.12151895e-02  5.07585543e-01 -2.83646779e-01 -7.21548801e-01\n",
      " -1.60379395e+00 -1.07367426e+00 -2.01643776e+00  3.66421757e-01\n",
      " -1.76002043e-01 -9.46847075e-01 -1.65941365e+00 -6.53329371e-01\n",
      "  7.58918468e-01 -1.35153108e+00 -7.42205580e-02  2.69854240e-01\n",
      "  1.06152902e+00 -5.59040047e-01 -1.72571694e+00 -5.77731851e-01\n",
      " -1.21928713e+00 -1.62162607e+00  8.43946584e-01 -9.01137561e-01\n",
      "  1.73963836e-01 -5.08351882e-01 -6.09744137e-01  6.58905834e-01\n",
      "  2.74715893e-02  3.41503320e-01  6.83591800e-01  1.09520582e-01\n",
      " -4.54746527e-01 -8.21848045e-01 -2.19529196e+00 -9.18841023e-01\n",
      " -1.03154049e+00 -1.62870025e+00 -7.97584358e-01  9.47225756e-01\n",
      "  6.33232876e-01 -1.13272165e+00 -2.16897950e-01  1.70413493e-01\n",
      " -5.12310185e-01 -2.05226380e-01  8.05754488e-01 -2.27661533e+00\n",
      " -1.99908199e-01 -1.71058046e-01  2.49189656e-01  6.52525202e-01\n",
      " -4.05038923e-01 -1.61457993e+00 -1.10714266e+00 -3.22971646e-01\n",
      " -4.41058879e-02 -5.25042940e-02 -2.12525006e-02  5.35342797e-01\n",
      "  1.07224179e+00  5.14002995e-01 -1.85126451e+00 -1.11675577e+00\n",
      " -3.62037931e-01 -5.10420305e-01 -1.69800057e-01 -1.22842196e+00\n",
      " -1.97164977e+00  5.96838908e-01 -5.16445286e-01 -4.06028018e-01\n",
      "  2.14296426e-01 -1.32825326e+00  1.19990079e+00  1.41118980e+00\n",
      "  4.95523571e-01 -2.35682136e-01  2.36291085e-01 -4.78517396e-02\n",
      " -1.75708583e-01  1.96770244e+00  9.90625605e-02 -2.37511199e-01\n",
      "  8.40095887e-01  3.82033852e-03 -1.77640813e+00 -5.92332806e-01\n",
      " -1.41948878e+00  2.20773313e+00  5.23091501e-01  8.93704646e-01\n",
      " -2.37226922e-01 -6.80813343e-01  2.18131153e+00  5.81079940e-01\n",
      " -3.65877045e-01 -1.18256590e+00 -1.15149076e+00 -7.65553205e-01\n",
      "  7.49731993e-01  1.62491696e+00  1.11869960e+00  5.98195834e-01\n",
      "  1.13735645e-01  9.52470676e-01  2.63538941e+00 -2.06701764e+00\n",
      " -3.43842436e+00 -1.76745312e+00 -3.22105635e-01 -9.34241588e-01\n",
      "  1.44793610e+00 -1.59046689e-01  1.70192165e+00 -6.53934320e-01\n",
      "  1.20490220e+00  8.98112866e-03  9.65862495e-01 -4.82492153e-01\n",
      " -2.87297642e-01 -1.17764884e+00  1.30523536e-01  6.16079780e-01\n",
      " -9.00774531e-01  2.84435173e-01 -5.19718192e-01  4.80464681e-01\n",
      " -1.31143417e+00 -1.14061066e+00 -3.44589242e-01  1.78706748e+00\n",
      " -1.29937368e+00  1.17099625e+00  5.38352850e-01  1.27756251e+00\n",
      "  3.73476900e-01  1.12274003e-01 -7.67146723e-02 -5.78003207e-01\n",
      " -1.07247234e+00  3.15000021e-01  9.69111352e-01  1.29564226e+00\n",
      "  1.11107916e+00  6.97740703e-01  6.73850768e-01  1.02551996e-01\n",
      "  3.65343878e+00 -1.19092059e+00 -2.49063557e+00 -1.30695025e+00\n",
      "  7.17233922e-02  5.30708366e-02  1.06424004e+00 -2.43869329e+00\n",
      "  6.02371690e-01 -1.25927969e+00  1.22942224e+00 -4.47936077e-01\n",
      "  9.98370614e-01  6.22645661e-01 -7.55302670e-01 -1.39558756e-01\n",
      "  5.60662259e-01  8.10276762e-01 -1.18756623e-01  1.14234119e+00\n",
      "  3.73029652e-01  5.01324638e-01 -6.28280795e-01 -4.00771713e-01\n",
      " -1.10715108e+00  5.83433821e-01 -6.45205188e-01 -9.57262874e-01\n",
      " -2.43949779e-02 -1.75932328e-01 -1.38353522e+00  2.24714270e+00\n",
      "  1.93036773e-01 -2.39003719e-01 -1.01972681e+00 -1.85412359e+00\n",
      "  4.46844013e-01 -8.38526086e-01 -2.94794687e-01 -4.25081641e-01\n",
      " -1.45071639e+00  1.98015222e-02 -1.13226330e+00  1.05933529e+00\n",
      " -3.60354371e-01  1.31877006e-01 -7.70092834e-01  5.68332300e-01\n",
      " -5.62454774e-01 -2.87601759e-01  5.87137082e-01 -4.67631945e-01\n",
      " -1.39375361e+00  6.47747879e-01  1.26982806e+00 -2.03631422e-01\n",
      "  5.99421158e-01 -6.64594946e-01 -2.86559110e-01  5.63813346e-01\n",
      " -9.12187557e-02  8.07805763e-02 -4.20957428e-01  8.13693087e-01\n",
      " -1.59722996e+00 -4.20287419e-02  7.18840833e-01  1.40230235e+00\n",
      " -1.18642697e+00  6.61162694e-02 -1.48259778e-01  1.54047485e-01\n",
      "  1.05637751e+00 -5.51045650e-01  1.79656390e+00  8.98170198e-01\n",
      "  2.40751155e-01 -2.80039827e-01 -4.69514149e-02  6.20407376e-01\n",
      " -9.68606528e-01 -1.85704578e-01 -1.53810378e+00  2.12908030e-01\n",
      "  2.39440871e-01 -7.68230838e-01  1.32584319e+00 -5.26477681e-02\n",
      " -1.62327950e+00  4.61900249e-01 -2.79973923e+00 -5.31112859e-01\n",
      "  3.90946283e-01 -2.24223929e+00  5.80118436e-01  1.46537041e-01\n",
      " -5.79049547e-01  1.16638486e+00  1.11971897e+00 -4.43835916e-01\n",
      " -2.35471029e-02  1.41507329e+00  1.36845165e+00  1.83550033e+00\n",
      "  7.63569168e-01 -5.82952984e-01 -2.45152452e+00 -3.34769433e-01\n",
      " -7.53157665e-01  2.45195307e-02 -9.46083188e-01 -4.80633412e-01\n",
      "  4.15949628e-01  1.32045689e+00  1.01078809e+00 -5.93885947e-01\n",
      "  3.54656336e-01  8.81765227e-01  1.98726439e+00 -2.12439508e-01\n",
      " -3.64625444e-01  8.69118246e-01 -2.99079355e-01 -1.80681527e-01\n",
      "  1.79372272e+00  4.93239972e-01 -1.52729958e+00 -2.48489968e-01\n",
      " -1.16607507e+00 -3.26519743e-01 -9.94577784e-01  1.07671158e+00\n",
      "  2.75303297e-01  3.86524257e-01 -1.98737769e-01 -4.02895357e-01\n",
      " -8.03793796e-01 -1.52838693e+00 -1.65869149e-01  4.21742556e-01\n",
      " -1.25475320e+00 -1.82546056e+00 -1.42403813e+00  1.00922270e+00\n",
      "  1.56203007e+00  9.99771542e-01 -2.46359627e-01  5.76167244e-01\n",
      " -5.38941111e-01  8.75034258e-01  2.10213353e+00  2.30195464e-01\n",
      "  4.96092050e-01  8.46212989e-01 -1.20591866e+00  6.87499701e-02\n",
      "  2.45029946e-01  3.48338272e-01  9.00669732e-01 -1.59283967e+00\n",
      " -6.02054594e-01  2.99367269e-01  1.59855067e+00  8.17229328e-01\n",
      "  3.01611989e-02 -1.39005409e+00 -1.17444288e+00 -1.39077634e+00\n",
      " -4.53104559e-01  6.10664415e-01 -2.87773612e-01 -6.07136844e-01\n",
      " -6.40113840e-02 -1.39338457e-01  1.01858569e-02 -7.31671865e-02\n",
      " -1.74216819e+00  1.13452310e+00 -2.62904343e-01 -1.18283148e+00\n",
      "  1.74110443e+00  9.46577738e-01 -3.38576287e-01 -5.63178732e-02\n",
      " -9.69004703e-01 -2.17291721e-01 -1.09414223e-01 -2.19566068e-02\n",
      "  5.84455949e-01  9.05307411e-01  1.14885294e+00 -9.81321120e-01\n",
      " -7.07385671e-01  5.99653108e-01  1.17947973e+00 -1.22658057e-01\n",
      "  1.52638407e-01 -7.71323233e-01  1.21351929e+00 -2.93626403e-01\n",
      "  8.04046810e-01  9.78952008e-01  1.19351301e+00  1.19094071e+00\n",
      " -1.84228490e+00 -1.07452396e+00 -2.57216803e-01 -5.50783134e-01\n",
      "  7.95250214e-01  7.63712574e-01  1.62388310e+00 -4.33924126e-01\n",
      "  5.56674308e-01  7.89327651e-02  4.87761847e-01 -8.48685422e-01\n",
      " -1.28394555e+00 -3.73279400e-01 -5.95286448e-01  8.90473569e-01\n",
      "  4.33466734e-01  3.10730029e-01  3.38445456e-01 -2.19789163e-01\n",
      "  1.36338348e+00  1.30972984e+00  1.45246302e-01  8.33080659e-01\n",
      "  1.50282795e+00  1.92308647e-02 -7.16530333e-01  4.14631434e-01\n",
      " -1.57847031e+00  5.06520730e-01  6.79310458e-01  4.71525379e-02\n",
      "  4.23045240e-01  2.43571760e-01 -6.77149933e-02 -1.37782772e+00\n",
      " -7.16056622e-01 -2.54131397e-01 -1.65992285e+00 -2.58156178e-01\n",
      " -7.73241538e-01  5.79876605e-01  1.36596931e+00  4.88217604e-02\n",
      "  1.21408232e+00 -1.54036946e+00  1.06301352e+00  7.44435849e-01\n",
      " -4.79806685e-01 -7.70360009e-01 -6.60054299e-01 -7.85103650e-01\n",
      "  8.29280783e-02 -7.85840645e-01 -6.30665713e-01  1.25688005e+00\n",
      "  7.62522878e-02 -7.45479811e-01  6.26777332e-01  9.60845093e-01\n",
      "  1.23538557e+00  1.35647504e+00  8.64764530e-01  7.47365789e-01\n",
      " -3.26844716e-01 -9.19576535e-02  4.35827648e-01 -9.31956054e-01\n",
      " -1.23088176e+00  5.71790058e-01 -5.56271739e-01 -4.19472089e-01\n",
      " -3.51872748e-01  2.81850355e-01  2.59892247e-01  3.49720451e-01\n",
      " -3.41442188e+00 -1.96763341e+00  3.91413618e-01 -3.61080008e-01\n",
      " -9.57186173e-01  5.03556406e-01  1.30053575e+00  5.55641298e-01\n",
      "  1.46564281e+00 -1.26713565e+00 -1.24641986e+00 -1.35826915e+00\n",
      " -1.75120051e-01 -5.96834546e-01  1.07096863e+00  3.09940394e-01\n",
      " -4.34258627e-01 -5.51813202e-01  3.89692526e-01 -1.06800025e+00\n",
      "  9.22783487e-02  1.42387989e-01  6.34021035e-01  4.65018476e-01\n",
      "  2.88018496e-01 -2.75879197e-01 -1.72027985e-01  1.32691394e+00\n",
      " -1.64456828e+00 -1.25902636e+00  4.62020372e-02 -6.58611430e-01\n",
      "  1.47069813e+00  2.49125918e-01 -1.23375147e+00 -7.24210621e-02\n",
      " -9.01664561e-01 -1.01265834e+00 -3.47757437e-01 -1.11090260e+00\n",
      " -1.86704710e+00 -5.32613206e-01  1.45250912e+00 -5.59311497e-01\n",
      " -1.11792823e-01 -6.16391349e-01 -1.01886092e+00  1.26900250e+00\n",
      "  7.58395673e-01 -6.58868950e-01  1.22505288e+00  1.20163243e+00\n",
      " -3.93959965e-01 -3.13914483e-01 -8.16920229e-03  2.27986938e-01\n",
      "  1.49293282e+00  1.79964743e+00  8.87451965e-01  3.71944282e-01\n",
      "  1.70833259e-01  5.57141091e-01  1.44315945e-01 -3.84076188e-01\n",
      " -1.54026817e+00  3.65275393e-01 -4.56100005e-01 -4.38900393e-01\n",
      "  2.98437313e-01  2.46889526e+00  1.25028871e-01 -2.53516130e+00\n",
      " -8.69279989e-01 -3.73555365e-01 -2.02202220e+00 -6.44016261e-01\n",
      "  8.14880628e-02 -2.72896999e+00  3.67064892e-01 -2.78728817e-01\n",
      "  6.32048598e-01  1.51223553e+00 -5.51166390e-03 -6.29920959e-01\n",
      "  6.95760958e-01 -4.59279232e-01  7.83485888e-01  4.77800822e-01\n",
      "  1.12165686e+00  8.64865618e-01 -2.28194022e+00  2.00414597e+00\n",
      " -9.85400046e-03  4.88202985e-01  1.60799857e+00  9.08442707e-01\n",
      " -1.05166460e-01  1.10183563e+00  4.46279264e-02  1.37155390e+00\n",
      " -4.43461044e-01 -5.14769385e-01  2.33552885e+00 -4.99296110e-02\n",
      " -9.35664570e-01  2.43140359e+00  6.63965171e-01  2.12727844e+00\n",
      " -7.05340166e-02  1.79399545e+00 -1.82067190e-01 -7.53225899e-01\n",
      "  2.54664095e-02  4.81407205e-01 -3.44158372e-01  1.13257919e+00\n",
      "  4.00822918e-01 -4.54655834e-01 -1.58965167e+00  3.71513266e-01\n",
      " -5.41062893e-01  7.71344777e-01  9.29410704e-01 -2.12243286e+00\n",
      " -3.60592590e-02 -1.15403803e+00 -1.32699221e+00 -6.14978429e-01\n",
      " -1.36486272e+00 -1.65940530e+00 -8.50777137e-01  1.10330063e+00\n",
      " -1.86336792e+00 -1.20528093e-01 -2.98392400e-01 -7.87628805e-01\n",
      "  3.69159197e-01  6.58339380e-01  1.20453727e+00  3.79331884e-02\n",
      "  2.43586491e-01  4.83946313e-01  4.52016243e-01  6.07229033e-01\n",
      " -5.48402390e-01 -1.40885463e+00  1.36646923e+00  1.57648492e+00\n",
      "  1.35281561e+00 -3.20131346e-01 -2.54145327e+00  1.68820156e+00\n",
      "  2.34376125e-02  5.24608292e-01  3.27184903e-01  3.30180870e-01\n",
      "  9.80965930e-01  2.89523800e-01 -1.82538540e+00 -3.20309185e-01\n",
      "  6.16428250e-01 -2.65234233e+00  2.28360944e-01 -1.23645701e+00\n",
      "  1.15749428e-01  4.46284904e-01 -6.04529750e-01  1.88422291e-01\n",
      " -3.47845797e-01  2.48105969e-01  2.36847019e-01  3.24104611e-01\n",
      " -2.64657994e-01  1.92449778e-01 -1.21683572e+00 -8.90312520e-01\n",
      "  3.61684962e-01 -1.54966273e-01  1.29908846e+00 -1.40889268e+00\n",
      " -2.25221893e-01 -2.92235270e-01 -3.99710615e-01 -4.65855023e-01\n",
      " -3.86277192e-01 -2.72531594e-01 -1.05683185e+00  5.42896686e-01\n",
      "  3.62768207e-01 -3.18963791e-01 -1.93174767e+00 -3.61454011e-01\n",
      " -1.65512480e+00  2.50475979e+00  2.81020842e-01  1.66689622e-01\n",
      "  2.17883077e-01 -1.34939301e+00 -2.11087489e+00  7.06078347e-01\n",
      "  2.91827786e-01  5.64979785e-01  1.05898054e+00  1.48924673e+00\n",
      " -9.11612896e-01  5.92257067e-01 -5.46327428e-01  2.13700704e+00\n",
      "  3.73814409e-01 -1.61212031e-01  5.00163668e-01 -3.42717609e-01\n",
      "  1.92427089e+00 -5.80832393e-01 -4.80867240e-01  6.64204916e-01\n",
      "  1.02580077e+00  4.44658484e-01  1.02944396e+00 -1.39497669e+00\n",
      " -1.37889103e+00 -9.99466082e-01  2.44914534e-01 -8.33993564e-01\n",
      "  2.68221425e-01 -8.99473325e-01  1.49369812e+00 -5.48206060e-01\n",
      "  2.00298032e+00  2.74531565e-01 -7.97982188e-01  1.47200678e-01\n",
      " -2.03645987e+00 -1.14149622e+00 -5.49240714e-01 -5.91881285e-01\n",
      " -1.01191194e+00 -2.01052800e+00  1.66200981e+00 -4.51802694e-01\n",
      " -2.18857631e-01 -7.61124527e-02 -1.69563339e+00  1.61285643e-02\n",
      "  8.73441422e-01  1.75073724e-01 -2.84347626e-01 -5.36136052e-01\n",
      " -2.74475184e-01  3.42104121e-01  9.10330008e-01 -4.78102077e-01\n",
      " -4.93918625e-01  4.89056735e-01 -9.63593489e-02 -3.20987474e-01\n",
      "  5.23084772e-01 -2.10120531e-01 -9.06025324e-01  4.04827096e-02\n",
      " -2.60306285e-01  1.20248946e+00 -3.20616978e-01  1.45132179e+00\n",
      " -6.50750412e-01  8.41342314e-01  9.73258126e-02 -4.11220300e-01\n",
      "  2.48491595e-01  1.57277910e+00  1.14090275e+00 -7.41734071e-01\n",
      "  2.16172748e-01 -1.99850860e+00  4.06157009e-01  1.23031084e+00\n",
      " -1.30978396e+00 -1.05644809e+00 -5.46411455e-01  7.14724289e-01\n",
      "  5.14393910e-01  9.31460628e-01 -7.07088513e-01 -3.08935114e-01\n",
      "  1.83943514e+00 -4.06983415e-01 -1.56933418e+00 -2.62939648e-01\n",
      "  2.15528617e+00 -8.20134724e-01 -4.89535619e-01  8.42573712e-01\n",
      " -8.88096437e-01  7.52208545e-02  7.46189066e-01 -6.14512889e-01\n",
      "  3.54795241e-01 -2.67332627e-03 -1.28718702e+00 -7.32433513e-01\n",
      " -1.48050846e-01  1.16330061e-01  7.71292133e-02  8.59094152e-01\n",
      "  9.23194078e-01 -2.89227542e-01 -1.20181468e+00  1.83916462e+00\n",
      "  4.92736301e-01 -1.61595498e-01  9.62278570e-01 -2.07545823e+00\n",
      "  1.55429006e+00  7.88201557e-01 -7.71454348e-02  1.98646725e+00\n",
      " -5.31949030e-01  1.68475759e+00  9.52444338e-01 -2.41355950e+00\n",
      "  4.41420828e-01  1.23130389e+00  1.06536593e+00  8.70724656e-01\n",
      " -7.30082754e-01 -1.01648603e+00 -5.47040151e-02  2.36084366e-01\n",
      "  7.35394767e-02  8.03616726e-02 -3.85632719e-01  2.27055618e+00\n",
      "  1.63750367e+00 -1.00780772e+00  5.33368307e-01 -1.06190166e+00\n",
      " -1.97225431e-01  3.87684661e-01 -7.80925957e-01  3.25179084e-01\n",
      " -1.78515571e+00 -4.94551983e-01  5.68739262e-01 -1.65276438e+00\n",
      " -5.43900963e-01  8.26535059e-01  5.57555224e-01  4.19133916e-01\n",
      " -8.15687332e-01  9.04075434e-01 -5.67627483e-01  3.42546837e-01\n",
      "  6.11875069e-01 -8.60906587e-01 -3.46135983e-01 -1.18417723e+00\n",
      " -1.24326454e+00 -5.17077389e-01  3.38512477e-01  1.85602788e-01\n",
      "  1.70582994e+00 -3.26237491e-01  3.34387187e-03  4.91083645e-01\n",
      " -5.34502724e-01 -1.11660597e-01  1.22123294e+00 -1.33408080e+00\n",
      "  2.69946194e-01 -1.41397188e+00 -5.51071947e-02 -1.74950568e-01\n",
      "  2.54996245e-01 -1.61872723e+00  7.53247336e-03  1.34639749e+00\n",
      "  2.37624864e-01  4.30580462e-01 -3.85452586e-01  1.51703347e+00\n",
      " -1.80013416e+00  2.76089950e-01  1.17320960e-01  7.77557307e-01\n",
      " -2.24758631e+00 -3.98703059e-01 -2.89355414e-01  5.63510129e-02\n",
      " -9.23617549e-01 -2.68545548e-01 -1.29528379e+00  4.60162931e-02\n",
      " -4.72716850e-01 -1.12197245e+00 -1.28791532e+00  7.78519472e-01\n",
      " -1.47729429e+00  9.93785799e-02  1.69155171e+00 -8.14612508e-01\n",
      " -3.80495634e-01  1.72473043e+00  8.09902357e-01  9.72343627e-01\n",
      " -3.54064327e-02 -1.60997449e+00  1.13252511e+00 -6.48224579e-01\n",
      " -1.17721667e+00 -1.27912890e+00 -6.05378227e-01 -8.58366091e-01\n",
      "  1.90299950e-01 -1.02573386e+00  5.81078928e-01 -1.15556225e+00\n",
      "  8.45712148e-02 -6.82382587e-01  5.79556166e-01 -1.86077760e+00\n",
      " -7.90772269e-02 -8.48068532e-02  7.97028459e-01 -2.80986612e-01\n",
      "  1.08053737e+00  1.77071103e+00 -1.89098462e+00 -1.89405808e-02\n",
      "  1.73756257e+00  8.66410110e-01 -1.19537257e+00  4.27955695e-01\n",
      " -1.27161316e+00  9.08835178e-01  8.31825614e-01  1.92600464e+00\n",
      "  1.29072097e+00  6.18701153e-01 -5.56260049e-01 -1.77285830e+00\n",
      " -7.06077326e-01 -6.10252853e-01 -7.22410855e-02 -2.29802357e+00\n",
      " -9.15089015e-01  7.91327780e-01  2.09942169e+00 -6.47831062e-01\n",
      " -3.79921152e-01 -1.74043647e-01  3.75208516e-01  8.32486048e-01\n",
      " -4.90410055e-01  6.15694484e-01  1.50214278e+00 -8.74055883e-01] \n",
      "\n",
      "Var =  0.9945946711107123 \n",
      "\n",
      "Std =  0.9972936734536685 \n",
      "\n"
     ]
    }
   ],
   "execution_count": 42
  },
  {
   "metadata": {},
   "cell_type": "code",
   "outputs": [],
   "execution_count": null,
   "source": "",
   "id": "a6ee700aa1bcb2f4"
  },
  {
   "metadata": {},
   "cell_type": "markdown",
   "source": [
    "## 3.8.1.1 Binomial Distribution\n",
    "Very simple, we are calculating the probability that we have k successes <br><br>\n",
    "$ PDF: P(X=k) = C(n,k) * p^k * (1-p)^{n-k} $\n",
    "<br>\n",
    "P(X=k): probability of k successes in n trials <br>\n",
    "p: Probability of success in a single trial <br>\n",
    "k: # of successes that we are interested in getting <br>\n",
    "n: # of total trials <br>\n",
    "\n",
    "$CDF: P(X≤k) = \\sum_{0}^{k}C(n,k) * p^i * (1-p)^{n-1}$"
   ],
   "id": "7b4bf2b92fda0743"
  },
  {
   "metadata": {
    "ExecuteTime": {
     "end_time": "2025-06-26T13:59:46.068907Z",
     "start_time": "2025-06-26T13:59:46.066742Z"
    }
   },
   "cell_type": "code",
   "source": [
    "# Parameters\n",
    "n = 10 # # of trials\n",
    "p = 0.5 # probability of success\n",
    "\n",
    "# Generate 1000 data that follow this distribution\n",
    "data = np.random.binomial(n, p, 20)\n",
    "print('\\n', data, '\\n')"
   ],
   "id": "5a4b1d0963a380d9",
   "outputs": [
    {
     "name": "stdout",
     "output_type": "stream",
     "text": [
      "\n",
      " [5 5 5 5 4 8 4 5 4 4 4 7 6 2 5 7 5 6 5 5] \n",
      "\n"
     ]
    }
   ],
   "execution_count": 46
  },
  {
   "metadata": {},
   "cell_type": "code",
   "outputs": [],
   "execution_count": null,
   "source": "",
   "id": "543e48f1702b78c5"
  },
  {
   "metadata": {},
   "cell_type": "markdown",
   "source": [
    "## 3.8.1.2 Poisson Distribution\n",
    "\n",
    "What is the likelihood that an event occurs k times in a specific interval<br>\n",
    "$ PDF: P(X=k) = \\lambda ^k * e^\\frac{-\\lambda}{k!} $<br>\n",
    "P(X=k): probability of k successes in an interval <br>\n",
    "$\\lambda$: avg occurrences per interval<br>\n",
    "k: # occurrences being considered<br>\n",
    "\n",
    "$CDF: P(X≤k) = \\sum_{0}^{k} \\frac{e^{-\\lambda}\\lambda^i}{i!}$"
   ],
   "id": "9a76a555541f7d41"
  },
  {
   "metadata": {
    "ExecuteTime": {
     "end_time": "2025-06-26T14:36:33.392617Z",
     "start_time": "2025-06-26T14:36:33.384798Z"
    }
   },
   "cell_type": "code",
   "source": [
    "import numpy as np\n",
    "\n",
    "lambda_ = 3\n",
    "\n",
    "data = np.random.poisson(lambda_, 20)\n",
    "print('\\n', data, '\\n')"
   ],
   "id": "57c2467af1276246",
   "outputs": [
    {
     "name": "stdout",
     "output_type": "stream",
     "text": [
      "\n",
      " [4 1 2 4 2 7 6 7 2 1 1 3 2 1 4 3 4 3 2 3] \n",
      "\n"
     ]
    }
   ],
   "execution_count": 47
  },
  {
   "metadata": {},
   "cell_type": "code",
   "outputs": [],
   "execution_count": null,
   "source": "",
   "id": "b4729008690a283b"
  },
  {
   "metadata": {},
   "cell_type": "markdown",
   "source": [
    "## 3.8.1.3 Geometrical Distribution\n",
    "\n",
    "Describes the # of trials necessary to get the first success in a series of independent Bernoulli trials <br>\n",
    "\n",
    "$ PDF: P(X=k) = (1 - p)^{k-1} * p $<br>\n",
    "P(X=k): probability that the 1st success occurs in the kth trial <br>\n",
    "p: probability of success in each trial <br>\n",
    "k: # of trials until 1st success <br>\n",
    "\n",
    "$CDF: P(X≤x) = 1 - (1-p)^x$"
   ],
   "id": "b0997a7236113819"
  },
  {
   "metadata": {
    "ExecuteTime": {
     "end_time": "2025-06-26T15:10:23.723284Z",
     "start_time": "2025-06-26T15:10:23.714859Z"
    }
   },
   "cell_type": "code",
   "source": [
    "import scipy.stats as stats\n",
    "\n",
    "p = 0.5\n",
    "k = np.arange(1,10)\n",
    "print('\\n', k, '\\n')\n",
    "\n",
    "geom_dist = stats.geom.pmf(k,p)\n",
    "print('\\n', geom_dist, '\\n')"
   ],
   "id": "f904944bfc79dc06",
   "outputs": [
    {
     "name": "stdout",
     "output_type": "stream",
     "text": [
      "\n",
      " [1 2 3 4 5 6 7 8 9] \n",
      "\n",
      "\n",
      " [0.5        0.25       0.125      0.0625     0.03125    0.015625\n",
      " 0.0078125  0.00390625 0.00195312] \n",
      "\n"
     ]
    }
   ],
   "execution_count": 48
  },
  {
   "metadata": {},
   "cell_type": "code",
   "outputs": [],
   "execution_count": null,
   "source": "",
   "id": "29d96fcbee7d481b"
  },
  {
   "metadata": {},
   "cell_type": "markdown",
   "source": [
    "## Normal Distribution\n",
    "$ PDF: f(x; \\mu, \\sigma^2) = \\frac{1}{\\sqrt{2\\pi\\sigma^2}}e^{-\\frac{(x-\\mu)^2}{2\\sigma^2}} $<br>\n",
    "$x$: is the random variable <br>\n",
    "$\\mu$: is the mean <br>\n",
    "$\\sigma$: is the standard deviation<br>\n",
    "\n",
    "$F(x) = \\frac{1}{2} * [1 + erf(\\frac{x - \\mu}{\\sigma \\sqrt{2}})]$"
   ],
   "id": "64f712c4829fbc24"
  },
  {
   "metadata": {
    "ExecuteTime": {
     "end_time": "2025-06-26T15:25:47.759761Z",
     "start_time": "2025-06-26T15:25:47.632549Z"
    }
   },
   "cell_type": "code",
   "source": [
    "import numpy as np\n",
    "import scipy.stats as stats\n",
    "import matplotlib.pyplot as plt\n",
    "\n",
    "mu, sigma = 0, 0.1\n",
    "data = np.random.normal(mu, sigma, 1000)\n",
    "print('\\n', data, '\\n')\n",
    "\n",
    "# Sample parameters\n",
    "sample_mu = np.mean(data)\n",
    "print('Sample mu:', sample_mu, '\\n')\n",
    "\n",
    "sample_sigma = np.std(data)\n",
    "print('Sample sigma:', sample_sigma, '\\n')\n",
    "\n",
    "# Value range for theoretical pdf\n",
    "x = np.linspace(min(data), max(data), 100)\n",
    "print('\\n', x, '\\n')\n",
    "pdf = stats.norm.pdf(x, sample_mu, sample_sigma)\n",
    "print('\\n', pdf, '\\n')\n",
    "\n",
    "# Empirical and Theoretical Graph\n",
    "plt.figure(figsize=(10,6))\n",
    "plt.hist(data, bins=30, density=True, alpha=0.6, color='g')\n",
    "plt.plot(x, pdf, 'r', linewidth=2)\n",
    "plt.title('Histogram and PDF from Normal Distribution')\n",
    "plt.xlabel('Value')\n",
    "plt.ylabel('Density')\n",
    "\n",
    "# Generate Q-Q Graph\n",
    "plt.figure(figsize=(10,6))\n",
    "stats.probplot(data, dist='norm', plot=plt)\n",
    "plt.title('Normal Q-Q plot')\n",
    "\n",
    "plt.show()"
   ],
   "id": "84c69eb8314f0e8d",
   "outputs": [
    {
     "name": "stdout",
     "output_type": "stream",
     "text": [
      "\n",
      " [ 0.16116514 -0.03097296  0.08662907  0.14111943 -0.07302894 -0.07208562\n",
      " -0.05325235 -0.08974906  0.18363205  0.08152392  0.07359716  0.05184216\n",
      "  0.00599993 -0.02460186 -0.05265627 -0.24181434 -0.07254122 -0.00172674\n",
      "  0.08874423  0.16111762 -0.10200228 -0.0441745   0.0430177  -0.02108245\n",
      " -0.07330608 -0.01354565  0.024673    0.09296846  0.03979415  0.01298908\n",
      "  0.00132878 -0.09494645  0.02529062  0.00357304  0.15376122 -0.02679643\n",
      " -0.00293629 -0.05207353 -0.07395385 -0.00848163  0.07692526 -0.01364673\n",
      " -0.04941475  0.1517819  -0.08473751  0.02813782 -0.03797206  0.08320449\n",
      " -0.04762193  0.00554223  0.09729743  0.16150229  0.12969029  0.04569027\n",
      " -0.06264417  0.05767525  0.08500107 -0.04299297  0.22856978 -0.00697054\n",
      " -0.13671418  0.1008596   0.08877305  0.0573673   0.01182019  0.03191018\n",
      " -0.05403433 -0.01793106  0.2376333  -0.10905635 -0.21617521  0.07987993\n",
      " -0.10089848  0.1001272  -0.00435199  0.04991375 -0.05030787 -0.02160461\n",
      "  0.03779304  0.044055    0.08323018 -0.07333989 -0.02636737 -0.09113047\n",
      " -0.12588942  0.08208757  0.04495376 -0.08424406  0.24614577  0.01750059\n",
      "  0.01142213  0.00396235  0.01090162  0.02214871  0.12209096 -0.0050975\n",
      "  0.05070398  0.23893381  0.1363815   0.05027305 -0.08646091  0.27472843\n",
      " -0.19028117 -0.16447457 -0.03841353 -0.16472106  0.13579252  0.14771706\n",
      " -0.14618317 -0.11429152 -0.16670456  0.10233355 -0.00575955  0.1445563\n",
      "  0.15940306 -0.09720789 -0.07534546  0.02823365 -0.08368662  0.02039287\n",
      " -0.05936695 -0.10946503 -0.02527885 -0.10953647 -0.06251959  0.06776916\n",
      " -0.01146294 -0.10606636 -0.13862528 -0.07711397  0.07029687  0.05812122\n",
      " -0.0924007   0.10876979 -0.14302079 -0.04159922 -0.0769536   0.12431442\n",
      " -0.11747845  0.09028499 -0.17404676  0.08188384 -0.03743383 -0.07072195\n",
      " -0.01466475 -0.02558719 -0.04025051 -0.09402049  0.11819991 -0.07514652\n",
      " -0.01287135  0.03909767 -0.0271449   0.00518832  0.06866162  0.22462847\n",
      " -0.12802083 -0.11077591 -0.09438329 -0.00785195 -0.05819677  0.07892805\n",
      " -0.09723459 -0.02592739  0.08745404  0.12661345  0.06795248  0.09875261\n",
      "  0.03755272  0.02917806  0.02403997 -0.08383106  0.16299852  0.00778105\n",
      " -0.1729564   0.00138232  0.12548825 -0.06486193 -0.0406055   0.06287806\n",
      "  0.1516779  -0.05786327  0.22423928 -0.10395979 -0.04415657 -0.09683048\n",
      "  0.03960029  0.13746912  0.05388228  0.00599134 -0.07984822 -0.16466284\n",
      " -0.03992974 -0.17796124  0.08197903 -0.04323882 -0.10069456 -0.12980736\n",
      "  0.00876825  0.0928927   0.06282352 -0.09863012 -0.0906961  -0.07475749\n",
      " -0.08998781 -0.07347826 -0.02701542  0.02507548 -0.01397116  0.12165884\n",
      "  0.13472764 -0.12366451 -0.12681985  0.07521479 -0.05654267  0.08160179\n",
      "  0.03275596 -0.01987633  0.13320606 -0.01958603 -0.17253653 -0.10967074\n",
      "  0.03103638 -0.10801415 -0.00903793  0.06873371  0.07000216  0.07642748\n",
      " -0.09657084  0.1212135   0.08468795 -0.09844379 -0.00149916 -0.18003461\n",
      " -0.03066438  0.06551209 -0.04459261  0.08888071 -0.14481788  0.05244606\n",
      " -0.08209995 -0.18731175  0.07965351 -0.0752779  -0.05777624  0.02139997\n",
      " -0.06255697  0.06619624  0.08099811  0.13478227 -0.02316755 -0.18451571\n",
      "  0.2062208  -0.00038533  0.05943808 -0.106331    0.00343368 -0.09831294\n",
      "  0.11251617  0.03547259 -0.11910479  0.05383235  0.07496087 -0.08357576\n",
      " -0.03722343  0.11744807  0.13282689  0.0879167   0.11591973 -0.17591198\n",
      " -0.23548071  0.02889179  0.1237445  -0.05310004 -0.17265183  0.16894011\n",
      " -0.13819177  0.14181808 -0.02342574  0.08622041 -0.09157471 -0.0920139\n",
      " -0.04492055  0.20627239 -0.16022772  0.00171212 -0.14562376 -0.02438511\n",
      " -0.11292683 -0.21012276 -0.07057404  0.05159206  0.09386779  0.06842442\n",
      "  0.09760374  0.13756841 -0.07581601 -0.0553095   0.06876245 -0.09866768\n",
      "  0.18647327 -0.08879649 -0.04070058 -0.0169187  -0.15681789 -0.08625098\n",
      " -0.10715627  0.06679984  0.01197999  0.04376445 -0.0596804  -0.09437822\n",
      " -0.00483639 -0.08411543 -0.04202606 -0.00698151  0.03222226 -0.26427068\n",
      " -0.00710747 -0.10962512 -0.05876579  0.09430734 -0.02475021 -0.0349343\n",
      " -0.07631794  0.05646545  0.06825671 -0.12518007  0.12189092 -0.13072594\n",
      "  0.01545831  0.00481508 -0.20600847  0.03076502 -0.18122701 -0.02334703\n",
      " -0.12754792 -0.07575431 -0.10422823  0.05252311  0.07895366 -0.11562846\n",
      " -0.02551964  0.0228192  -0.0882031   0.10545229  0.06804065  0.12313641\n",
      " -0.11217948  0.02032873  0.05067902 -0.16305778  0.12728687  0.07413086\n",
      "  0.1450729  -0.03870188 -0.31359651 -0.11192239 -0.03597145 -0.21517325\n",
      "  0.01339284  0.08681307  0.00315583  0.14986656 -0.01923378  0.07378079\n",
      "  0.15570949 -0.08926794  0.0715141   0.05786117 -0.10293166  0.13210215\n",
      "  0.1796875   0.01580405  0.00709253 -0.06848937  0.09606066  0.07095719\n",
      "  0.01841361 -0.10664784  0.02475063 -0.00821085 -0.07163215  0.07714559\n",
      " -0.14608838  0.0984516   0.02469264  0.18215622 -0.05035348  0.06283916\n",
      " -0.05730627  0.11658392 -0.12490131 -0.00281674 -0.04883823 -0.02175532\n",
      " -0.06900927  0.14456522 -0.05040732  0.04205227  0.09712055 -0.11952133\n",
      " -0.05066226  0.00153809 -0.24254981 -0.22895851 -0.04248026  0.08287035\n",
      "  0.20989465 -0.11241625  0.04513567 -0.08269323 -0.20462093 -0.10620185\n",
      " -0.00135869  0.07104919  0.12059935 -0.00059182  0.06388882  0.07349398\n",
      "  0.0933925   0.08064529 -0.05012547  0.04945836  0.10314328 -0.00138906\n",
      " -0.04122313 -0.02148483 -0.00751084  0.00984439 -0.15395387 -0.01525612\n",
      "  0.02961007 -0.0221395   0.03531341 -0.00111912 -0.13938127  0.13166725\n",
      "  0.09051196 -0.02580177 -0.15550857  0.01440195 -0.00877039  0.03088005\n",
      "  0.15432379  0.09506675  0.15311728 -0.07982776  0.0823595  -0.04428163\n",
      "  0.12242537  0.07027186  0.16547664 -0.07112896 -0.14544257  0.03076147\n",
      " -0.09606087 -0.1100821  -0.08921313  0.18547841  0.10035013  0.10614847\n",
      "  0.01301475  0.13879457  0.0732174   0.12017466  0.03435878  0.22255736\n",
      "  0.07119994  0.0863465   0.27952905  0.10166474  0.08247735  0.0191246\n",
      "  0.08688216 -0.12752916 -0.11480356 -0.04321157 -0.14345187  0.08495703\n",
      "  0.10352512  0.00529527 -0.06991153  0.07601665  0.05313011  0.01884656\n",
      " -0.02951999  0.12285268  0.06624358  0.11176197  0.17966965  0.03005839\n",
      " -0.00176011 -0.01139893  0.0521622  -0.00502596  0.04530951 -0.05537922\n",
      " -0.00232798  0.07166702 -0.06442716 -0.10647807 -0.09317792 -0.09317471\n",
      " -0.03347519 -0.1395706   0.05356964 -0.0292313   0.15854146  0.15450329\n",
      " -0.00246059  0.01342166 -0.0135083   0.06108281 -0.08923669 -0.04042809\n",
      "  0.02322265 -0.12544854 -0.05322872 -0.17599112 -0.01915324  0.0581892\n",
      "  0.05455751  0.0885376  -0.08936784  0.06503704 -0.10744557  0.0370508\n",
      " -0.06062498 -0.17928616 -0.03752558  0.02574493  0.05765874  0.08721966\n",
      " -0.06609176 -0.06653194 -0.01217137 -0.13510078 -0.15868042  0.02385724\n",
      " -0.01697957 -0.06406001  0.10533805 -0.11906599  0.03402983 -0.12146097\n",
      "  0.09030994  0.05776027  0.02434961 -0.11277692  0.19944834  0.05594411\n",
      " -0.00814256 -0.02505448  0.10562331  0.098064    0.08414434  0.05637246\n",
      " -0.1263214   0.06843824 -0.29803631  0.1797707   0.05491629 -0.06738029\n",
      "  0.02453019 -0.15773386 -0.0290748  -0.03571107  0.03724709  0.227033\n",
      " -0.0709015   0.05838089  0.04772836 -0.05834453 -0.07546514 -0.0100141\n",
      " -0.09504565  0.03000596  0.21492098  0.02678873  0.12971719 -0.05888052\n",
      "  0.04941548  0.03272626  0.15689838  0.01542316  0.01053866 -0.04549063\n",
      "  0.11426468  0.04809797  0.08103235  0.11845949 -0.03074173 -0.08913554\n",
      "  0.00092707 -0.06330385  0.15057346 -0.00491551  0.00460267 -0.08320672\n",
      " -0.06897338  0.02710898 -0.05907412 -0.10504642  0.11395322  0.0029812\n",
      " -0.03172277 -0.04648793  0.21066381  0.09210126 -0.10600828 -0.01627184\n",
      "  0.00692169 -0.0370126  -0.31262643  0.05233396 -0.17525381 -0.13506796\n",
      "  0.04415387 -0.27695257  0.15955917  0.09597756 -0.14602089  0.02736255\n",
      " -0.18355343 -0.11348421 -0.07922522 -0.01229133  0.01481583 -0.00927287\n",
      "  0.02978984  0.12586393 -0.16565672  0.00330526 -0.04028229 -0.06410304\n",
      "  0.02257407 -0.0891405   0.15480366  0.12783602  0.02032867 -0.15088339\n",
      "  0.00887865 -0.08774831  0.00672519 -0.06668251 -0.11835507 -0.05014428\n",
      " -0.01381812 -0.07245228  0.12951001  0.0772593   0.06221047  0.10295943\n",
      " -0.02503938 -0.01666267  0.00719064  0.04530347  0.00211197 -0.12767379\n",
      " -0.02347795  0.22828014  0.04536114  0.00616931 -0.0395536   0.06690376\n",
      " -0.12240417  0.13109387 -0.00652697 -0.0952684  -0.12233733  0.06028512\n",
      "  0.16368085  0.03608415 -0.02926412 -0.01161713  0.05220786  0.12574544\n",
      " -0.05827725  0.01657989 -0.04604316  0.00399397  0.05222104  0.17639698\n",
      "  0.03530549 -0.05124845 -0.04056115  0.2080098   0.1551151   0.14266251\n",
      " -0.13458436  0.01311329  0.08085274  0.10113058  0.02337477 -0.05333428\n",
      " -0.11611345 -0.11731728 -0.12542064  0.11924306  0.08991364 -0.10488509\n",
      " -0.17476046 -0.12234611 -0.07751931 -0.03305436  0.10436868  0.01940107\n",
      "  0.03043598  0.06216724  0.04558989  0.02222639  0.01496326  0.00660123\n",
      "  0.10498261  0.02637635 -0.10312497 -0.0322937  -0.04538561 -0.03171649\n",
      " -0.0042538   0.12959926 -0.09500165  0.19395179 -0.02382306  0.01081762\n",
      "  0.11614334  0.01599851  0.10769866  0.18681208 -0.06685824  0.01151328\n",
      "  0.20652425 -0.18538206  0.03576663 -0.16204479  0.04437545 -0.03130367\n",
      "  0.02731333 -0.04300478  0.03792665  0.10855745 -0.13588351  0.06582147\n",
      "  0.16339309 -0.06762768  0.10865802 -0.05648607 -0.02789605  0.13731909\n",
      " -0.09282217 -0.14428498 -0.12331449 -0.12918385  0.04637377  0.05549563\n",
      " -0.17671683 -0.05143717 -0.04641193  0.14279737  0.10230498  0.03818835\n",
      " -0.02161912  0.02930944 -0.04158785  0.1647466   0.06610269  0.08122478\n",
      " -0.0076409  -0.12473633  0.01950759 -0.18362683 -0.02064105 -0.10626852\n",
      "  0.01518808 -0.05882866  0.0284055   0.02870545 -0.010044   -0.0658261\n",
      " -0.07125725 -0.01934889 -0.07410621 -0.13884137  0.04394937  0.12061879\n",
      " -0.22449546  0.0825816   0.16321192 -0.07320539 -0.05926037  0.06131012\n",
      "  0.0097891  -0.10058673  0.07320424 -0.16662327 -0.12914376  0.22810474\n",
      "  0.16753209  0.07140184  0.01330283 -0.05547503 -0.00709794  0.02575288\n",
      "  0.01505267  0.01806339 -0.01335533 -0.00446853  0.02573314 -0.06862783\n",
      " -0.04942991 -0.02805102 -0.0867228   0.03308589 -0.02405451 -0.08491268\n",
      " -0.19823747  0.09716507  0.10914284 -0.05866575 -0.14233232  0.0277971\n",
      " -0.03829758 -0.08678813  0.05548327  0.07523332  0.0051133   0.07042222\n",
      " -0.08678575  0.10371407  0.07805894 -0.10615176 -0.11943759  0.03604412\n",
      "  0.06407089  0.09734047  0.04711779 -0.0804909  -0.03758264  0.12544734\n",
      " -0.05168497  0.02678503  0.03783198 -0.08638882 -0.03644454  0.03531547\n",
      "  0.22213336 -0.16261953  0.0032202   0.18650422  0.138854    0.12090266\n",
      " -0.00053277  0.10506871 -0.05137249 -0.0248737   0.10803187  0.06341354\n",
      " -0.14105904  0.15366871  0.15930347 -0.02220372  0.0545977  -0.0286778\n",
      " -0.06404068  0.0804766  -0.16881095 -0.09824261  0.14019286  0.17651194\n",
      " -0.08625978 -0.03102421 -0.08980024 -0.06212785 -0.01890411  0.03759447\n",
      "  0.01629     0.08164593 -0.12761415  0.09937429 -0.06485195  0.00993416\n",
      " -0.20960517 -0.07504807 -0.08855233  0.10455415  0.19069775  0.09354758\n",
      "  0.02245563 -0.06305504 -0.0061817  -0.0424168  -0.0165881  -0.05834022\n",
      " -0.02139555  0.18377481  0.06440291  0.06241563  0.04536809  0.11555886\n",
      "  0.04257694  0.06103455 -0.08804221 -0.07836659 -0.08819162  0.1781358\n",
      "  0.12943641 -0.05658286  0.00401023  0.05260193 -0.18333225  0.04922876\n",
      "  0.03262159 -0.01892772  0.08194483 -0.0536724   0.00136984  0.02147429\n",
      " -0.00558197  0.15686778 -0.05772545  0.01416143 -0.07742373 -0.06898143\n",
      "  0.0159361  -0.09924584 -0.07256193 -0.1975158  -0.03657232 -0.03962867\n",
      " -0.04572571 -0.1355718   0.17574856 -0.00352766 -0.13121231  0.1127747\n",
      " -0.02007454  0.07150994  0.0291668   0.0796244   0.15160197 -0.03322385\n",
      "  0.03300259 -0.06186109 -0.08625614  0.069862    0.08961766 -0.17847096\n",
      "  0.05830566 -0.07290536 -0.04643296  0.1104275  -0.09935332 -0.14337441\n",
      " -0.05717601  0.08432276 -0.09146551  0.03140495  0.0216017   0.07314906\n",
      " -0.03951885  0.14298543 -0.05023094 -0.05028021 -0.03846159 -0.00598441\n",
      " -0.16964824 -0.09555601  0.00310693 -0.09896149  0.01157296  0.02265167\n",
      "  0.03410407  0.08380538  0.16479292  0.04611585 -0.02546299  0.04078026\n",
      " -0.10723843  0.12223495 -0.15342736  0.01513818  0.19331979  0.01808004\n",
      " -0.0424879   0.07716114  0.02147879 -0.00659239  0.03900573  0.10326164\n",
      " -0.0117866   0.00272151 -0.12468261  0.06618834  0.06942921 -0.03928317\n",
      "  0.04776102  0.22329882 -0.0757184  -0.05884574] \n",
      "\n",
      "Sample mu: 0.000749515118658402 \n",
      "\n",
      "Sample sigma: 0.09802472856583497 \n",
      "\n",
      "\n",
      " [-0.31359651 -0.30760534 -0.30161418 -0.29562301 -0.28963184 -0.28364067\n",
      " -0.27764951 -0.27165834 -0.26566717 -0.25967601 -0.25368484 -0.24769367\n",
      " -0.2417025  -0.23571134 -0.22972017 -0.223729   -0.21773783 -0.21174667\n",
      " -0.2057555  -0.19976433 -0.19377317 -0.187782   -0.18179083 -0.17579966\n",
      " -0.1698085  -0.16381733 -0.15782616 -0.15183499 -0.14584383 -0.13985266\n",
      " -0.13386149 -0.12787033 -0.12187916 -0.11588799 -0.10989682 -0.10390566\n",
      " -0.09791449 -0.09192332 -0.08593216 -0.07994099 -0.07394982 -0.06795865\n",
      " -0.06196749 -0.05597632 -0.04998515 -0.04399398 -0.03800282 -0.03201165\n",
      " -0.02602048 -0.02002932 -0.01403815 -0.00804698 -0.00205581  0.00393535\n",
      "  0.00992652  0.01591769  0.02190886  0.02790002  0.03389119  0.03988236\n",
      "  0.04587352  0.05186469  0.05785586  0.06384703  0.06983819  0.07582936\n",
      "  0.08182053  0.0878117   0.09380286  0.09979403  0.1057852   0.11177636\n",
      "  0.11776753  0.1237587   0.12974987  0.13574103  0.1417322   0.14772337\n",
      "  0.15371454  0.1597057   0.16569687  0.17168804  0.1776792   0.18367037\n",
      "  0.18966154  0.19565271  0.20164387  0.20763504  0.21362621  0.21961738\n",
      "  0.22560854  0.23159971  0.23759088  0.24358204  0.24957321  0.25556438\n",
      "  0.26155555  0.26754671  0.27353788  0.27952905] \n",
      "\n",
      "\n",
      " [0.02379697 0.02889554 0.03495565 0.04212906 0.05058524 0.06051229\n",
      " 0.07211755 0.08562806 0.10129053 0.11937113 0.14015463 0.16394315\n",
      " 0.19105429 0.22181861 0.25657649 0.29567418 0.33945925 0.38827512\n",
      " 0.44245506 0.50231535 0.56814791 0.64021237 0.71872771 0.80386367\n",
      " 0.89573202 0.99437792 1.09977168 1.21180091 1.33026357 1.45486202\n",
      " 1.58519829 1.72077095 1.86097363 2.00509546 2.15232362 2.30174799\n",
      " 2.45236808 2.6031022  2.75279878 2.90024974 3.04420579 3.18339333\n",
      " 3.31653266 3.44235723 3.55963344 3.66718062 3.76389073 3.84874728\n",
      " 3.92084311 3.97939653 4.0237654  4.05345886 4.06814636 4.0676638\n",
      " 4.05201659 4.02137951 3.97609351 3.91665935 3.84372841 3.7580908\n",
      " 3.66066113 3.55246222 3.43460731 3.30828103 3.17471967 3.03519118\n",
      " 2.89097545 2.74334506 2.59354719 2.44278673 2.29221122 2.14289749\n",
      " 1.99584055 1.85194451 1.71201585 1.57675883 1.44677318 1.32255367\n",
      " 1.20449179 1.09287896 0.98791134 0.88969583 0.79825717 0.71354567\n",
      " 0.63544565 0.56378397 0.49833882 0.43884828 0.38501865 0.33653234\n",
      " 0.29305527 0.25424355 0.21974957 0.18922731 0.16233691 0.13874854\n",
      " 0.11814551 0.10022677 0.08470868 0.07132631] \n",
      "\n"
     ]
    },
    {
     "data": {
      "text/plain": [
       "<Figure size 1000x600 with 1 Axes>"
      ],
      "image/png": "[encoded data removed]"
     },
     "metadata": {},
     "output_type": "display_data"
    },
    {
     "data": {
      "text/plain": [
       "<Figure size 1000x600 with 1 Axes>"
      ],
      "image/png": "[encoded data removed]"
     },
     "metadata": {},
     "output_type": "display_data"
    }
   ],
   "execution_count": 49
  },
  {
   "metadata": {},
   "cell_type": "code",
   "outputs": [],
   "execution_count": null,
   "source": "",
   "id": "5c4c4a54c2a75bb1"
  },
  {
   "metadata": {},
   "cell_type": "markdown",
   "source": [
    "## 3.8.2.2 Exponential Distribution\n",
    "\n",
    "Models the time interval between events in a Poisson process <br>\n",
    "$PDF: f(x; \\lambda) = \\lambda * e^{-\\lambda x}$<br><br>\n",
    "\n",
    "$CDF: F(x) = 1 - e^{-\\lambda x}$"
   ],
   "id": "c79a3f8fdbbba9a0"
  },
  {
   "metadata": {
    "ExecuteTime": {
     "end_time": "2025-06-26T15:41:41.886156Z",
     "start_time": "2025-06-26T15:41:41.681577Z"
    }
   },
   "cell_type": "code",
   "source": [
    "import numpy as np\n",
    "import matplotlib.pyplot as plt\n",
    "#  lambda\n",
    "lambda_param = 0.5\n",
    "\n",
    "# Generate a 1000 points sample from an exponential distribution\n",
    "data = np.random.exponential(1/lambda_param, 1000)\n",
    "\n",
    "# Generate PDF for Theoretical Probability\n",
    "x = np.linspace(min(data), max(data), 100)\n",
    "print('\\n', x, '\\n')\n",
    "pdf = lambda_param * np.exp(-lambda_param *x)\n",
    "print('\\n', pdf, '\\n')\n",
    "\n",
    "\n",
    "# Generate CDF\n",
    "cdf = 1 - np.exp(-lambda_param * x)\n",
    "print('\\n', cdf, '\\n')\n",
    "\n",
    "# Visualization\n",
    "plt.figure(figsize=(14,8))\n",
    "plt.subplot(1,2,1) # sets up a grid of plots inside a single fig nrwos, ncols, index\n",
    "plt.hist(data, bins=30, density=True, alpha=0.6, color='g')\n",
    "plt.plot(x, pdf, 'r', linewidth=2)\n",
    "plt.title('Histograma y PDF de la Distribución Exponencial')\n",
    "plt.xlabel('Valor')\n",
    "plt.ylabel('Densidad')\n",
    "plt.subplot(1,2,2)\n",
    "plt.plot(x, cdf, 'b', linewidth=2)\n",
    "plt.title('CDF de la Distribución Exponencial')\n",
    "plt.xlabel('Valor')\n",
    "plt.ylabel('Probabilidad acumulada')\n",
    "plt.tight_layout() # adjusts spacing so that nothing overlaps and everything fits nice\n",
    "plt.show()"
   ],
   "id": "6c193dfb11e0610e",
   "outputs": [
    {
     "name": "stdout",
     "output_type": "stream",
     "text": [
      "\n",
      " [6.62090158e-04 1.69831524e-01 3.39000957e-01 5.08170391e-01\n",
      " 6.77339824e-01 8.46509258e-01 1.01567869e+00 1.18484812e+00\n",
      " 1.35401756e+00 1.52318699e+00 1.69235643e+00 1.86152586e+00\n",
      " 2.03069529e+00 2.19986473e+00 2.36903416e+00 2.53820359e+00\n",
      " 2.70737303e+00 2.87654246e+00 3.04571189e+00 3.21488133e+00\n",
      " 3.38405076e+00 3.55322019e+00 3.72238963e+00 3.89155906e+00\n",
      " 4.06072850e+00 4.22989793e+00 4.39906736e+00 4.56823680e+00\n",
      " 4.73740623e+00 4.90657566e+00 5.07574510e+00 5.24491453e+00\n",
      " 5.41408396e+00 5.58325340e+00 5.75242283e+00 5.92159226e+00\n",
      " 6.09076170e+00 6.25993113e+00 6.42910056e+00 6.59827000e+00\n",
      " 6.76743943e+00 6.93660887e+00 7.10577830e+00 7.27494773e+00\n",
      " 7.44411717e+00 7.61328660e+00 7.78245603e+00 7.95162547e+00\n",
      " 8.12079490e+00 8.28996433e+00 8.45913377e+00 8.62830320e+00\n",
      " 8.79747263e+00 8.96664207e+00 9.13581150e+00 9.30498094e+00\n",
      " 9.47415037e+00 9.64331980e+00 9.81248924e+00 9.98165867e+00\n",
      " 1.01508281e+01 1.03199975e+01 1.04891670e+01 1.06583364e+01\n",
      " 1.08275058e+01 1.09966753e+01 1.11658447e+01 1.13350141e+01\n",
      " 1.15041836e+01 1.16733530e+01 1.18425224e+01 1.20116919e+01\n",
      " 1.21808613e+01 1.23500307e+01 1.25192002e+01 1.26883696e+01\n",
      " 1.28575390e+01 1.30267085e+01 1.31958779e+01 1.33650473e+01\n",
      " 1.35342168e+01 1.37033862e+01 1.38725556e+01 1.40417251e+01\n",
      " 1.42108945e+01 1.43800639e+01 1.45492334e+01 1.47184028e+01\n",
      " 1.48875722e+01 1.50567417e+01 1.52259111e+01 1.53950805e+01\n",
      " 1.55642500e+01 1.57334194e+01 1.59025888e+01 1.60717583e+01\n",
      " 1.62409277e+01 1.64100971e+01 1.65792666e+01 1.67484360e+01] \n",
      "\n",
      "\n",
      " [4.99834505e-01 4.59294831e-01 4.22043175e-01 3.87812860e-01\n",
      " 3.56358835e-01 3.27455926e-01 3.00897222e-01 2.76492594e-01\n",
      " 2.54067332e-01 2.33460898e-01 2.14525773e-01 1.97126404e-01\n",
      " 1.81138232e-01 1.66446799e-01 1.52946933e-01 1.40541989e-01\n",
      " 1.29143164e-01 1.18668853e-01 1.09044074e-01 1.00199924e-01\n",
      " 9.20730900e-02 8.46053921e-02 7.77433708e-02 7.14379019e-02\n",
      " 6.56438456e-02 6.03197232e-02 5.54274200e-02 5.09319129e-02\n",
      " 4.68010194e-02 4.30051668e-02 3.95171814e-02 3.63120933e-02\n",
      " 3.33669576e-02 3.06606907e-02 2.81739188e-02 2.58888394e-02\n",
      " 2.37890942e-02 2.18596513e-02 2.00866982e-02 1.84575426e-02\n",
      " 1.69605216e-02 1.55849182e-02 1.43208848e-02 1.31593724e-02\n",
      " 1.20920658e-02 1.11113243e-02 1.02101271e-02 9.38202257e-03\n",
      " 8.62108243e-03 7.92185925e-03 7.27934740e-03 6.68894724e-03\n",
      " 6.14643219e-03 5.64791847e-03 5.18983730e-03 4.76890935e-03\n",
      " 4.38212126e-03 4.02670409e-03 3.70011345e-03 3.40001133e-03\n",
      " 3.12424935e-03 2.87085338e-03 2.63800939e-03 2.42405049e-03\n",
      " 2.22744498e-03 2.04678540e-03 1.88077842e-03 1.72823564e-03\n",
      " 1.58806503e-03 1.45926312e-03 1.34090784e-03 1.23215191e-03\n",
      " 1.13221676e-03 1.04038697e-03 9.56005142e-04 8.78467203e-04\n",
      " 8.07218072e-04 7.41747687e-04 6.81587355e-04 6.26306399e-04\n",
      " 5.75509071e-04 5.28831721e-04 4.85940193e-04 4.46527434e-04\n",
      " 4.10311293e-04 3.77032506e-04 3.46452835e-04 3.18353364e-04\n",
      " 2.92532934e-04 2.68806702e-04 2.47004813e-04 2.26971193e-04\n",
      " 2.08562423e-04 1.91646719e-04 1.76102983e-04 1.61819941e-04\n",
      " 1.48695341e-04 1.36635228e-04 1.25553265e-04 1.15370117e-04] \n",
      "\n",
      "\n",
      " [3.30990289e-04 8.14103386e-02 1.55913650e-01 2.24374281e-01\n",
      " 2.87282330e-01 3.45088148e-01 3.98205555e-01 4.47014812e-01\n",
      " 4.91865336e-01 5.33078204e-01 5.70948454e-01 6.05747192e-01\n",
      " 6.37723536e-01 6.67106401e-01 6.94106134e-01 7.18916021e-01\n",
      " 7.41713673e-01 7.62662294e-01 7.81911851e-01 7.99600151e-01\n",
      " 8.15853820e-01 8.30789216e-01 8.44513258e-01 8.57124196e-01\n",
      " 8.68712309e-01 8.79360554e-01 8.89145160e-01 8.98136174e-01\n",
      " 9.06397961e-01 9.13989666e-01 9.20965637e-01 9.27375813e-01\n",
      " 9.33266085e-01 9.38678619e-01 9.43652162e-01 9.48222321e-01\n",
      " 9.52421812e-01 9.56280697e-01 9.59826604e-01 9.63084915e-01\n",
      " 9.66078957e-01 9.68830164e-01 9.71358230e-01 9.73681255e-01\n",
      " 9.75815868e-01 9.77777351e-01 9.79579746e-01 9.81235955e-01\n",
      " 9.82757835e-01 9.84156282e-01 9.85441305e-01 9.86622106e-01\n",
      " 9.87707136e-01 9.88704163e-01 9.89620325e-01 9.90462181e-01\n",
      " 9.91235757e-01 9.91946592e-01 9.92599773e-01 9.93199977e-01\n",
      " 9.93751501e-01 9.94258293e-01 9.94723981e-01 9.95151899e-01\n",
      " 9.95545110e-01 9.95906429e-01 9.96238443e-01 9.96543529e-01\n",
      " 9.96823870e-01 9.97081474e-01 9.97318184e-01 9.97535696e-01\n",
      " 9.97735566e-01 9.97919226e-01 9.98087990e-01 9.98243066e-01\n",
      " 9.98385564e-01 9.98516505e-01 9.98636825e-01 9.98747387e-01\n",
      " 9.98848982e-01 9.98942337e-01 9.99028120e-01 9.99106945e-01\n",
      " 9.99179377e-01 9.99245935e-01 9.99307094e-01 9.99363293e-01\n",
      " 9.99414934e-01 9.99462387e-01 9.99505990e-01 9.99546058e-01\n",
      " 9.99582875e-01 9.99616707e-01 9.99647794e-01 9.99676360e-01\n",
      " 9.99702609e-01 9.99726730e-01 9.99748893e-01 9.99769260e-01] \n",
      "\n"
     ]
    },
    {
     "data": {
      "text/plain": [
       "<Figure size 1400x800 with 2 Axes>"
      ],
      "image/png": "[encoded data removed]"
     },
     "metadata": {},
     "output_type": "display_data"
    }
   ],
   "execution_count": 50
  },
  {
   "metadata": {},
   "cell_type": "code",
   "outputs": [],
   "execution_count": null,
   "source": "",
   "id": "36d385005fa939b7"
  },
  {
   "metadata": {},
   "cell_type": "markdown",
   "source": [
    "## 3.8.2.3 Uniform Distribution\n",
    "\n",
    "Each result in a given range has the same probability of occurring <br>\n",
    "\n",
    "$PDF: f(x; a, b) = \\frac{1}{b-a}$  for $a ≤ x ≤ b$ and 0 in any other case<br><br>\n",
    "\n",
    "$CDF: F(x) = \\frac{x-a}{b-a}$ for $a ≤ x ≤ b$, 0 if $x<a$ and 1 if $x>b$\n",
    "\n",
    "\n"
   ],
   "id": "e6bec6f72ed32070"
  },
  {
   "metadata": {
    "ExecuteTime": {
     "end_time": "2025-06-26T16:26:03.671928Z",
     "start_time": "2025-06-26T16:26:03.607394Z"
    }
   },
   "cell_type": "code",
   "source": [
    "import numpy as np\n",
    "import matplotlib.pyplot as plt\n",
    "\n",
    "a, b = 0, 10\n",
    "\n",
    "# Generate a 1000 points sample for a Uniform Distribution\n",
    "data = np.random.uniform(a, b, 1000)\n",
    "print('\\n', data, '\\n')\n",
    "\n",
    "# Create vector with theoretical pdf\n",
    "x = np.linspace(a, b, 100)\n",
    "print('\\n', x, '\\n')\n",
    "pdf = [1/(b-a) for _ in x]\n",
    "\n",
    "# Create histogram\n",
    "counts, bins, _ = plt.hist(data, bins=30, density=True, alpha=0.6, color='g')\n",
    "\n",
    "# Graph theoretical pdf\n",
    "plt.plot(x, pdf, 'r', linewidth=2)\n",
    "\n",
    "# Decorate graph\n",
    "plt.title('Histogram and PDF of Uniform Distribution')\n",
    "plt.xlabel('Value')\n",
    "plt.ylabel('Density')\n",
    "\n",
    "plt.show()\n"
   ],
   "id": "b66fd7ea655aed03",
   "outputs": [
    {
     "name": "stdout",
     "output_type": "stream",
     "text": [
      "\n",
      " [2.21273119 6.06425919 9.71207848 6.30938255 9.62716907 2.4047244\n",
      " 3.73803261 7.21774047 9.26230473 0.11751922 2.84806476 6.88107676\n",
      " 7.5955131  5.30803721 9.19929899 0.97537026 4.85924897 3.23292439\n",
      " 3.00060261 0.83822598 2.29324426 3.07890033 5.33398369 4.45709446\n",
      " 3.67170502 0.12671808 6.14810443 6.0259596  3.56317738 6.87604802\n",
      " 8.3753091  5.73014296 7.80631862 4.90766552 6.9911085  7.50574843\n",
      " 6.85646361 1.62076174 3.16826406 1.11188667 8.23687271 5.04231916\n",
      " 4.15797529 0.81194185 9.28767808 4.51472509 7.58107894 2.87218054\n",
      " 9.20600396 1.32591239 3.15064692 4.11788631 2.20617323 5.66263815\n",
      " 2.3038485  5.98157346 5.85543082 7.38893703 9.22336261 8.52747542\n",
      " 3.30295285 4.8976817  6.11401095 4.99714401 0.61213759 1.87791469\n",
      " 2.42755528 4.39543773 9.1477038  1.56497017 9.88000745 8.13368089\n",
      " 0.41364979 1.64662084 8.44507092 3.63215054 3.29028843 5.95604834\n",
      " 7.80531256 5.28934339 7.83337167 2.84133139 9.90262146 2.78936148\n",
      " 2.27174376 6.28573025 9.74734987 0.24850722 5.0543186  1.14112049\n",
      " 6.43434159 9.72945583 5.57392201 5.26044747 2.1275631  7.81053541\n",
      " 8.50089121 4.07708778 9.13796979 5.5760701  5.90487856 3.45412374\n",
      " 8.88423403 4.12953032 1.23534033 0.78410559 9.06242407 9.64970256\n",
      " 9.91488257 0.95561197 9.80333889 3.3257432  9.72587843 5.29117044\n",
      " 7.71850546 4.92441304 5.30040521 3.12146682 9.56393731 9.25764102\n",
      " 0.59157404 0.7866663  2.25751777 6.93123627 5.63906647 0.60742648\n",
      " 0.2656053  9.14846095 1.27041666 1.20241747 1.28028157 7.96850197\n",
      " 2.81004079 9.95585413 9.24353772 8.87985606 6.23165526 9.32345578\n",
      " 1.35062267 0.95474427 4.90245945 6.21259015 3.81457289 1.74569072\n",
      " 7.7219317  3.47858865 9.76870819 0.41594146 3.25167128 2.42629344\n",
      " 7.77852315 1.21101092 7.22085081 1.48723138 6.2659796  2.94476405\n",
      " 5.99405203 5.24585999 8.2325754  5.2319534  1.52834241 3.06984341\n",
      " 5.22391914 6.41822111 1.46067102 0.87547009 4.44854442 3.41625645\n",
      " 1.70023167 9.81688582 7.87818882 7.66890721 9.61579957 5.35495693\n",
      " 5.11674597 0.97445422 7.91038902 8.69239525 9.10835568 9.07033706\n",
      " 6.39387176 8.67755925 2.2297852  7.70029233 0.23180391 6.7502364\n",
      " 1.43255203 5.41291902 9.43305965 2.59263505 9.37403269 6.74148729\n",
      " 8.32286496 9.90943623 5.26182667 5.15519763 5.95707523 5.02928878\n",
      " 7.74021884 9.28306186 8.03014281 7.96240966 8.81831014 5.65982873\n",
      " 5.55627574 1.90205077 8.33926866 1.29288135 0.72982546 0.73034951\n",
      " 7.71215198 7.51618244 0.95473063 0.09452386 3.68446266 4.33469409\n",
      " 5.28896961 1.62699977 9.18437294 7.31585046 1.75052074 8.16939131\n",
      " 7.9939715  5.50582651 1.77313337 0.38040631 9.22585021 9.88362855\n",
      " 0.40750727 1.03427308 1.57825159 8.63568143 6.03896103 5.77023546\n",
      " 3.74617347 8.27229836 7.02668853 6.06014793 7.10573527 2.01820403\n",
      " 2.82605324 3.79070515 3.81739221 7.65926765 3.60019129 9.79055984\n",
      " 7.16441739 7.16910488 1.95006476 8.65422267 7.06528304 4.77397814\n",
      " 5.28426712 3.81597063 4.0883184  5.8330818  3.07276094 6.63095361\n",
      " 3.3125123  5.49684873 3.41878174 8.95163848 7.66638411 0.48116805\n",
      " 0.51976954 3.49453308 9.67481802 2.93598251 0.37596959 2.24301205\n",
      " 5.64421884 1.99390368 1.67459878 3.72299135 7.59101016 0.32500733\n",
      " 5.53809727 7.70516934 8.18572202 2.32824832 6.51605177 8.46383167\n",
      " 1.33917132 7.95036209 5.0425019  3.06493088 7.7922833  5.33772813\n",
      " 5.56173797 4.40391017 8.84408705 2.42253064 8.44134786 9.29303376\n",
      " 7.56982806 8.27511092 2.6079038  8.73399642 4.13556816 9.27876899\n",
      " 1.78903419 7.61588978 2.35569908 6.66076355 8.94466431 8.15000975\n",
      " 3.57610361 7.24131967 0.42303861 6.36189679 3.65519494 4.6210019\n",
      " 2.93524946 9.79521181 9.23965424 7.97396726 8.71580445 3.89096511\n",
      " 2.13449609 1.81375622 8.9640494  1.38226074 8.19468849 8.07424018\n",
      " 4.80429946 6.12864714 3.99460064 1.59455619 6.22318323 8.35583503\n",
      " 3.74086129 4.64540338 5.42137632 4.73585045 9.4565909  0.58883329\n",
      " 4.26110947 5.15689655 3.55590251 9.57352945 3.47074638 6.09056791\n",
      " 1.86744834 1.4602477  2.89714052 1.43443325 1.50278926 4.63963832\n",
      " 4.61898891 7.35907581 6.77212171 3.14411649 0.06129798 3.96050599\n",
      " 3.31166671 4.44755217 2.83458409 6.83304315 9.71550332 6.62448693\n",
      " 6.53250038 1.00041461 8.55278479 2.34927731 1.88188504 7.99778968\n",
      " 9.89355751 5.57192881 3.81602089 0.0270819  1.75436554 2.57255353\n",
      " 7.9131842  3.6432311  7.73151975 2.44069401 3.72813565 6.28218351\n",
      " 6.57118221 8.31751046 7.33873614 4.84864    1.38138477 9.93957495\n",
      " 9.6006204  4.69551377 0.18796914 6.051022   6.71076078 2.88368789\n",
      " 9.96139741 0.89866517 8.52960684 3.79357314 8.57634865 9.99744636\n",
      " 2.71449805 2.74960902 4.73372957 6.33666183 0.43199751 5.4886151\n",
      " 0.8036531  9.29241465 7.03026096 9.04067421 0.82827255 0.04070972\n",
      " 1.30772085 4.94208953 7.00927609 4.41411507 1.70953641 5.00488874\n",
      " 8.39548041 1.59946288 5.22716289 9.56455086 8.1910529  0.05621296\n",
      " 3.38482753 3.29119704 1.32641854 8.32724525 9.77300832 0.23762323\n",
      " 5.66786885 8.30449018 1.20039723 4.81508561 6.40790645 8.96339334\n",
      " 3.12001681 9.93890478 1.52049722 1.21800464 7.92699464 4.76761338\n",
      " 0.67682553 4.83713825 0.57219915 8.39434469 0.67047688 9.08890551\n",
      " 2.24499839 6.01951406 1.29717747 2.50973192 9.15408437 0.31301755\n",
      " 0.992251   6.01721278 7.26099405 3.09872553 5.47350561 0.69948513\n",
      " 4.50691007 4.23071899 1.5669235  8.86556145 0.46649839 1.56175025\n",
      " 7.499571   2.14504247 8.80429361 7.7454468  7.85908925 2.99282108\n",
      " 0.5352445  7.58769385 3.20193376 2.21569177 5.23738108 6.40443278\n",
      " 6.41805263 7.83906615 9.97483918 0.09526738 0.0508548  5.13789783\n",
      " 7.95441654 6.21005603 8.32433332 0.35091404 0.1471248  2.79112972\n",
      " 1.05007981 0.86363403 2.60569598 9.75993414 5.66237521 8.48387369\n",
      " 0.3190992  3.32819732 4.13766931 9.27571024 8.18764678 7.69574296\n",
      " 7.25535709 8.8764396  3.55090395 9.12695059 9.09979946 9.48910508\n",
      " 5.37376826 7.64511375 9.65249867 1.02981493 2.98353466 4.83034923\n",
      " 6.81249265 4.91248426 8.56618034 2.54311451 7.07635142 5.16205928\n",
      " 5.46138377 3.91247613 3.04573147 5.96666482 3.23213798 2.51112574\n",
      " 1.61372831 6.06376488 8.93351319 2.67296157 8.25290451 7.17211661\n",
      " 0.71129397 1.4167328  1.84756045 9.6253976  5.43113161 3.70568079\n",
      " 4.67459537 2.4922912  2.69690852 2.65069124 9.47547475 9.9949083\n",
      " 2.72398512 1.8087323  0.87329679 2.07017189 3.04658925 1.67884727\n",
      " 2.91432696 1.51807604 7.75080571 9.15272574 7.21474797 3.02763182\n",
      " 6.35586752 5.98429739 7.27579958 3.03769754 2.25188545 5.78859507\n",
      " 1.60605067 6.772826   4.42061286 7.67232275 2.54526886 1.78155309\n",
      " 5.69448464 9.42622233 3.04262097 9.37899101 6.01105636 3.67258308\n",
      " 4.21339884 2.89229918 5.79539165 7.29612814 1.16613967 9.38010141\n",
      " 1.31451524 4.22014906 4.60016781 0.17242075 5.87144357 8.45337974\n",
      " 1.83207915 7.15546983 6.64921371 8.52302961 4.38565951 8.44273346\n",
      " 4.29249072 6.25938969 1.22023711 0.26829315 1.62060709 2.94823567\n",
      " 8.31068806 0.89077069 2.0084068  1.65583912 6.15864402 2.86759601\n",
      " 4.13294059 0.98883217 1.42846625 2.45318478 6.68041176 0.16044202\n",
      " 5.83756001 7.62657397 6.56804402 0.90093912 2.71332453 0.7527653\n",
      " 1.2479959  1.98594973 8.45057576 7.95290892 9.94641405 2.73321157\n",
      " 0.72014898 8.838359   6.26531172 3.07080996 3.85681661 4.2652841\n",
      " 3.43375635 6.84476817 9.56133981 1.45687296 4.64041714 6.39939435\n",
      " 1.68769124 6.62370639 6.55237997 1.34628107 5.93625862 8.85113016\n",
      " 1.35735511 4.51571863 7.03146053 7.10685799 8.14594871 6.1320739\n",
      " 3.11327295 9.99438164 7.14837977 1.84684714 8.15544158 0.51554715\n",
      " 4.88166064 6.36584633 3.07932662 3.07398039 7.73117746 3.477867\n",
      " 0.96248392 2.75970345 9.33478543 8.00859833 6.30620089 2.8382092\n",
      " 7.2341081  4.44504886 7.96974594 8.47696011 5.03221847 4.57169449\n",
      " 1.7947584  9.2805757  9.90800297 0.47193212 4.77694259 3.47393932\n",
      " 9.57395621 2.29709566 7.93381115 9.39386696 8.62829669 5.58431209\n",
      " 6.26317343 4.7074604  6.47333975 5.47552636 1.85517147 4.50293893\n",
      " 8.05440469 6.24289182 7.39632958 9.41943574 8.39567207 8.28382922\n",
      " 9.73785779 1.74979857 2.94096024 3.25078964 4.36939142 9.34327268\n",
      " 9.37605968 6.58781519 1.41818257 6.00637903 0.7605039  7.1352256\n",
      " 5.21378452 1.42186245 0.27288456 5.48008236 5.08925484 3.19884062\n",
      " 0.06104531 8.30220205 5.47757175 6.85317477 0.70659313 9.1148355\n",
      " 2.68788972 1.02123072 4.96004516 1.52435947 9.23051861 4.94650292\n",
      " 2.92352443 4.38973961 8.1091796  6.59844658 3.07110487 2.34026153\n",
      " 4.17248656 9.22869486 3.50264395 7.92016497 0.88729055 3.32282531\n",
      " 7.87153619 5.70004794 4.97407846 0.29401206 5.18987064 0.24365781\n",
      " 5.88106978 3.70121215 4.88386436 4.01304675 2.42688914 0.46947324\n",
      " 7.45524584 6.86074501 6.39913517 0.18992719 5.3497133  8.59088582\n",
      " 0.1359341  4.00530428 2.28325577 4.0365743  4.16608341 3.21623249\n",
      " 2.03556649 7.19201787 0.49349398 4.69447333 0.14958701 0.75996329\n",
      " 5.28267701 7.05046839 2.42359148 6.65321082 1.75994559 9.23454916\n",
      " 9.0734964  6.84368776 1.55161911 4.89252918 6.13437241 5.95576715\n",
      " 5.36704176 5.50824925 1.63441228 7.79701199 6.70923997 9.06764613\n",
      " 2.46968706 5.25794363 3.25990574 4.04876659 3.13453057 1.63538497\n",
      " 7.79437948 8.77859311 6.0286777  0.06214401 2.93706939 8.89132035\n",
      " 3.20215626 2.82425072 3.72598972 0.40297893 1.59289131 3.22845099\n",
      " 2.67420115 6.36181678 7.06343514 7.80245829 7.88100858 0.38756277\n",
      " 0.55754512 0.46123443 2.3913248  1.18574595 4.56553034 1.79034702\n",
      " 2.52947472 6.07483069 4.37602366 2.11797715 7.6518704  8.77392801\n",
      " 5.57950077 9.94029319 2.90727198 3.62762899 5.74933558 1.36730418\n",
      " 7.20388464 4.03984461 8.65326796 6.56577434 1.51699441 9.06131346\n",
      " 4.96246083 6.44942168 2.76464534 6.1869952  9.34594822 0.06808532\n",
      " 5.14158104 4.2983364  8.82096007 4.66286342 5.95330028 2.86970413\n",
      " 0.69452432 7.05990799 7.33608136 7.30240701 7.69007547 5.31725616\n",
      " 5.18797456 1.72419353 0.15343436 0.94119667 3.21189455 3.45186155\n",
      " 2.89473582 3.91072677 2.50013637 9.59704174 6.29336329 0.36576778\n",
      " 3.05922589 3.10852191 5.35293055 4.21821331 0.95139758 4.88899194\n",
      " 7.75447298 2.50327944 9.43445353 3.77593521 5.11476652 3.93009551\n",
      " 8.92477553 7.93882713 2.24315213 5.39657902 0.73632295 5.74843099\n",
      " 1.97324138 5.17407242 5.85581708 5.06563227 8.70542204 6.02282472\n",
      " 5.02095721 1.81976819 3.06434743 9.25476795 9.44649882 9.14824112\n",
      " 2.55549576 0.29008318 1.73511274 3.75873145 2.72281575 9.16899132\n",
      " 4.06170637 1.52950683 1.85423889 8.08721092 4.73197521 6.85584773\n",
      " 4.62292024 7.00258838 8.22772573 3.21437725 1.73267403 5.02128981\n",
      " 5.51791667 0.38779737 0.07257122 0.12447215 8.6473241  5.01969823\n",
      " 4.96648669 8.39117554 8.94984029 1.18420293 1.558476   7.52856658\n",
      " 6.30770328 6.0946346  4.32140537 1.02128124 3.78268388 9.23902381\n",
      " 2.65015857 9.05614034 0.88576007 1.1070563  5.70897051 4.5553541\n",
      " 8.0295966  7.60186333 0.80755723 7.11990847 4.19181398 5.57806989\n",
      " 1.79718439 2.83417172 7.79382907 8.69678446 8.56027307 1.80410653\n",
      " 3.43300906 3.83785857 3.26007791 4.27333565 9.106988   9.55486081\n",
      " 7.15562214 8.76846847 2.00796257 7.84082762 6.27913446 7.51650183\n",
      " 6.97333618 5.04808756 5.62380632 9.7442876  9.74184135 2.28942335\n",
      " 5.77688098 6.81096797 8.89956164 8.86638596 0.03243723 5.50037987\n",
      " 4.18887489 2.64142667 5.21708563 3.10981604 3.73812663 0.7165631\n",
      " 8.47139244 0.42962528 2.29533534 2.36727666 4.31151262 2.84821808\n",
      " 2.3360736  3.87828231 4.52203139 6.94375413 4.75543887 8.19453692\n",
      " 8.85971878 8.94464919 3.3907221  6.19021189 7.77798224 4.5606591\n",
      " 5.65199925 5.71959352 8.73355306 3.59702321 9.4229511  6.79755128\n",
      " 4.69561287 5.94899035 9.39801699 6.94316941] \n",
      "\n",
      "\n",
      " [ 0.          0.1010101   0.2020202   0.3030303   0.4040404   0.50505051\n",
      "  0.60606061  0.70707071  0.80808081  0.90909091  1.01010101  1.11111111\n",
      "  1.21212121  1.31313131  1.41414141  1.51515152  1.61616162  1.71717172\n",
      "  1.81818182  1.91919192  2.02020202  2.12121212  2.22222222  2.32323232\n",
      "  2.42424242  2.52525253  2.62626263  2.72727273  2.82828283  2.92929293\n",
      "  3.03030303  3.13131313  3.23232323  3.33333333  3.43434343  3.53535354\n",
      "  3.63636364  3.73737374  3.83838384  3.93939394  4.04040404  4.14141414\n",
      "  4.24242424  4.34343434  4.44444444  4.54545455  4.64646465  4.74747475\n",
      "  4.84848485  4.94949495  5.05050505  5.15151515  5.25252525  5.35353535\n",
      "  5.45454545  5.55555556  5.65656566  5.75757576  5.85858586  5.95959596\n",
      "  6.06060606  6.16161616  6.26262626  6.36363636  6.46464646  6.56565657\n",
      "  6.66666667  6.76767677  6.86868687  6.96969697  7.07070707  7.17171717\n",
      "  7.27272727  7.37373737  7.47474747  7.57575758  7.67676768  7.77777778\n",
      "  7.87878788  7.97979798  8.08080808  8.18181818  8.28282828  8.38383838\n",
      "  8.48484848  8.58585859  8.68686869  8.78787879  8.88888889  8.98989899\n",
      "  9.09090909  9.19191919  9.29292929  9.39393939  9.49494949  9.5959596\n",
      "  9.6969697   9.7979798   9.8989899  10.        ] \n",
      "\n"
     ]
    },
    {
     "data": {
      "text/plain": [
       "<Figure size 640x480 with 1 Axes>"
      ],
      "image/png": "[encoded data removed]"
     },
     "metadata": {},
     "output_type": "display_data"
    }
   ],
   "execution_count": 52
  },
  {
   "metadata": {},
   "cell_type": "code",
   "outputs": [],
   "execution_count": null,
   "source": "\n",
   "id": "2d5c4383678ce7af"
  }
 ],
 "metadata": {
  "kernelspec": {
   "display_name": "Python 3",
   "language": "python",
   "name": "python3"
  },
  "language_info": {
   "codemirror_mode": {
    "name": "ipython",
    "version": 2
   },
   "file_extension": ".py",
   "mimetype": "text/x-python",
   "name": "python",
   "nbconvert_exporter": "python",
   "pygments_lexer": "ipython2",
   "version": "2.7.6"
  }
 },
 "nbformat": 4,
 "nbformat_minor": 5
}
