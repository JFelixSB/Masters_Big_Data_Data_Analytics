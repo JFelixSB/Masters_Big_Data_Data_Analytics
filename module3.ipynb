{
 "cells": [
  {
   "metadata": {},
   "cell_type": "markdown",
   "source": "# MODULE 3 - Basis of Statistical Reasoning",
   "id": "7711a10ef84e8a5d"
  },
  {
   "metadata": {},
   "cell_type": "markdown",
   "source": [
    "## 3.1.1 Probability Example\n",
    "\n",
    "> P(P) = (# of transactions where P was bought)/ n"
   ],
   "id": "b906e53006c9e263"
  },
  {
   "metadata": {
    "ExecuteTime": {
     "end_time": "2025-06-24T23:03:36.522357Z",
     "start_time": "2025-06-24T23:03:35.306071Z"
    }
   },
   "cell_type": "code",
   "source": "import pandas as pd",
   "id": "9e04d5e88f040f97",
   "outputs": [],
   "execution_count": 1
  },
  {
   "metadata": {
    "ExecuteTime": {
     "end_time": "2025-06-25T00:02:35.239326Z",
     "start_time": "2025-06-25T00:02:35.232350Z"
    }
   },
   "cell_type": "code",
   "source": [
    "# Suppose 'transactions' is a pandas DF, where each row is a transaction\n",
    "# and there is a col named 'products' where it lists all the products in that\n",
    "# transaction\n",
    "transactions = pd.read_csv('example_files/transactions.csv')\n",
    "print(transactions)\n",
    "\n",
    "# Count total # of transactions\n",
    "total_transactions = len(transactions)\n",
    "print('Total transactions = ',total_transactions)\n",
    "\n",
    "# Just out of curiosity to learn how to pick out elements of a DF\n",
    "for i,j in transactions.iterrows():\n",
    "    if 'P' in j['products']:\n",
    "        print(i, j)\n",
    "\n",
    "\n",
    "# Count # of transactions where P was bought\n",
    "product_p_transactions = transactions['products'].apply(lambda x: 'P' in x).sum()\n",
    "print('Product P transactions = ', product_p_transactions)\n",
    "\n",
    "# Calculate probability\n",
    "p_p = product_p_transactions / total_transactions\n",
    "print('P(P) = ', p_p)"
   ],
   "id": "586834baf096170e",
   "outputs": [
    {
     "name": "stdout",
     "output_type": "stream",
     "text": [
      "  products\n",
      "0    A,B,P\n",
      "1      C,D\n",
      "2        P\n",
      "3    A,P,D\n",
      "4        E\n",
      "5      B,C\n",
      "6      P,E\n",
      "7        A\n",
      "8      D,P\n",
      "Total transactions =  9\n",
      "row:  0 products    A,B,P\n",
      "Name: 0, dtype: object\n",
      "row:  2 products    P\n",
      "Name: 2, dtype: object\n",
      "row:  3 products    A,P,D\n",
      "Name: 3, dtype: object\n",
      "row:  6 products    P,E\n",
      "Name: 6, dtype: object\n",
      "row:  8 products    D,P\n",
      "Name: 8, dtype: object\n",
      "Product P transactions =  5\n",
      "P(P) =  0.5555555555555556\n"
     ]
    }
   ],
   "execution_count": 23
  },
  {
   "metadata": {},
   "cell_type": "markdown",
   "source": "",
   "id": "a65eceab369b6f75"
  },
  {
   "metadata": {},
   "cell_type": "markdown",
   "source": "## 3.1.2.1 Sample Space",
   "id": "636a3d32ac3dcf73"
  },
  {
   "metadata": {
    "ExecuteTime": {
     "end_time": "2025-06-25T00:32:05.793298Z",
     "start_time": "2025-06-25T00:32:05.787910Z"
    }
   },
   "cell_type": "code",
   "source": "import numpy as np",
   "id": "951e3305fac7ff8d",
   "outputs": [],
   "execution_count": 24
  },
  {
   "metadata": {
    "ExecuteTime": {
     "end_time": "2025-06-25T01:56:08.392439Z",
     "start_time": "2025-06-25T01:56:08.382111Z"
    }
   },
   "cell_type": "code",
   "source": [
    "ecommerce_data = pd.read_csv('example_files/ecommerce.csv')\n",
    "print(ecommerce_data)\n",
    "\n",
    "product_sample_space = ecommerce_data['product'].unique()\n",
    "print(product_sample_space, '\\n')\n",
    "\n",
    "num_possible_outcomes = len(product_sample_space)\n",
    "print('Number of possible outcomes = ', num_possible_outcomes, '\\n')\n",
    "\n",
    "amount_spent_sample_space = np.linspace(ecommerce_data['amount_spent'].min(), ecommerce_data['amount_spent'].max(), 1000)\n",
    "# print('Amount spent space = ', amount_spent_sample_space)\n",
    "\n",
    "length_of_sample_space = amount_spent_sample_space[-1] - amount_spent_sample_space[0]\n",
    "print('Length of sample space = ', length_of_sample_space, '\\n')\n",
    "\n",
    "event_product_A = ecommerce_data[ecommerce_data['product'] == 'A']\n",
    "print('Event product A\\n', event_product_A, '\\n')\n",
    "\n",
    "event_spent_over_100 = ecommerce_data[ecommerce_data['amount_spent'] > 100]\n",
    "print('Event spent over 100\\n', event_spent_over_100)\n",
    "\n",
    "\n"
   ],
   "id": "8deb5095d0edb2c7",
   "outputs": [
    {
     "name": "stdout",
     "output_type": "stream",
     "text": [
      "  product  amount_spent\n",
      "0       A           120\n",
      "1       B            80\n",
      "2       C           200\n",
      "3       A            90\n",
      "4       D           150\n",
      "5       B            60\n",
      "6       E           300\n",
      "7       A           100\n",
      "8       C            50\n",
      "9       D           130\n",
      "['A' 'B' 'C' 'D' 'E'] \n",
      "\n",
      "Number of possible outcomes =  5 \n",
      "\n",
      "Length of sample space =  250.0 \n",
      "\n",
      "Event product A\n",
      "   product  amount_spent\n",
      "0       A           120\n",
      "3       A            90\n",
      "7       A           100 \n",
      "\n",
      "Event spent over 100\n",
      "   product  amount_spent\n",
      "0       A           120\n",
      "2       C           200\n",
      "4       D           150\n",
      "6       E           300\n",
      "9       D           130\n"
     ]
    }
   ],
   "execution_count": 33
  },
  {
   "metadata": {},
   "cell_type": "code",
   "outputs": [],
   "execution_count": null,
   "source": "",
   "id": "15ee45c46d50997e"
  },
  {
   "metadata": {},
   "cell_type": "markdown",
   "source": [
    "## 3.2.1.3 Independent Events\n",
    "\n",
    "P(A ^ B) = P(A) * P(B) if A and B are independent events"
   ],
   "id": "3d10857d45814269"
  },
  {
   "metadata": {
    "ExecuteTime": {
     "end_time": "2025-06-25T02:42:07.191827Z",
     "start_time": "2025-06-25T02:42:07.167429Z"
    }
   },
   "cell_type": "code",
   "source": [
    "transaction_data = pd.read_csv('example_files/ecommerce.csv')\n",
    "print(transaction_data,'\\n')\n",
    "\n",
    "transaction_data = transaction_data.drop(columns='amount_spent')\n",
    "print('Dropped amount_spent col\\n', transaction_data,'\\n')\n",
    "\n",
    "transaction_data['id'] = transaction_data.index\n",
    "print('Added id col\\n', transaction_data,'\\n')\n",
    "\n",
    "event_A = transaction_data[transaction_data['product'] == 'A']\n",
    "print('Event A\\n', event_A, '\\n')\n",
    "\n",
    "event_B = transaction_data[transaction_data['product'] == 'B']\n",
    "print('Event B\\n', event_b, '\\n')\n",
    "\n",
    "p_A = len(event_A)/len(transaction_data)\n",
    "print('P(A) = ', p_A)\n",
    "\n",
    "p_B = len(event_B)/len(transaction_data)\n",
    "print('P(B) = ', p_B)\n",
    "\n",
    "# Calculate P(A and B) using inner join on id\n",
    "p_A_and_B = len(pd.merge(event_A, event_B, on='id'))/len(transaction_data)\n",
    "print('P(A and B) = ', p_A_and_B)\n",
    "\n",
    "if p_A_and_B == p_A * p_B:\n",
    "    print('P(A) and P(B) are independent')\n",
    "else:\n",
    "    print('P(A) and P(B) are not independent')\n"
   ],
   "id": "d71bd69ca386f14b",
   "outputs": [
    {
     "name": "stdout",
     "output_type": "stream",
     "text": [
      "  product  amount_spent\n",
      "0       A           120\n",
      "1       B            80\n",
      "2       C           200\n",
      "3       A            90\n",
      "4       D           150\n",
      "5       B            60\n",
      "6       E           300\n",
      "7       A           100\n",
      "8       C            50\n",
      "9       D           130 \n",
      "\n",
      "Dropped amount_spent col\n",
      "   product\n",
      "0       A\n",
      "1       B\n",
      "2       C\n",
      "3       A\n",
      "4       D\n",
      "5       B\n",
      "6       E\n",
      "7       A\n",
      "8       C\n",
      "9       D \n",
      "\n",
      "Added id col\n",
      "   product  id\n",
      "0       A   0\n",
      "1       B   1\n",
      "2       C   2\n",
      "3       A   3\n",
      "4       D   4\n",
      "5       B   5\n",
      "6       E   6\n",
      "7       A   7\n",
      "8       C   8\n",
      "9       D   9 \n",
      "\n",
      "Event A\n",
      "   product  id\n",
      "0       A   0\n",
      "3       A   3\n",
      "7       A   7 \n",
      "\n",
      "Event B\n",
      "   product  id\n",
      "1       B   1\n",
      "5       B   5 \n",
      "\n",
      "P(A) =  0.3\n",
      "P(B) =  0.2\n",
      "P(A and B) =  0.0\n",
      "P(A) and P(B) are not independent\n"
     ]
    }
   ],
   "execution_count": 43
  },
  {
   "metadata": {},
   "cell_type": "markdown",
   "source": "",
   "id": "8f826dd1b7ed5f2b"
  },
  {
   "metadata": {},
   "cell_type": "markdown",
   "source": "## 3.3.2 Construction of a Probability Space\n",
   "id": "a98342b7df9430d9"
  },
  {
   "metadata": {
    "ExecuteTime": {
     "end_time": "2025-06-25T03:09:52.693129Z",
     "start_time": "2025-06-25T03:09:52.682402Z"
    }
   },
   "cell_type": "code",
   "source": [
    "transaction_data = pd.read_csv('example_files/transactions_probability_space.csv')\n",
    "print(transaction_data,'\\n')\n",
    "\n",
    "sample_space = transaction_data['itemset'].unique()\n",
    "print(sample_space, '\\n')\n",
    "\n",
    "event_A = transaction_data[transaction_data['total'] > 100]\n",
    "print('Event A\\n', event_A, '\\n')\n",
    "\n",
    "event_B = transaction_data[transaction_data['itemset'].str.contains('Fruit-Vegetable')]\n",
    "print('Event B\\n', event_B, '\\n')\n",
    "\n",
    "p_A = len(event_A)/len(transaction_data)\n",
    "print('P(A) = ', p_A)\n",
    "\n",
    "p_B = len(event_B)/len(transaction_data)\n",
    "print('P(B) = ', p_B)"
   ],
   "id": "3d303374a312456e",
   "outputs": [
    {
     "name": "stdout",
     "output_type": "stream",
     "text": [
      "           itemset  total\n",
      "0       Milk-Bread     45\n",
      "1            Fruit    120\n",
      "2        Vegetable    110\n",
      "3            Fruit     80\n",
      "4        Meat-Eggs    130\n",
      "5       Bread-Milk     95\n",
      "6  Fruit-Vegetable    150\n",
      "7        Milk-Eggs     40\n",
      "8           Cereal     50\n",
      "9  Fruit-Vegetable     90 \n",
      "\n",
      "['Milk-Bread' 'Fruit' 'Vegetable' 'Meat-Eggs' 'Bread-Milk'\n",
      " 'Fruit-Vegetable' 'Milk-Eggs' 'Cereal'] \n",
      "\n",
      "Event A\n",
      "            itemset  total\n",
      "1            Fruit    120\n",
      "2        Vegetable    110\n",
      "4        Meat-Eggs    130\n",
      "6  Fruit-Vegetable    150 \n",
      "\n",
      "Event B\n",
      "            itemset  total\n",
      "6  Fruit-Vegetable    150\n",
      "9  Fruit-Vegetable     90 \n",
      "\n",
      "P(A) =  0.4\n",
      "P(B) =  0.2\n"
     ]
    }
   ],
   "execution_count": 55
  },
  {
   "metadata": {},
   "cell_type": "markdown",
   "source": "",
   "id": "af19b31b72f04197"
  },
  {
   "metadata": {},
   "cell_type": "markdown",
   "source": "## 3.4.1 Kolmogorov Axiom\n",
   "id": "a9daf501b2f81dcb"
  },
  {
   "metadata": {
    "ExecuteTime": {
     "end_time": "2025-06-25T14:44:48.320603Z",
     "start_time": "2025-06-25T14:44:48.301260Z"
    }
   },
   "cell_type": "code",
   "source": [
    "# Define sample space for a 6-side fair die\n",
    "sample_space = np.array([1,2,3,4,5,6])\n",
    "print(sample_space, '\\n')\n",
    "\n",
    "# Compute the probability of each result\n",
    "probabilities = np.full(6, 1/6)\n",
    "print(probabilities, '\\n')\n",
    "\n",
    "# Axiom 1 - Non-negativity\n",
    "assert np.all(probabilities >= 0)\n",
    "\n",
    "# Axiom 2 - Normality\n",
    "assert np.isclose(np.sum(probabilities), 1)\n",
    "\n",
    "# Event A - Obtaining an even number\n",
    "event_A = sample_space[sample_space % 2 == 0]\n",
    "print('Event A\\n', event_A, '\\n')\n",
    "\n",
    "# Event B - Obtaining an odd number\n",
    "event_B = sample_space[sample_space % 2 != 0]\n",
    "print('Event B\\n', event_B, '\\n')\n",
    "\n",
    "# Axiom 3 - Countable additivity\n",
    "assert np.isclose(\n",
    "    np.sum(probabilities[event_A - 1]) + np.sum(probabilities[event_B - 1]), 1)\n",
    "\n",
    "\n",
    "\n"
   ],
   "id": "450c9f3494b78ad5",
   "outputs": [
    {
     "name": "stdout",
     "output_type": "stream",
     "text": [
      "[1 2 3 4 5 6] \n",
      "\n",
      "[0.16666667 0.16666667 0.16666667 0.16666667 0.16666667 0.16666667] \n",
      "\n",
      "Event A\n",
      " [2 4 6] \n",
      "\n",
      "Event B\n",
      " [1 3 5] \n",
      "\n"
     ]
    }
   ],
   "execution_count": 56
  },
  {
   "metadata": {},
   "cell_type": "code",
   "outputs": [],
   "execution_count": null,
   "source": "",
   "id": "956cd8142ce7262d"
  },
  {
   "metadata": {},
   "cell_type": "markdown",
   "source": [
    "## 3.4.2 Properties and Theorems\n",
    "\n",
    "### Complement Property\n",
    "$ P(A^c) = 1 - P(A) $\n",
    "\n",
    "### Total Probability Theorem\n",
    "$ P(B) = \\sum_{i=1}^n [P(B|A_i) * P(A_i)] $\n",
    "<br>\n",
    "$ P(A) = P(A|B)*P(B) + P(A|\\sim B)*P(\\sim B) $\n",
    "\n",
    "### Conditional Probability Theorem\n",
    "$P(A|B) = \\frac{P(A \\cap B)}{P(B)}$ if P(B) > 0"
   ],
   "id": "a5f7c663dd16d02"
  },
  {
   "metadata": {
    "ExecuteTime": {
     "end_time": "2025-06-25T16:22:16.345598Z",
     "start_time": "2025-06-25T16:22:16.334959Z"
    }
   },
   "cell_type": "code",
   "source": [
    "# Generate random sales data\n",
    "sales_data = np.random.choice([0,1], size=10000, p=[0.7, 0.3])\n",
    "# print(sales_data, '\\n')\n",
    "\n",
    "# This turns the array into a boolean array where 0s are False and 1s are True\n",
    "event_A = (sales_data == 1)\n",
    "print('Event A\\n', event_A, '\\n')\n",
    "\n",
    "event_B = np.random.choice([0,1], size=10000, p=[0.5,0.5])\n",
    "event_B = event_B.astype(bool)\n",
    "\n",
    "\n",
    "# Compute probabilities of events A and B, we use .mean in this case\n",
    "# because the mean is the probability since we are adding 0s and 1s\n",
    "P_A = np.mean(event_A)\n",
    "print('P(A) = ', P_A)\n",
    "print('P(~A) = ', np.mean(~event_A))\n",
    "\n",
    "P_B = np.mean(event_B)\n",
    "print('P(B) = ', P_B)\n",
    "print('P(~B) = ', np.mean(~event_B))\n",
    "\n",
    "P_A_given_B = np.mean(event_A[event_B])\n",
    "print('P(A|B) = ', P_A_given_B)\n",
    "\n",
    "P_A_given_notB = np.mean(event_A[~event_B])\n",
    "print('P(A|~B) = ', P_A_given_notB)\n",
    "\n",
    "# Compute the probability of intersection\n",
    "# It checks if event_A[i] == event_B[i]\n",
    "P_A_and_B = np.mean(event_A & event_B)\n",
    "print('P(A and B) = ', P_A_and_B)\n",
    "\n",
    "# Assert complementarity property\n",
    "assert np.isclose(1 - P_A, np.mean(~event_A))\n",
    "assert np.isclose(1 - P_B, np.mean(~event_B))\n",
    "print('Complementarity property respected')\n",
    "\n",
    "# Assert Total Probability Theorem\n",
    "assert np.isclose( P_A, P_A_given_B*P_B + P_A_given_notB*(1-P_B) )\n",
    "print('Law of Total Probability Successfully asserted!')\n",
    "\n",
    "# Assert Conditional Probability Theorem\n",
    "assert np.isclose(P_A_and_B/P_B , np.mean(event_A[event_B]))\n",
    "print('Conditional Probability Theorem y Successfully asserted!')\n"
   ],
   "id": "958a0fe7e40d03f9",
   "outputs": [
    {
     "name": "stdout",
     "output_type": "stream",
     "text": [
      "Event A\n",
      " [ True False False ...  True  True  True] \n",
      "\n",
      "P(A) =  0.2934\n",
      "P(~A) =  0.7066\n",
      "P(B) =  0.4982\n",
      "P(~B) =  0.5018\n",
      "P(A|B) =  0.2958651144118828\n",
      "P(A|~B) =  0.2909525707453169\n",
      "P(A and B) =  0.1474\n",
      "Complementarity property respected\n",
      "Law of Total Probability Successfully asserted!\n",
      "Conditional Probability Theorem y Successfully asserted!\n"
     ]
    }
   ],
   "execution_count": 66
  },
  {
   "metadata": {},
   "cell_type": "code",
   "outputs": [],
   "execution_count": null,
   "source": "",
   "id": "87a6dfedad290bac"
  },
  {
   "metadata": {},
   "cell_type": "markdown",
   "source": [
    "## 3.5.1 Product Rule and Bayes Theorem\n",
    "\n",
    "### Product Rule\n",
    "Determines the joint probability of 2 events<br>\n",
    "$ P(A , B) = P(A \\cap B) = P(A)*P(B|A) = P(B)*P(A|B) $\n",
    "\n",
    "### Bayes Theorem\n",
    "$ P(A|B) = P(B|A)*\\frac{P(A)}{P(B)} $"
   ],
   "id": "7a0c449b29473893"
  },
  {
   "metadata": {},
   "cell_type": "code",
   "outputs": [],
   "execution_count": null,
   "source": "",
   "id": "ba0583084f392b5f"
  }
 ],
 "metadata": {
  "kernelspec": {
   "display_name": "Python 3",
   "language": "python",
   "name": "python3"
  },
  "language_info": {
   "codemirror_mode": {
    "name": "ipython",
    "version": 2
   },
   "file_extension": ".py",
   "mimetype": "text/x-python",
   "name": "python",
   "nbconvert_exporter": "python",
   "pygments_lexer": "ipython2",
   "version": "2.7.6"
  }
 },
 "nbformat": 4,
 "nbformat_minor": 5
}
