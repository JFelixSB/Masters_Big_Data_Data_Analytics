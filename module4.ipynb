{
 "cells": [
  {
   "metadata": {},
   "cell_type": "markdown",
   "source": "# MODULE 4 - BIG DATA FUNDAMENTALS",
   "id": "723d71fa18387350"
  },
  {
   "metadata": {},
   "cell_type": "markdown",
   "source": "## 4.1.1.1 Data Volume",
   "id": "a139edb6f9e26995"
  },
  {
   "metadata": {
    "ExecuteTime": {
     "end_time": "2025-07-02T19:33:16.110111Z",
     "start_time": "2025-07-02T19:33:16.105663Z"
    }
   },
   "cell_type": "code",
   "source": [
    "# ── Cell 1: configure Spark env and init findspark ──\n",
    "import os\n",
    "\n",
    "# 1) Where you unpacked Spark\n",
    "os.environ['SPARK_HOME'] = '/Users/jfelixsb/spark'\n",
    "\n",
    "# 2) Your JDK path\n",
    "os.environ['JAVA_HOME'] = '/Library/Java/JavaVirtualMachines/jdk-21.jdk/Contents/Home'\n",
    "\n",
    "# 3) Put Spark’s bin first in PATH\n",
    "os.environ['PATH'] = os.path.join(os.environ['SPARK_HOME'], 'bin') + ':' + os.environ.get('PATH', '')\n",
    "\n",
    "# 4) (Optional) helps PySpark find everything\n",
    "#    Make sure you’ve `pip install findspark` in your venv\n",
    "import findspark\n",
    "\n",
    "findspark.init()"
   ],
   "id": "5a805ad001cc5607",
   "outputs": [],
   "execution_count": 15
  },
  {
   "cell_type": "code",
   "id": "initial_id",
   "metadata": {
    "collapsed": true,
    "ExecuteTime": {
     "end_time": "2025-07-02T19:22:36.661872Z",
     "start_time": "2025-07-02T19:22:36.479464Z"
    }
   },
   "source": [
    "from pyspark import SparkConf, SparkContext\n",
    "\n",
    "conf = SparkConf() \\\n",
    "    .setAppName(\"FacebookInteractionsCount\") \\\n",
    "    .setMaster(\"local[*]\")\n",
    "\n",
    "# This will either return your already-running sc, or make it fresh\n",
    "sc = SparkContext.getOrCreate(conf=conf)\n",
    "\n",
    "# sanity check\n",
    "print(\"Spark v.\", sc._gateway.jvm.org.apache.spark.SPARK_VERSION)\n",
    "\n",
    "data = sc.textFile('example_files/facebook_interactions.txt')\n",
    "\n",
    "elements = data.collect()\n",
    "print(elements)  # Not nice, prints an aray\n",
    "\n",
    "for elem in elements:\n",
    "    print(elem)\n",
    "\n",
    "num_interactions = data.count()\n",
    "\n",
    "print(f'Number of interactions: {num_interactions}')"
   ],
   "outputs": [
    {
     "name": "stdout",
     "output_type": "stream",
     "text": [
      "Spark v. <py4j.java_gateway.JavaPackage object at 0x115cafb50>\n",
      "['userId,postId,interactionType,timestamp', '1,1001,like,2025-07-02T10:00:00Z', '2,1001,comment,2025-07-02T10:01:23Z', '3,1002,share,2025-07-02T10:05:12Z', '4,1003,like,2025-07-02T10:08:45Z', '5,1002,like,2025-07-02T10:09:01Z', '6,1003,comment,2025-07-02T10:12:34Z', '7,1004,share,2025-07-02T10:15:55Z', '8,1001,like,2025-07-02T10:18:20Z', '9,1005,comment,2025-07-02T10:20:11Z', '10,1002,like,2025-07-02T10:22:47Z', '11,1004,like,2025-07-02T10:25:30Z', '12,1005,share,2025-07-02T10:28:05Z']\n",
      "userId,postId,interactionType,timestamp\n",
      "1,1001,like,2025-07-02T10:00:00Z\n",
      "2,1001,comment,2025-07-02T10:01:23Z\n",
      "3,1002,share,2025-07-02T10:05:12Z\n",
      "4,1003,like,2025-07-02T10:08:45Z\n",
      "5,1002,like,2025-07-02T10:09:01Z\n",
      "6,1003,comment,2025-07-02T10:12:34Z\n",
      "7,1004,share,2025-07-02T10:15:55Z\n",
      "8,1001,like,2025-07-02T10:18:20Z\n",
      "9,1005,comment,2025-07-02T10:20:11Z\n",
      "10,1002,like,2025-07-02T10:22:47Z\n",
      "11,1004,like,2025-07-02T10:25:30Z\n",
      "12,1005,share,2025-07-02T10:28:05Z\n",
      "Number of interactions: 13\n"
     ]
    }
   ],
   "execution_count": 11
  },
  {
   "metadata": {},
   "cell_type": "code",
   "outputs": [],
   "execution_count": null,
   "source": "",
   "id": "a3f64d7d19e14486"
  },
  {
   "metadata": {},
   "cell_type": "markdown",
   "source": "## 4.1.1.2 Data Variety",
   "id": "b6aad7d42a98ed03"
  },
  {
   "metadata": {
    "ExecuteTime": {
     "end_time": "2025-07-02T20:13:55.862063Z",
     "start_time": "2025-07-02T20:13:55.712338Z"
    }
   },
   "cell_type": "code",
   "source": [
    "import os\n",
    "\n",
    "print(\"Working directory:\", os.getcwd())\n",
    "!ls -la\n"
   ],
   "id": "f4be1b6d465d3a89",
   "outputs": [
    {
     "name": "stdout",
     "output_type": "stream",
     "text": [
      "Working directory: /Users/jfelixsb/PycharmProjects/Masters_Big_Data_Data_Analytics\n",
      "total 1016\r\n",
      "drwxr-xr-x@ 10 jfelixsb  staff     320 Jul  2 16:13 \u001B[34m.\u001B[m\u001B[m\r\n",
      "drwxr-xr-x  15 jfelixsb  staff     480 Jun 13 16:52 \u001B[34m..\u001B[m\u001B[m\r\n",
      "drwxr-xr-x@ 14 jfelixsb  staff     448 Jul  2 15:26 \u001B[34m.git\u001B[m\u001B[m\r\n",
      "drwxr-xr-x@  9 jfelixsb  staff     288 Jul  2 16:13 \u001B[34m.idea\u001B[m\u001B[m\r\n",
      "drwxr-xr-x@ 10 jfelixsb  staff     320 Jul  2 14:46 \u001B[34m.venv\u001B[m\u001B[m\r\n",
      "drwxr-xr-x@  3 jfelixsb  staff      96 Jul  2 15:32 \u001B[34martifacts\u001B[m\u001B[m\r\n",
      "drwxr-xr-x@  7 jfelixsb  staff     224 Jul  2 15:29 \u001B[34mexample_files\u001B[m\u001B[m\r\n",
      "-rw-r--r--@  1 jfelixsb  staff   43581 Jun 14 11:53 module2.ipynb\r\n",
      "-rw-r--r--@  1 jfelixsb  staff  447307 Jun 26 12:26 module3.ipynb\r\n",
      "-rw-r--r--@  1 jfelixsb  staff   20523 Jul  2 16:13 module4.ipynb\r\n"
     ]
    }
   ],
   "execution_count": 17
  },
  {
   "metadata": {
    "ExecuteTime": {
     "end_time": "2025-07-02T21:07:28.252055Z",
     "start_time": "2025-07-02T21:07:27.974484Z"
    }
   },
   "cell_type": "code",
   "source": [
    "from pyspark.sql import SparkSession\n",
    "from pyspark.sql.functions import explode, col\n",
    "\n",
    "# Crear una sesión Spark\n",
    "spark = (\n",
    "    SparkSession.builder\n",
    "    .appName(\"TwitterDataAnalysis\")\n",
    "    .master(\"local[*]\")\n",
    "    .getOrCreate()\n",
    ")\n",
    "\n",
    "# Leer los datos de Twitter en formato JSON\n",
    "tweets_df = (spark.read\n",
    "             .option(\"multiline\", True)\n",
    "             .json(\"example_files/tweets.json\"))\n",
    "print(tweets_df)\n",
    "tweets_df.printSchema()\n",
    "\n",
    "# 4) Explode the array into separate rows\n",
    "tweets = tweets_df.select(explode(col(\"data\")).alias(\"tweet\"))\n",
    "\n",
    "# 5) Pull out the text field\n",
    "tweets_text = tweets.select(col(\"tweet.text\").alias(\"text\"))\n",
    "\n",
    "# Mostrar los primeros 5 tweets\n",
    "tweets_text.show()\n",
    "\n",
    "# ((tweets_df\n",
    "#  .select(explode(col(\"data\")).alias(\"tweet\"))\n",
    "#  .select(col(\"tweet.text\").alias(\"text\")))\n",
    "#  .show())"
   ],
   "id": "70774abf72632c1e",
   "outputs": [
    {
     "name": "stdout",
     "output_type": "stream",
     "text": [
      "DataFrame[data: array<struct<id:bigint,likes:bigint,text:string,timestamp:string,user:string>>]\n",
      "root\n",
      " |-- data: array (nullable = true)\n",
      " |    |-- element: struct (containsNull = true)\n",
      " |    |    |-- id: long (nullable = true)\n",
      " |    |    |-- likes: long (nullable = true)\n",
      " |    |    |-- text: string (nullable = true)\n",
      " |    |    |-- timestamp: string (nullable = true)\n",
      " |    |    |-- user: string (nullable = true)\n",
      "\n",
      "+--------------------+\n",
      "|                text|\n",
      "+--------------------+\n",
      "|Just had the best...|\n",
      "|RT @charlie: Spar...|\n",
      "|Preparing my talk...|\n",
      "|Sunny day in Mont...|\n",
      "|Does anyone know ...|\n",
      "|Deploying my firs...|\n",
      "|Lunch break! 🍔 #...|\n",
      "|Debugging streami...|\n",
      "|Schema evolution ...|\n",
      "|Wrapping up today...|\n",
      "+--------------------+\n",
      "\n",
      "+--------------------+\n",
      "|                text|\n",
      "+--------------------+\n",
      "|Just had the best...|\n",
      "|RT @charlie: Spar...|\n",
      "|Preparing my talk...|\n",
      "|Sunny day in Mont...|\n",
      "|Does anyone know ...|\n",
      "|Deploying my firs...|\n",
      "|Lunch break! 🍔 #...|\n",
      "|Debugging streami...|\n",
      "|Schema evolution ...|\n",
      "|Wrapping up today...|\n",
      "+--------------------+\n",
      "\n"
     ]
    }
   ],
   "execution_count": 28
  },
  {
   "metadata": {},
   "cell_type": "code",
   "outputs": [],
   "execution_count": null,
   "source": "",
   "id": "48b48b339b34edbf"
  },
  {
   "metadata": {},
   "cell_type": "markdown",
   "source": "## 4.1.1.5 Data Quality",
   "id": "b6359deaecba2738"
  },
  {
   "metadata": {
    "ExecuteTime": {
     "end_time": "2025-07-02T22:04:33.787260Z",
     "start_time": "2025-07-02T22:04:33.781091Z"
    }
   },
   "cell_type": "code",
   "source": "import pandas as pd",
   "id": "ad7d560d2477be7c",
   "outputs": [],
   "execution_count": 29
  },
  {
   "metadata": {
    "ExecuteTime": {
     "end_time": "2025-07-03T02:35:39.495745Z",
     "start_time": "2025-07-03T02:35:39.480460Z"
    }
   },
   "cell_type": "code",
   "source": [
    "# Cargar los datos\n",
    "df = pd.read_csv('example_files/data_quality_sales.csv')\n",
    "\n",
    "print('Initial df\\n', df)\n",
    "\n",
    "# Corregir los errores de entrada de datos\n",
    "df['email'] = df['email'].str.lower()\n",
    "df['email'] = df['email'].fillna('No Data')\n",
    "print('\\nLowercasing emails\\n', df)\n",
    "\n",
    "df['sales'] = pd.to_numeric(df['sales'], errors='coerce')\n",
    "print('\\nTurning non-numeric cells into NaN\\n', df)\n",
    "\n",
    "# Imputar los valores faltantes con la media\n",
    "# Important to make sure to only compute the mean for the numeric cols\n",
    "df['sales'] = df['sales'].fillna(df['sales'].mean())\n",
    "df['temperature'] = df['temperature'].fillna(df['temperature'].mean())\n",
    "df['humidity'] = df['humidity'].fillna(df['humidity'].mean())\n",
    "print('\\nReplacing the NaN on the numeric cols by the mean of that col\\n', df)\n",
    "\n",
    "\n",
    "# Normalizar las fechas a un formato común\n",
    "df['date'] = pd.to_datetime(df['date'], errors='coerce')\n",
    "# df['date'] = df['date'].fillna('No Data')\n",
    "print('\\nReplacing missing dates by NaT\\n', df)\n",
    "\n",
    "# Seleccionar las características relevantes\n",
    "# df = df['date', 'sales', 'temperature', 'humidity']\n",
    "print('\\nFinal version\\n', df[['date', 'email', 'sales', 'temperature']])"
   ],
   "id": "53c46771fff86f7d",
   "outputs": [
    {
     "name": "stdout",
     "output_type": "stream",
     "text": [
      "Initial df\n",
      "            date                 email         sales  temperature  humidity\n",
      "0    2025-07-01     Alice@example.COM           100         22.5      0.30\n",
      "1    2025-07-02       BOB@Example.com         200.5         21.0       NaN\n",
      "2    2025-07-03   Charlie@Example.COM           NaN         20.0      0.40\n",
      "3  invalid_date  danielle@Example.com  not a number         22.0      0.45\n",
      "4    2025-07-05                   NaN         150.0         24.0      0.50\n",
      "\n",
      "Lowercasing emails\n",
      "            date                 email         sales  temperature  humidity\n",
      "0    2025-07-01     alice@example.com           100         22.5      0.30\n",
      "1    2025-07-02       bob@example.com         200.5         21.0       NaN\n",
      "2    2025-07-03   charlie@example.com           NaN         20.0      0.40\n",
      "3  invalid_date  danielle@example.com  not a number         22.0      0.45\n",
      "4    2025-07-05               No Data         150.0         24.0      0.50\n",
      "\n",
      "Turning non-numeric cells into NaN\n",
      "            date                 email  sales  temperature  humidity\n",
      "0    2025-07-01     alice@example.com  100.0         22.5      0.30\n",
      "1    2025-07-02       bob@example.com  200.5         21.0       NaN\n",
      "2    2025-07-03   charlie@example.com    NaN         20.0      0.40\n",
      "3  invalid_date  danielle@example.com    NaN         22.0      0.45\n",
      "4    2025-07-05               No Data  150.0         24.0      0.50\n",
      "\n",
      "Replacing the NaN on the numeric cols by the mean of that col\n",
      "            date                 email       sales  temperature  humidity\n",
      "0    2025-07-01     alice@example.com  100.000000         22.5    0.3000\n",
      "1    2025-07-02       bob@example.com  200.500000         21.0    0.4125\n",
      "2    2025-07-03   charlie@example.com  150.166667         20.0    0.4000\n",
      "3  invalid_date  danielle@example.com  150.166667         22.0    0.4500\n",
      "4    2025-07-05               No Data  150.000000         24.0    0.5000\n",
      "\n",
      "Replacing missing dates by NaT\n",
      "         date                 email       sales  temperature  humidity\n",
      "0 2025-07-01     alice@example.com  100.000000         22.5    0.3000\n",
      "1 2025-07-02       bob@example.com  200.500000         21.0    0.4125\n",
      "2 2025-07-03   charlie@example.com  150.166667         20.0    0.4000\n",
      "3        NaT  danielle@example.com  150.166667         22.0    0.4500\n",
      "4 2025-07-05               No Data  150.000000         24.0    0.5000\n",
      "\n",
      "Final version\n",
      "         date                 email       sales  temperature\n",
      "0 2025-07-01     alice@example.com  100.000000         22.5\n",
      "1 2025-07-02       bob@example.com  200.500000         21.0\n",
      "2 2025-07-03   charlie@example.com  150.166667         20.0\n",
      "3        NaT  danielle@example.com  150.166667         22.0\n",
      "4 2025-07-05               No Data  150.000000         24.0\n"
     ]
    }
   ],
   "execution_count": 55
  },
  {
   "metadata": {},
   "cell_type": "code",
   "outputs": [],
   "execution_count": null,
   "source": "",
   "id": "f14e88709364ee7b"
  },
  {
   "metadata": {},
   "cell_type": "markdown",
   "source": "## 4.1.1.6 Data Value",
   "id": "94e547c694c2a04f"
  },
  {
   "metadata": {
    "ExecuteTime": {
     "end_time": "2025-07-08T18:42:54.729600Z",
     "start_time": "2025-07-08T18:42:54.394392Z"
    }
   },
   "cell_type": "code",
   "source": "import pandas as pd",
   "id": "73a06032199227fc",
   "outputs": [],
   "execution_count": 2
  },
  {
   "metadata": {
    "ExecuteTime": {
     "end_time": "2025-07-08T18:45:09.928293Z",
     "start_time": "2025-07-08T18:45:09.921885Z"
    }
   },
   "cell_type": "code",
   "source": [
    "# Cargar los datos de ventas\n",
    "df = pd.read_csv('example_files/data_value_sales_data.csv')\n",
    "print(df)\n",
    "# Agrupar por producto y sumar las ventas\n",
    "product_sales = df.groupby('product_name').sum()\n",
    "# Ordenar los productos por ventas\n",
    "top_products = product_sales.sort_values(\n",
    "    by='sales_amount',\n",
    "    ascending=False\n",
    ").head(10)\n",
    "\n",
    "print(top_products)"
   ],
   "id": "e27501ff1318e48c",
   "outputs": [
    {
     "name": "stdout",
     "output_type": "stream",
     "text": [
      "   product_name  sales_amount\n",
      "0      Widget A           100\n",
      "1      Widget B           200\n",
      "2      Widget A           150\n",
      "3      Gadget X           300\n",
      "4      Widget C           120\n",
      "5      Gadget X           250\n",
      "6      Widget B           180\n",
      "7   Thingamajig            75\n",
      "8      Widget C           200\n",
      "9      Gadget Y           400\n",
      "10     Gadget Y           150\n",
      "11  Thingamajig           125\n",
      "              sales_amount\n",
      "product_name              \n",
      "Gadget X               550\n",
      "Gadget Y               550\n",
      "Widget B               380\n",
      "Widget C               320\n",
      "Widget A               250\n",
      "Thingamajig            200\n"
     ]
    }
   ],
   "execution_count": 6
  },
  {
   "metadata": {},
   "cell_type": "code",
   "outputs": [],
   "execution_count": null,
   "source": "",
   "id": "fe1fe6d81f9b2889"
  },
  {
   "metadata": {},
   "cell_type": "markdown",
   "source": "## 4.3 Data Transformation",
   "id": "f3db6da15530b8d0"
  },
  {
   "metadata": {
    "ExecuteTime": {
     "end_time": "2025-07-08T20:53:43.396217Z",
     "start_time": "2025-07-08T20:53:43.388887Z"
    }
   },
   "cell_type": "code",
   "source": [
    "data = pd.read_csv('example_files/data_transformation_sales.csv')\n",
    "# Limpieza. Eliminar las filas con valores faltantes\n",
    "print(data)\n",
    "\n",
    "data.dropna(inplace=True)\n",
    "print(data)\n",
    "# Transformación. Convertir precios de string a float\n",
    "data['precio'] = data['precio'].str.replace('$', '').astype(float)\n",
    "\n",
    "# Agregación. Sumar ventas por producto\n",
    "ventas_agregadas = data.groupby('producto').sum()\n",
    "print(ventas_agregadas)"
   ],
   "id": "b4d23d100bb73f34",
   "outputs": [
    {
     "name": "stdout",
     "output_type": "stream",
     "text": [
      "      producto  precio\n",
      "0     Widget A  $10.50\n",
      "1     Widget B     $20\n",
      "2     Widget A   $5.75\n",
      "3     Gadget X    $100\n",
      "4     Widget B     $15\n",
      "5     Gadget Y    $200\n",
      "6          NaN     $30\n",
      "7     Gadget Z     NaN\n",
      "8  Thingamajig  $75.25\n",
      "9     Gadget X     $50\n",
      "      producto  precio\n",
      "0     Widget A  $10.50\n",
      "1     Widget B     $20\n",
      "2     Widget A   $5.75\n",
      "3     Gadget X    $100\n",
      "4     Widget B     $15\n",
      "5     Gadget Y    $200\n",
      "8  Thingamajig  $75.25\n",
      "9     Gadget X     $50\n",
      "             precio\n",
      "producto           \n",
      "Gadget X     150.00\n",
      "Gadget Y     200.00\n",
      "Thingamajig   75.25\n",
      "Widget A      16.25\n",
      "Widget B      35.00\n"
     ]
    }
   ],
   "execution_count": 9
  },
  {
   "metadata": {
    "ExecuteTime": {
     "end_time": "2025-07-08T21:51:03.282939Z",
     "start_time": "2025-07-08T21:51:03.267107Z"
    }
   },
   "cell_type": "code",
   "source": [
    "\n",
    "# Create a sample DataFrame\n",
    "data = {'A': [1, 2], 'B': [3, 4]}\n",
    "df = pd.DataFrame(data, index=['row1', 'row2'])\n",
    "print(\"Original DataFrame:\")\n",
    "print(df)\n",
    "\n",
    "# Stack the DataFrame\n",
    "stacked_df = df.stack()\n",
    "print(\"\\nStacked DataFrame (Series):\")\n",
    "print(stacked_df)"
   ],
   "id": "a5199b0b29102067",
   "outputs": [
    {
     "name": "stdout",
     "output_type": "stream",
     "text": [
      "Original DataFrame:\n",
      "      A  B\n",
      "row1  1  3\n",
      "row2  2  4\n",
      "\n",
      "Stacked DataFrame (Series):\n",
      "row1  A    1\n",
      "      B    3\n",
      "row2  A    2\n",
      "      B    4\n",
      "dtype: int64\n"
     ]
    }
   ],
   "execution_count": 10
  },
  {
   "metadata": {},
   "cell_type": "code",
   "outputs": [],
   "execution_count": null,
   "source": "",
   "id": "58e5493aa4039c59"
  },
  {
   "metadata": {},
   "cell_type": "markdown",
   "source": [
    "## 4.5.1 Data Association\n",
    "$ Support(X) $: fraction of all baskets that contain itemset X <br>\n",
    "$ Support(A \\rightarrow B) = Support(A \\cup B) $ <br>\n",
    "$ Confidence(A \\rightarrow B) = \\frac{Support(A \\cup B)}{Support(A)} $ <br>\n",
    "$ Lift(A \\rightarrow B) = \\frac{Confidence(A \\rightarrow B)}{Support(B)} $"
   ],
   "id": "b1206ef53d4fa5a5"
  },
  {
   "metadata": {
    "ExecuteTime": {
     "end_time": "2025-07-08T22:11:54.473857Z",
     "start_time": "2025-07-08T22:11:54.466716Z"
    }
   },
   "cell_type": "code",
   "source": [
    "from mlxtend.frequent_patterns import apriori, association_rules\n",
    "# Datos ficticios de compras\n",
    "dataset = [\n",
    "    ['leche', 'pan', 'mantequilla'],\n",
    "    ['leche', 'pan'],\n",
    "    ['mantequilla', 'pan', 'jugo'],\n",
    "    ['leche', 'manzana'],\n",
    "    ['manzana', 'jugo'],\n",
    "    ['pan', 'jugo', 'leche']\n",
    "]\n",
    "# Transformar datos para Apriori\n",
    "df = pd.DataFrame(dataset)\n",
    "print(df)\n",
    "oht = pd.get_dummies(df.stack()).groupby(level=0).sum()\n",
    "print(oht)\n",
    "# Aplicar Apriori\n",
    "frequent_itemsets = apriori(oht, min_support=0.5, use_colnames=True)\n",
    "print(frequent_itemsets)\n",
    "rules = association_rules(frequent_itemsets, metric=\"lift\", min_threshold=1.2)\n",
    "print(rules)"
   ],
   "id": "9e25a83bb8ee4d79",
   "outputs": [
    {
     "name": "stdout",
     "output_type": "stream",
     "text": [
      "             0        1            2\n",
      "0        leche      pan  mantequilla\n",
      "1        leche      pan         None\n",
      "2  mantequilla      pan         jugo\n",
      "3        leche  manzana         None\n",
      "4      manzana     jugo         None\n",
      "5          pan     jugo        leche\n",
      "   jugo  leche  mantequilla  manzana  pan\n",
      "0     0      1            1        0    1\n",
      "1     0      1            0        0    1\n",
      "2     1      0            1        0    1\n",
      "3     0      1            0        1    0\n",
      "4     1      0            0        1    0\n",
      "5     1      1            0        0    1\n",
      "    support      itemsets\n",
      "0  0.500000        (jugo)\n",
      "1  0.666667       (leche)\n",
      "2  0.666667         (pan)\n",
      "3  0.500000  (leche, pan)\n",
      "Empty DataFrame\n",
      "Columns: [antecedents, consequents, antecedent support, consequent support, support, confidence, lift, representativity, leverage, conviction, zhangs_metric, jaccard, certainty, kulczynski]\n",
      "Index: []\n"
     ]
    },
    {
     "name": "stderr",
     "output_type": "stream",
     "text": [
      "/Users/jfelixsb/PycharmProjects/Masters_Big_Data_Data_Analytics/.venv/lib/python3.11/site-packages/mlxtend/frequent_patterns/fpcommon.py:161: DeprecationWarning: DataFrames with non-bool types result in worse computationalperformance and their support might be discontinued in the future.Please use a DataFrame with bool type\n",
      "  warnings.warn(\n"
     ]
    }
   ],
   "execution_count": 21
  },
  {
   "metadata": {},
   "cell_type": "code",
   "outputs": [],
   "execution_count": null,
   "source": "",
   "id": "dc9b515a9d77cab6"
  },
  {
   "metadata": {},
   "cell_type": "markdown",
   "source": "## 4.5.2 Data Mining",
   "id": "59c6598446d32c86"
  },
  {
   "metadata": {
    "ExecuteTime": {
     "end_time": "2025-07-08T23:03:25.634708Z",
     "start_time": "2025-07-08T23:03:24.129771Z"
    }
   },
   "cell_type": "code",
   "source": [
    "from sklearn.datasets import load_iris\n",
    "from sklearn.model_selection import train_test_split\n",
    "from sklearn.tree import DecisionTreeClassifier\n",
    "\n",
    "# 1) Load the data\n",
    "data = load_iris()\n",
    "X = data.data          # shape (150, 4): the four measurements\n",
    "y = data.target        # shape (150,): class labels 0,1,2\n",
    "\n",
    "# 2) Split into train & test\n",
    "X_train, X_test, y_train, y_test = train_test_split(\n",
    "    X, y,\n",
    "    test_size=0.2      # 20% for testing, 80% for training\n",
    ")\n",
    "\n",
    "# 3) Instantiate the model\n",
    "clf = DecisionTreeClassifier(\n",
    "    criterion='gini',  # default splitting criterion\n",
    "    max_depth=None,    # no limit on tree depth\n",
    "    random_state=42    # for reproducible splits\n",
    ")\n",
    "\n",
    "# 4) Train (fit) the model on the training set\n",
    "clf.fit(X_train, y_train)\n",
    "\n",
    "# 5) Predict labels on the test set\n",
    "predictions = clf.predict(X_test)\n",
    "\n",
    "print(predictions)\n"
   ],
   "id": "9a4517f1a3460adb",
   "outputs": [
    {
     "name": "stdout",
     "output_type": "stream",
     "text": [
      "[2 1 2 0 2 1 1 1 1 2 1 0 1 1 2 1 0 0 0 2 2 0 2 0 1 2 0 0 0 0]\n"
     ]
    }
   ],
   "execution_count": 22
  },
  {
   "metadata": {
    "ExecuteTime": {
     "end_time": "2025-07-08T23:06:54.458088Z",
     "start_time": "2025-07-08T23:06:54.447846Z"
    }
   },
   "cell_type": "code",
   "source": [
    "from sklearn.metrics import accuracy_score, classification_report\n",
    "print(\"Accuracy:\", accuracy_score(y_test, predictions))\n",
    "print(classification_report(y_test, predictions, target_names=data.target_names))\n"
   ],
   "id": "8bff893baf2a5692",
   "outputs": [
    {
     "name": "stdout",
     "output_type": "stream",
     "text": [
      "Accuracy: 0.9666666666666667\n",
      "              precision    recall  f1-score   support\n",
      "\n",
      "      setosa       1.00      1.00      1.00        11\n",
      "  versicolor       0.90      1.00      0.95         9\n",
      "   virginica       1.00      0.90      0.95        10\n",
      "\n",
      "    accuracy                           0.97        30\n",
      "   macro avg       0.97      0.97      0.96        30\n",
      "weighted avg       0.97      0.97      0.97        30\n",
      "\n"
     ]
    }
   ],
   "execution_count": 23
  },
  {
   "metadata": {
    "ExecuteTime": {
     "end_time": "2025-07-08T23:26:19.632840Z",
     "start_time": "2025-07-08T23:26:18.996698Z"
    }
   },
   "cell_type": "code",
   "source": [
    "from sklearn.tree import plot_tree\n",
    "import matplotlib.pyplot as plt\n",
    "\n",
    "plt.figure(figsize=(12, 8))\n",
    "plot_tree(clf, feature_names=data.feature_names, class_names=data.target_names, filled=True)\n",
    "plt.show()\n"
   ],
   "id": "fc8823e7189d3876",
   "outputs": [
    {
     "data": {
      "text/plain": [
       "<Figure size 1200x800 with 1 Axes>"
      ],
      "image/png": "[encoded data removed]"
     },
     "metadata": {},
     "output_type": "display_data"
    }
   ],
   "execution_count": 24
  },
  {
   "metadata": {},
   "cell_type": "code",
   "outputs": [],
   "execution_count": null,
   "source": "",
   "id": "63cbf4a6da350b04"
  }
 ],
 "metadata": {
  "kernelspec": {
   "display_name": "Python 3",
   "language": "python",
   "name": "python3"
  },
  "language_info": {
   "codemirror_mode": {
    "name": "ipython",
    "version": 2
   },
   "file_extension": ".py",
   "mimetype": "text/x-python",
   "name": "python",
   "nbconvert_exporter": "python",
   "pygments_lexer": "ipython2",
   "version": "2.7.6"
  }
 },
 "nbformat": 4,
 "nbformat_minor": 5
}
