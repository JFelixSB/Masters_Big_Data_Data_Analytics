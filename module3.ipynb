{
 "cells": [
  {
   "metadata": {},
   "cell_type": "markdown",
   "source": "# MODULE 3 - Basis of Statistical Reasoning",
   "id": "7711a10ef84e8a5d"
  },
  {
   "metadata": {},
   "cell_type": "markdown",
   "source": [
    "## 3.1.1 Probability Example\n",
    "\n",
    "> P(P) = (# of transactions where P was bought)/ n"
   ],
   "id": "b906e53006c9e263"
  },
  {
   "metadata": {
    "ExecuteTime": {
     "end_time": "2025-06-24T23:03:36.522357Z",
     "start_time": "2025-06-24T23:03:35.306071Z"
    }
   },
   "cell_type": "code",
   "source": "import pandas as pd",
   "id": "9e04d5e88f040f97",
   "outputs": [],
   "execution_count": 1
  },
  {
   "metadata": {
    "ExecuteTime": {
     "end_time": "2025-06-25T00:02:35.239326Z",
     "start_time": "2025-06-25T00:02:35.232350Z"
    }
   },
   "cell_type": "code",
   "source": [
    "# Suppose 'transactions' is a pandas DF, where each row is a transaction\n",
    "# and there is a col named 'products' where it lists all the products in that\n",
    "# transaction\n",
    "transactions = pd.read_csv('example_files/transactions.csv')\n",
    "print(transactions)\n",
    "\n",
    "# Count total # of transactions\n",
    "total_transactions = len(transactions)\n",
    "print('Total transactions = ',total_transactions)\n",
    "\n",
    "# Just out of curiosity to learn how to pick out elements of a DF\n",
    "for i,j in transactions.iterrows():\n",
    "    if 'P' in j['products']:\n",
    "        print(i, j)\n",
    "\n",
    "\n",
    "# Count # of transactions where P was bought\n",
    "product_p_transactions = transactions['products'].apply(lambda x: 'P' in x).sum()\n",
    "print('Product P transactions = ', product_p_transactions)\n",
    "\n",
    "# Calculate probability\n",
    "p_p = product_p_transactions / total_transactions\n",
    "print('P(P) = ', p_p)"
   ],
   "id": "586834baf096170e",
   "outputs": [
    {
     "name": "stdout",
     "output_type": "stream",
     "text": [
      "  products\n",
      "0    A,B,P\n",
      "1      C,D\n",
      "2        P\n",
      "3    A,P,D\n",
      "4        E\n",
      "5      B,C\n",
      "6      P,E\n",
      "7        A\n",
      "8      D,P\n",
      "Total transactions =  9\n",
      "row:  0 products    A,B,P\n",
      "Name: 0, dtype: object\n",
      "row:  2 products    P\n",
      "Name: 2, dtype: object\n",
      "row:  3 products    A,P,D\n",
      "Name: 3, dtype: object\n",
      "row:  6 products    P,E\n",
      "Name: 6, dtype: object\n",
      "row:  8 products    D,P\n",
      "Name: 8, dtype: object\n",
      "Product P transactions =  5\n",
      "P(P) =  0.5555555555555556\n"
     ]
    }
   ],
   "execution_count": 23
  },
  {
   "metadata": {},
   "cell_type": "markdown",
   "source": "",
   "id": "a65eceab369b6f75"
  },
  {
   "metadata": {},
   "cell_type": "markdown",
   "source": "## 3.1.2.1 Sample Space",
   "id": "636a3d32ac3dcf73"
  },
  {
   "metadata": {
    "ExecuteTime": {
     "end_time": "2025-06-25T00:32:05.793298Z",
     "start_time": "2025-06-25T00:32:05.787910Z"
    }
   },
   "cell_type": "code",
   "source": "import numpy as np",
   "id": "951e3305fac7ff8d",
   "outputs": [],
   "execution_count": 24
  },
  {
   "metadata": {
    "ExecuteTime": {
     "end_time": "2025-06-25T00:36:31.116298Z",
     "start_time": "2025-06-25T00:36:31.106686Z"
    }
   },
   "cell_type": "code",
   "source": [
    "ecommerce_data = pd.read_csv('example_files/ecommerce.csv')\n",
    "print(ecommerce_data)\n",
    "\n",
    "product_sample_space = ecommerce_data['product'].unique()\n",
    "print(product_sample_space)\n",
    "\n",
    "num_possible_outcomes = len(product_sample_space)\n",
    "print('Number of possible outcomes = ', num_possible_outcomes)\n",
    "\n",
    "amount_spent_sample_space = np.linspace(ecommerce_data['amount_spent'].min(), ecommerce_data['amount_spent'].max(), 1000)\n",
    "# print('Amount spent space = ', amount_spent_sample_space)\n",
    "\n",
    "length_of_sample_space = amount_spent_sample_space[-1] - amount_spent_sample_space[0]\n",
    "print('Length of sample space = ', length_of_sample_space)\n",
    "\n",
    "event_product_A = ecommerce_data[ecommerce_data['product'] == 'A']\n",
    "print('Event product A = ', event_product_A)\n",
    "\n",
    "event_spent_over_100 = ecommerce_data[ecommerce_data['amount_spent'] > 100]\n",
    "print('Event spent over 100 = ', event_spent_over_100)\n",
    "\n",
    "\n"
   ],
   "id": "8deb5095d0edb2c7",
   "outputs": [
    {
     "name": "stdout",
     "output_type": "stream",
     "text": [
      "  product  amount_spent\n",
      "0       A           120\n",
      "1       B            80\n",
      "2       C           200\n",
      "3       A            90\n",
      "4       D           150\n",
      "5       B            60\n",
      "6       E           300\n",
      "7       A           100\n",
      "8       C            50\n",
      "9       D           130\n",
      "['A' 'B' 'C' 'D' 'E']\n",
      "Number of possible outcomes =  5\n",
      "Length of sample space =  250.0\n",
      "Event product A =    product  amount_spent\n",
      "0       A           120\n",
      "3       A            90\n",
      "7       A           100\n",
      "Event spent over 100 =    product  amount_spent\n",
      "0       A           120\n",
      "2       C           200\n",
      "4       D           150\n",
      "6       E           300\n",
      "9       D           130\n"
     ]
    }
   ],
   "execution_count": 31
  },
  {
   "metadata": {},
   "cell_type": "code",
   "outputs": [],
   "execution_count": null,
   "source": "",
   "id": "15ee45c46d50997e"
  }
 ],
 "metadata": {
  "kernelspec": {
   "display_name": "Python 3",
   "language": "python",
   "name": "python3"
  },
  "language_info": {
   "codemirror_mode": {
    "name": "ipython",
    "version": 2
   },
   "file_extension": ".py",
   "mimetype": "text/x-python",
   "name": "python",
   "nbconvert_exporter": "python",
   "pygments_lexer": "ipython2",
   "version": "2.7.6"
  }
 },
 "nbformat": 4,
 "nbformat_minor": 5
}
