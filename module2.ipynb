{
 "cells": [
  {
   "metadata": {
    "ExecuteTime": {
     "end_time": "2025-06-13T21:05:24.027411Z",
     "start_time": "2025-06-13T21:05:24.021111Z"
    }
   },
   "cell_type": "code",
   "source": [
    "import math\n",
    "\n",
    "for i in range(20):\n",
    "    print(i)"
   ],
   "id": "b9001a988dcb100b",
   "outputs": [
    {
     "name": "stdout",
     "output_type": "stream",
     "text": [
      "0\n",
      "1\n",
      "2\n",
      "3\n",
      "4\n",
      "5\n",
      "6\n",
      "7\n",
      "8\n",
      "9\n",
      "10\n",
      "11\n",
      "12\n",
      "13\n",
      "14\n",
      "15\n",
      "16\n",
      "17\n",
      "18\n",
      "19\n"
     ]
    }
   ],
   "execution_count": 3
  },
  {
   "metadata": {
    "ExecuteTime": {
     "end_time": "2025-06-13T21:12:56.483351Z",
     "start_time": "2025-06-13T21:12:56.472990Z"
    }
   },
   "cell_type": "code",
   "source": [
    "a_dict = {'a': 1, 'b': 2, 'c': 3}\n",
    "for k, v in a_dict.items():\n",
    "    print(k, v)\n",
    "else:\n",
    "    print(\"no value\")"
   ],
   "id": "e7f21393188fd19f",
   "outputs": [
    {
     "name": "stdout",
     "output_type": "stream",
     "text": [
      "a 1\n",
      "b 2\n",
      "c 3\n",
      "no value\n"
     ]
    }
   ],
   "execution_count": 5
  },
  {
   "metadata": {
    "ExecuteTime": {
     "end_time": "2025-06-13T21:15:25.444049Z",
     "start_time": "2025-06-13T21:15:25.440842Z"
    }
   },
   "cell_type": "code",
   "source": [
    "try:\n",
    "    with open('non_existent_file.txt', 'r') as file:\n",
    "        print(file.read())\n",
    "except FileNotFoundError:\n",
    "    print(\"file not found\")"
   ],
   "id": "35a3f2431df4232b",
   "outputs": [
    {
     "name": "stdout",
     "output_type": "stream",
     "text": [
      "file not found\n"
     ]
    }
   ],
   "execution_count": 7
  },
  {
   "metadata": {
    "ExecuteTime": {
     "end_time": "2025-06-13T21:55:45.781111Z",
     "start_time": "2025-06-13T21:55:45.778764Z"
    }
   },
   "cell_type": "code",
   "source": "import pandas as pd",
   "id": "d88e26b276914134",
   "outputs": [],
   "execution_count": 10
  },
  {
   "metadata": {
    "ExecuteTime": {
     "end_time": "2025-06-14T15:11:00.332059Z",
     "start_time": "2025-06-14T15:10:59.678749Z"
    }
   },
   "cell_type": "code",
   "source": [
    "import requests\n",
    "import json\n",
    "\n",
    "url = \"https://api.freecurrencyapi.com/v1/latest?apikey=fca_live_JEaSoGwcjZnaXs28dh054Td3NgI41yJnL6Iat7l5&currencies=EUR%2CUSD%2CCAD\"\n",
    "\n",
    "resp = requests.get(url, timeout=10)\n",
    "resp.raise_for_status()\n",
    "\n",
    "data = resp.json()\n",
    "print(json.dumps(data, indent=2))\n",
    "exchange_rate_eur = data[\"data\"][\"EUR\"]\n",
    "exchange_rate_cad = data[\"data\"][\"CAD\"]"
   ],
   "id": "cc8d8802412279f4",
   "outputs": [
    {
     "name": "stdout",
     "output_type": "stream",
     "text": [
      "{\n",
      "  \"data\": {\n",
      "    \"CAD\": 1.3587901452,\n",
      "    \"EUR\": 0.8661301199,\n",
      "    \"USD\": 1\n",
      "  }\n",
      "}\n"
     ]
    }
   ],
   "execution_count": 17
  },
  {
   "metadata": {
    "ExecuteTime": {
     "end_time": "2025-06-14T15:32:08.821266Z",
     "start_time": "2025-06-14T15:32:08.811194Z"
    }
   },
   "cell_type": "code",
   "source": [
    "rate_safe = data.get(\"data\",{})\n",
    "print(rate_safe)"
   ],
   "id": "402c5ba0cdab5a00",
   "outputs": [
    {
     "name": "stdout",
     "output_type": "stream",
     "text": [
      "{'CAD': 1.3587901452, 'EUR': 0.8661301199, 'USD': 1}\n"
     ]
    }
   ],
   "execution_count": 24
  },
  {
   "metadata": {
    "ExecuteTime": {
     "end_time": "2025-06-14T15:34:11.493306Z",
     "start_time": "2025-06-14T15:34:11.488755Z"
    }
   },
   "cell_type": "code",
   "source": [
    "eur_rate_safe = data.get(\"data\",{}).get(\"EUR\")\n",
    "cad_rate_safe = data.get(\"data\",{}).get(\"CAD\")\n",
    "print(f\"{eur_rate_safe} Euro safe rate\")\n",
    "print(f\"{cad_rate_safe} Cad safe rate\")"
   ],
   "id": "a0847c3264054cf3",
   "outputs": [
    {
     "name": "stdout",
     "output_type": "stream",
     "text": [
      "0.8661301199 Euro safe rate\n",
      "1.3587901452 Cad safe rate\n"
     ]
    }
   ],
   "execution_count": 25
  },
  {
   "metadata": {
    "ExecuteTime": {
     "end_time": "2025-06-14T15:11:03.699794Z",
     "start_time": "2025-06-14T15:11:03.696117Z"
    }
   },
   "cell_type": "code",
   "source": [
    "print(f\"{exchange_rate_eur} EUR\")\n",
    "print(f\"{exchange_rate_cad} CAD\")"
   ],
   "id": "967b867dc00d9763",
   "outputs": [
    {
     "name": "stdout",
     "output_type": "stream",
     "text": [
      "0.8661301199 EUR\n",
      "1.3587901452 CAD\n"
     ]
    }
   ],
   "execution_count": 18
  },
  {
   "metadata": {
    "ExecuteTime": {
     "end_time": "2025-06-14T15:15:52.064750Z",
     "start_time": "2025-06-14T15:15:52.056375Z"
    }
   },
   "cell_type": "code",
   "source": [
    "df = pd.DataFrame({\n",
    "    'price_usd': list(range(10,101,10))\n",
    "})\n",
    "\n",
    "df['price_eur'] = df['price_usd'].apply(lambda x : x * float(exchange_rate_eur))\n",
    "df['price_cad'] = df['price_usd'].apply(lambda x : x * float(exchange_rate_cad))\n",
    "\n",
    "print(df)"
   ],
   "id": "16cf3264b6e4d8f5",
   "outputs": [
    {
     "name": "stdout",
     "output_type": "stream",
     "text": [
      "   price_usd  price_eur   price_cad\n",
      "0         10   8.661301   13.587901\n",
      "1         20  17.322602   27.175803\n",
      "2         30  25.983904   40.763704\n",
      "3         40  34.645205   54.351606\n",
      "4         50  43.306506   67.939507\n",
      "5         60  51.967807   81.527409\n",
      "6         70  60.629108   95.115310\n",
      "7         80  69.290410  108.703212\n",
      "8         90  77.951711  122.291113\n",
      "9        100  86.613012  135.879015\n"
     ]
    }
   ],
   "execution_count": 21
  },
  {
   "metadata": {
    "ExecuteTime": {
     "end_time": "2025-06-14T15:18:58.319188Z",
     "start_time": "2025-06-14T15:18:58.308365Z"
    }
   },
   "cell_type": "code",
   "source": "print(df.iloc[0])",
   "id": "e80b0c41e2cc408",
   "outputs": [
    {
     "name": "stdout",
     "output_type": "stream",
     "text": [
      "price_usd    10.000000\n",
      "price_eur     8.661301\n",
      "price_cad    13.587901\n",
      "Name: 0, dtype: float64\n"
     ]
    }
   ],
   "execution_count": 23
  },
  {
   "metadata": {
    "ExecuteTime": {
     "end_time": "2025-06-14T15:44:43.072804Z",
     "start_time": "2025-06-14T15:44:43.067562Z"
    }
   },
   "cell_type": "code",
   "source": "import numpy as np",
   "id": "e9b84fc409e2fdb4",
   "outputs": [],
   "execution_count": 26
  },
  {
   "metadata": {
    "ExecuteTime": {
     "end_time": "2025-06-14T15:45:00.951775Z",
     "start_time": "2025-06-14T15:45:00.949471Z"
    }
   },
   "cell_type": "code",
   "source": [
    "a = np.array([1,2,3,4,5])\n",
    "print(a)"
   ],
   "id": "47c251120c5df1a1",
   "outputs": [
    {
     "name": "stdout",
     "output_type": "stream",
     "text": [
      "[1 2 3 4 5]\n"
     ]
    }
   ],
   "execution_count": 27
  },
  {
   "metadata": {
    "ExecuteTime": {
     "end_time": "2025-06-14T15:45:30.369389Z",
     "start_time": "2025-06-14T15:45:30.365736Z"
    }
   },
   "cell_type": "code",
   "source": [
    "b = a*10\n",
    "print(b)"
   ],
   "id": "a364a2b9b04cfcbb",
   "outputs": [
    {
     "name": "stdout",
     "output_type": "stream",
     "text": [
      "[10 20 30 40 50]\n"
     ]
    }
   ],
   "execution_count": 29
  },
  {
   "metadata": {
    "ExecuteTime": {
     "end_time": "2025-06-14T15:46:44.674630Z",
     "start_time": "2025-06-14T15:46:44.672215Z"
    }
   },
   "cell_type": "code",
   "source": [
    "price_eur = df['price_eur']\n",
    "print(price_eur)"
   ],
   "id": "fbfc11edbb522ab5",
   "outputs": [
    {
     "name": "stdout",
     "output_type": "stream",
     "text": [
      "0     8.661301\n",
      "1    17.322602\n",
      "2    25.983904\n",
      "3    34.645205\n",
      "4    43.306506\n",
      "5    51.967807\n",
      "6    60.629108\n",
      "7    69.290410\n",
      "8    77.951711\n",
      "9    86.613012\n",
      "Name: price_eur, dtype: float64\n"
     ]
    }
   ],
   "execution_count": 30
  },
  {
   "metadata": {
    "ExecuteTime": {
     "end_time": "2025-06-14T15:47:35.660581Z",
     "start_time": "2025-06-14T15:47:35.655553Z"
    }
   },
   "cell_type": "code",
   "source": [
    "mean_price_eur = price_eur.mean()\n",
    "print(mean_price_eur)"
   ],
   "id": "7077966b746c83a",
   "outputs": [
    {
     "name": "stdout",
     "output_type": "stream",
     "text": [
      "47.6371565945\n"
     ]
    }
   ],
   "execution_count": 31
  },
  {
   "metadata": {
    "ExecuteTime": {
     "end_time": "2025-06-14T15:52:30.406836Z",
     "start_time": "2025-06-14T15:52:30.404037Z"
    }
   },
   "cell_type": "code",
   "source": [
    "import matplotlib.pyplot as plt\n",
    "import math"
   ],
   "id": "cd9835830d450678",
   "outputs": [],
   "execution_count": 39
  },
  {
   "metadata": {
    "ExecuteTime": {
     "end_time": "2025-06-14T15:52:32.779197Z",
     "start_time": "2025-06-14T15:52:32.721639Z"
    }
   },
   "cell_type": "code",
   "source": [
    "x = np.linspace(0,2*math.pi,100)\n",
    "y = np.sin(x)\n",
    "\n",
    "plt.plot(x,y)\n",
    "\n",
    "plt.xlabel('x')\n",
    "plt.ylabel('sin(x)')\n",
    "plt.title('sin(x) graph')\n",
    "\n",
    "plt.show()"
   ],
   "id": "36f7944f06de4617",
   "outputs": [
    {
     "data": {
      "text/plain": [
       "<Figure size 640x480 with 1 Axes>"
      ],
      "image/png": "[encoded data removed]"
     },
     "metadata": {},
     "output_type": "display_data"
    }
   ],
   "execution_count": 40
  },
  {
   "metadata": {},
   "cell_type": "code",
   "outputs": [],
   "execution_count": null,
   "source": "",
   "id": "21b5be7ddba48471"
  }
 ],
 "metadata": {
  "kernelspec": {
   "display_name": "Python 3",
   "language": "python",
   "name": "python3"
  },
  "language_info": {
   "codemirror_mode": {
    "name": "ipython",
    "version": 2
   },
   "file_extension": ".py",
   "mimetype": "text/x-python",
   "name": "python",
   "nbconvert_exporter": "python",
   "pygments_lexer": "ipython2",
   "version": "2.7.6"
  }
 },
 "nbformat": 4,
 "nbformat_minor": 5
}
